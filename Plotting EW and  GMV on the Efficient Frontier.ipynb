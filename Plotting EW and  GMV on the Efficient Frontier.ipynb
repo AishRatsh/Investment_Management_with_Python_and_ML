{
 "cells": [
  {
   "cell_type": "markdown",
   "metadata": {},
   "source": [
    "## Lack of Robustness of the Markowitz Procedure, and the GMV"
   ]
  },
  {
   "cell_type": "code",
   "execution_count": 1,
   "metadata": {},
   "outputs": [],
   "source": [
    "%load_ext autoreload\n",
    "%autoreload 2\n",
    "%matplotlib inline\n",
    "import numpy as np\n",
    "import pandas as pd\n",
    "import risk_kit as kit"
   ]
  },
  {
   "cell_type": "code",
   "execution_count": 2,
   "metadata": {},
   "outputs": [],
   "source": [
    "ind = kit.get_ind_returns()\n",
    "er = kit.annualize_rets(ind[\"1996\":\"2000\"], 12)\n",
    "cov = ind[\"1996\":\"2000\"].cov()"
   ]
  },
  {
   "cell_type": "code",
   "execution_count": 4,
   "metadata": {},
   "outputs": [
    {
     "data": {
      "text/plain": [
       "array([0.75040362, 0.24959638])"
      ]
     },
     "execution_count": 4,
     "metadata": {},
     "output_type": "execute_result"
    }
   ],
   "source": [
    "l = [\"Food\", \"Steel\"]\n",
    "kit.max_Sharpe_ratio(0.1, er[l], cov.loc[l,l])"
   ]
  },
  {
   "cell_type": "code",
   "execution_count": 5,
   "metadata": {},
   "outputs": [
    {
     "data": {
      "text/plain": [
       "Food     0.116799\n",
       "Steel    0.115809\n",
       "dtype: float64"
      ]
     },
     "execution_count": 5,
     "metadata": {},
     "output_type": "execute_result"
    }
   ],
   "source": [
    "er[l] # This is insample exercise. Otherwise, there wont be a way to know expected returns exactly."
   ]
  },
  {
   "cell_type": "code",
   "execution_count": 6,
   "metadata": {},
   "outputs": [
    {
     "data": {
      "text/plain": [
       "array([0.57930354, 0.42069646])"
      ]
     },
     "execution_count": 6,
     "metadata": {},
     "output_type": "execute_result"
    }
   ],
   "source": [
    "# Assume that we made a reasonable guess for expected return 11% for food and 12% for steel {not changing cov matrix for now}\n",
    "kit.max_Sharpe_ratio(0.1, np.array([.11,.12]), cov.loc[l,l])"
   ]
  },
  {
   "cell_type": "markdown",
   "metadata": {},
   "source": [
    "Even a small change in expected returns ends up causing a pretty dramatic change in weights."
   ]
  },
  {
   "cell_type": "code",
   "execution_count": 7,
   "metadata": {},
   "outputs": [
    {
     "data": {
      "text/plain": [
       "array([0., 1.])"
      ]
     },
     "execution_count": 7,
     "metadata": {},
     "output_type": "execute_result"
    }
   ],
   "source": [
    "# Now make a guess of 10% and 13%\n",
    "kit.max_Sharpe_ratio(0.1, np.array([.10,.13]), cov.loc[l,l]) # gave 100% in steel"
   ]
  },
  {
   "cell_type": "code",
   "execution_count": 8,
   "metadata": {},
   "outputs": [
    {
     "data": {
      "text/plain": [
       "array([1., 0.])"
      ]
     },
     "execution_count": 8,
     "metadata": {},
     "output_type": "execute_result"
    }
   ],
   "source": [
    "kit.max_Sharpe_ratio(0.1, np.array([.13,.10]), cov.loc[l,l])"
   ]
  },
  {
   "cell_type": "markdown",
   "metadata": {},
   "source": [
    "### The fact that if you are off by even a little bit in your expected returns, the resulting weights of the portfolio are dramatically altered. This is error maximizing nature of Markowitz. \n",
    "The estimation error is fairly minor, but there is massive shift in portfolio weights."
   ]
  },
  {
   "cell_type": "code",
   "execution_count": 11,
   "metadata": {},
   "outputs": [
    {
     "data": {
      "text/plain": [
       "<matplotlib.axes._subplots.AxesSubplot at 0x24dab535808>"
      ]
     },
     "execution_count": 11,
     "metadata": {},
     "output_type": "execute_result"
    },
    {
     "data": {
      "image/png": "[encoded data removed]",
      "text/plain": [
       "<Figure size 432x288 with 1 Axes>"
      ]
     },
     "metadata": {
      "needs_background": "light"
     },
     "output_type": "display_data"
    }
   ],
   "source": [
    "# Plot the portfolio\n",
    "kit.plot_ef(20, er, cov, show_cml=True, risk_free_rate=0.1)"
   ]
  },
  {
   "cell_type": "markdown",
   "metadata": {},
   "source": [
    "To get to the big green dot, it is not easy as you need a really good estimate of the expected returns. On that efficient frontier, there is one portfolio where you don't need expected returns. The portfolio at the nose of Efficient frontier curve, has the minimum volatility. The portfolio with the minimum possible volatility is called GMV (Global Minimum Variance) portfolio.\n",
    "There is one more way to avoid the expected returns. That is the equal weight portfolio or the Naive Diversification Portfolio."
   ]
  },
  {
   "cell_type": "code",
   "execution_count": 12,
   "metadata": {},
   "outputs": [
    {
     "data": {
      "text/plain": [
       "<matplotlib.axes._subplots.AxesSubplot at 0x24da96ff648>"
      ]
     },
     "execution_count": 12,
     "metadata": {},
     "output_type": "execute_result"
    },
    {
     "data": {
      "image/png": "[encoded data removed]",
      "text/plain": [
       "<Figure size 432x288 with 1 Axes>"
      ]
     },
     "metadata": {
      "needs_background": "light"
     },
     "output_type": "display_data"
    }
   ],
   "source": [
    "kit.plot_ef(20, er, cov, show_cml=True, risk_free_rate=0.1, show_ew=True)"
   ]
  },
  {
   "cell_type": "markdown",
   "metadata": {},
   "source": [
    "The equally weighted portfolio gave a position inside Eficient Frontier, but it took no work to get there. We'll try to identify the spot of GMV portfolio."
   ]
  },
  {
   "cell_type": "markdown",
   "metadata": {},
   "source": [
    "The optimizer can do GMV portfolio because it finds the max Sharpe Ratio. If all expected returns are the same, the max Sharpe Ratio is same as GMV portfolio because the optimizer cannot do anything with the return, the only way to improve the Sharpe ratio is by dropping volatility."
   ]
  },
  {
   "cell_type": "code",
   "execution_count": 14,
   "metadata": {},
   "outputs": [
    {
     "data": {
      "text/plain": [
       "<matplotlib.axes._subplots.AxesSubplot at 0x24dae849ac8>"
      ]
     },
     "execution_count": 14,
     "metadata": {},
     "output_type": "execute_result"
    },
    {
     "data": {
      "image/png": "[encoded data removed]",
      "text/plain": [
       "<Figure size 432x288 with 1 Axes>"
      ]
     },
     "metadata": {
      "needs_background": "light"
     },
     "output_type": "display_data"
    }
   ],
   "source": [
    "kit.plot_ef(20, er, cov, show_cml=True, risk_free_rate=0.1, show_ew=True, show_gmv=True)"
   ]
  },
  {
   "cell_type": "markdown",
   "metadata": {},
   "source": [
    "Estimating covariance matrix is a lot easier than estimating the expected returns. "
   ]
  }
 ],
 "metadata": {
  "kernelspec": {
   "display_name": "Python 3",
   "language": "python",
   "name": "python3"
  },
  "language_info": {
   "codemirror_mode": {
    "name": "ipython",
    "version": 3
   },
   "file_extension": ".py",
   "mimetype": "text/x-python",
   "name": "python",
   "nbconvert_exporter": "python",
   "pygments_lexer": "ipython3",
   "version": "3.8.3"
  }
 },
 "nbformat": 4,
 "nbformat_minor": 2
}
