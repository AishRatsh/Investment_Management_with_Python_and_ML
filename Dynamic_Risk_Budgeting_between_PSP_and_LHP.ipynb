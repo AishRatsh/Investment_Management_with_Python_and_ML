{
 "cells": [
  {
   "cell_type": "markdown",
   "id": "endangered-spanking",
   "metadata": {},
   "source": [
    "## Dynamic Risk Budgeting"
   ]
  },
  {
   "cell_type": "code",
   "execution_count": 1,
   "id": "iraqi-slave",
   "metadata": {},
   "outputs": [],
   "source": [
    "import numpy as np\n",
    "import pandas as pd\n",
    "import risk_kit as kit\n",
    "import matplotlib.pyplot as plt\n",
    "import seaborn as sns\n",
    "import warnings"
   ]
  },
  {
   "cell_type": "code",
   "execution_count": 2,
   "id": "manual-stranger",
   "metadata": {},
   "outputs": [],
   "source": [
    "warnings.filterwarnings('ignore')\n",
    "%matplotlib inline\n",
    "%load_ext autoreload\n",
    "%autoreload 2"
   ]
  },
  {
   "cell_type": "code",
   "execution_count": 6,
   "id": "killing-preview",
   "metadata": {},
   "outputs": [],
   "source": [
    "n_scenarios = 5000\n",
    "rates, zc_prices = kit.cir(10, n_scenarios=n_scenarios, b=0.03, r_0=0.03, sigma=0.02)\n",
    "price_equity = kit.gbm(n_years=10, n_scenarios=n_scenarios, mu=0.07, sigma=0.15)"
   ]
  },
  {
   "cell_type": "code",
   "execution_count": 9,
   "id": "sound-essay",
   "metadata": {},
   "outputs": [
    {
     "data": {
      "text/html": [
       "<div>\n",
       "<style scoped>\n",
       "    .dataframe tbody tr th:only-of-type {\n",
       "        vertical-align: middle;\n",
       "    }\n",
       "\n",
       "    .dataframe tbody tr th {\n",
       "        vertical-align: top;\n",
       "    }\n",
       "\n",
       "    .dataframe thead th {\n",
       "        text-align: right;\n",
       "    }\n",
       "</style>\n",
       "<table border=\"1\" class=\"dataframe\">\n",
       "  <thead>\n",
       "    <tr style=\"text-align: right;\">\n",
       "      <th></th>\n",
       "      <th>ZC</th>\n",
       "      <th>Eq</th>\n",
       "      <th>70/30</th>\n",
       "    </tr>\n",
       "  </thead>\n",
       "  <tbody>\n",
       "    <tr>\n",
       "      <th>mean</th>\n",
       "      <td>1.34</td>\n",
       "      <td>1.99</td>\n",
       "      <td>1.77</td>\n",
       "    </tr>\n",
       "    <tr>\n",
       "      <th>std</th>\n",
       "      <td>0.00</td>\n",
       "      <td>1.01</td>\n",
       "      <td>0.60</td>\n",
       "    </tr>\n",
       "    <tr>\n",
       "      <th>p_breach</th>\n",
       "      <td>NaN</td>\n",
       "      <td>0.03</td>\n",
       "      <td>0.01</td>\n",
       "    </tr>\n",
       "    <tr>\n",
       "      <th>e_short</th>\n",
       "      <td>NaN</td>\n",
       "      <td>0.12</td>\n",
       "      <td>0.06</td>\n",
       "    </tr>\n",
       "    <tr>\n",
       "      <th>p_reach</th>\n",
       "      <td>NaN</td>\n",
       "      <td>NaN</td>\n",
       "      <td>NaN</td>\n",
       "    </tr>\n",
       "    <tr>\n",
       "      <th>e_surplus</th>\n",
       "      <td>NaN</td>\n",
       "      <td>NaN</td>\n",
       "      <td>NaN</td>\n",
       "    </tr>\n",
       "  </tbody>\n",
       "</table>\n",
       "</div>"
      ],
      "text/plain": [
       "             ZC    Eq  70/30\n",
       "mean       1.34  1.99   1.77\n",
       "std        0.00  1.01   0.60\n",
       "p_breach    NaN  0.03   0.01\n",
       "e_short     NaN  0.12   0.06\n",
       "p_reach     NaN   NaN    NaN\n",
       "e_surplus   NaN   NaN    NaN"
      ]
     },
     "execution_count": 9,
     "metadata": {},
     "output_type": "execute_result"
    }
   ],
   "source": [
    "# Generate returns\n",
    "returns_equity =  price_equity.pct_change().dropna()\n",
    "# Compute the returns of zero-coupon bond. \n",
    "returns_zerocoupon = zc_prices.pct_change().dropna()\n",
    "returns_7030bond = kit.backtest_mix(returns_equity, returns_zerocoupon, allocator=kit.fixed_mix_allocator, w1=0.7)\n",
    "# Using the zero-coupons as a proxy for a duration matched portfolio.\n",
    "# It was proved that we can use regular bonds to construct a duration matched portfolio \n",
    "# that matches our liabilities and gives us many of the same advantages that a zero-coupon bond would.\n",
    "pd.concat([\n",
    "            kit.terminal_stats(returns_zerocoupon, name=\"ZC\", floor=0.75),\n",
    "            kit.terminal_stats(returns_equity, name=\"Eq\", floor=0.75),\n",
    "            kit.terminal_stats(returns_7030bond, name=\"70/30\", floor=0.75),\n",
    "          ], axis=1).round(2)"
   ]
  },
  {
   "cell_type": "markdown",
   "id": "attempted-victor",
   "metadata": {},
   "source": [
    "This shows the basic fundamental problem thatno matter what we do with these simplistic mixes, we are not able to solve this breach problem."
   ]
  },
  {
   "cell_type": "markdown",
   "id": "sporting-wisdom",
   "metadata": {},
   "source": [
    "The reason these breaches are happening is because the allocator is blind to the floor that I have targetted. So it makes sense that these things will not be able to meet the floor requirement."
   ]
  },
  {
   "cell_type": "code",
   "execution_count": 10,
   "id": "overall-outreach",
   "metadata": {},
   "outputs": [],
   "source": [
    "# New allocator which takes consideration of the floor\n",
    "def floor_allocator(psp_r, ghp_r, floor, zc_prices, m=3):\n",
    "    \"\"\"\n",
    "    Allocate between PSP and GHP withthe goal to provide exposure to the upside\n",
    "    of the PSP without violating the floor requirement.\n",
    "    Uses a CPPI-style dynamic risk budgeting algorithm by investing a multiple of the cushion \n",
    "    in the PSP.\n",
    "    Returns a dataframe with the same shape as the php/ghp representing the weights in the PSP.\n",
    "    \"\"\"\n",
    "    if zc_prices.shape != psp_r.shape:\n",
    "        raise ValueError(\"PSP and ZC prices must have the same shape\")\n",
    "    \n",
    "    n_steps, n_scenarios = psp_r.shape\n",
    "    # Start with a $1 in every single scenario\n",
    "    account_value = np.repeat(1, n_scenarios)\n",
    "    floor_value = np.repeat(1, n_scenarios)\n",
    "    w_history = pd.DataFrame(index=psp_r.index, columns=psp_r.columns)\n",
    "    for step in range(n_steps):\n",
    "        floor_value = floor*zc_prices.iloc[step] # PV of Floor assuming today's rates and flat YC\n",
    "        cushion = (account_value - floor_value)/account_value\n",
    "        psp_w = (m*cushion).clip(0,1) #same as applying min and max\n",
    "        ghp_w = 1 - psp_w\n",
    "        psp_alloc = account_value*psp_w\n",
    "        ghp_alloc = account_value*ghp_w\n",
    "        # Recompute the account value at the end of this step.\n",
    "        account_value = psp_alloc * (1+psp_r.iloc[step]) + ghp_alloc * (1+ghp_r.iloc[step])\n",
    "        w_history.iloc[step] = psp_w\n",
    "    return w_history"
   ]
  },
  {
   "cell_type": "markdown",
   "id": "overhead-motor",
   "metadata": {},
   "source": [
    "    The reason the allocator needs the zero coupon bond prices is because it can then discount the value of that floor to the present value. Because, if you know the price of zero coupon bond today, you know exactly what the present value of the floor is. Because it's nothing more than the discounted value of the floor and the discount to apply is exactly what the discount value is today for a zero coupon bond, that is nothing more than the price of the zero-coupon bond."
   ]
  },
  {
   "cell_type": "markdown",
   "id": "arctic-pacific",
   "metadata": {},
   "source": [
    "The job of this allocator is to make sure that as account value gets closer and closer to the present value of the floor, its going to get more and more into the safe asset, into the GHP, into the zero-coupon bond in this particular case or the duration matched portfolio."
   ]
  },
  {
   "cell_type": "code",
   "execution_count": 11,
   "id": "shaped-morning",
   "metadata": {},
   "outputs": [
    {
     "data": {
      "text/html": [
       "<div>\n",
       "<style scoped>\n",
       "    .dataframe tbody tr th:only-of-type {\n",
       "        vertical-align: middle;\n",
       "    }\n",
       "\n",
       "    .dataframe tbody tr th {\n",
       "        vertical-align: top;\n",
       "    }\n",
       "\n",
       "    .dataframe thead th {\n",
       "        text-align: right;\n",
       "    }\n",
       "</style>\n",
       "<table border=\"1\" class=\"dataframe\">\n",
       "  <thead>\n",
       "    <tr style=\"text-align: right;\">\n",
       "      <th></th>\n",
       "      <th>ZC</th>\n",
       "      <th>Eq</th>\n",
       "      <th>70/30</th>\n",
       "      <th>floor75</th>\n",
       "    </tr>\n",
       "  </thead>\n",
       "  <tbody>\n",
       "    <tr>\n",
       "      <th>mean</th>\n",
       "      <td>1.34</td>\n",
       "      <td>1.99</td>\n",
       "      <td>1.77</td>\n",
       "      <td>1.97</td>\n",
       "    </tr>\n",
       "    <tr>\n",
       "      <th>std</th>\n",
       "      <td>0.00</td>\n",
       "      <td>1.01</td>\n",
       "      <td>0.60</td>\n",
       "      <td>1.01</td>\n",
       "    </tr>\n",
       "    <tr>\n",
       "      <th>p_breach</th>\n",
       "      <td>NaN</td>\n",
       "      <td>0.03</td>\n",
       "      <td>0.01</td>\n",
       "      <td>NaN</td>\n",
       "    </tr>\n",
       "    <tr>\n",
       "      <th>e_short</th>\n",
       "      <td>NaN</td>\n",
       "      <td>0.12</td>\n",
       "      <td>0.06</td>\n",
       "      <td>NaN</td>\n",
       "    </tr>\n",
       "    <tr>\n",
       "      <th>p_reach</th>\n",
       "      <td>NaN</td>\n",
       "      <td>NaN</td>\n",
       "      <td>NaN</td>\n",
       "      <td>NaN</td>\n",
       "    </tr>\n",
       "    <tr>\n",
       "      <th>e_surplus</th>\n",
       "      <td>NaN</td>\n",
       "      <td>NaN</td>\n",
       "      <td>NaN</td>\n",
       "      <td>NaN</td>\n",
       "    </tr>\n",
       "  </tbody>\n",
       "</table>\n",
       "</div>"
      ],
      "text/plain": [
       "             ZC    Eq  70/30  floor75\n",
       "mean       1.34  1.99   1.77     1.97\n",
       "std        0.00  1.01   0.60     1.01\n",
       "p_breach    NaN  0.03   0.01      NaN\n",
       "e_short     NaN  0.12   0.06      NaN\n",
       "p_reach     NaN   NaN    NaN      NaN\n",
       "e_surplus   NaN   NaN    NaN      NaN"
      ]
     },
     "execution_count": 11,
     "metadata": {},
     "output_type": "execute_result"
    }
   ],
   "source": [
    "returns_floor75 = kit.backtest_mix(returns_equity, returns_zerocoupon, allocator=floor_allocator, \n",
    "                                floor=0.75, zc_prices=zc_prices[1:])\n",
    "\n",
    "pd.concat([\n",
    "            kit.terminal_stats(returns_zerocoupon, name=\"ZC\", floor=0.75),\n",
    "            kit.terminal_stats(returns_equity, name=\"Eq\", floor=0.75),\n",
    "            kit.terminal_stats(returns_7030bond, name=\"70/30\", floor=0.75),\n",
    "            kit.terminal_stats(returns_floor75, name=\"floor75\", floor=0.75)\n",
    "          ], axis=1).round(2)"
   ]
  },
  {
   "cell_type": "markdown",
   "id": "standing-science",
   "metadata": {},
   "source": [
    "We are doing monthly rebalancing here.\n",
    "\n",
    "The returns were actually better than the 70-30 fixed mix (1.97 vs 1.77). But it is not as good as 100% (1.99). You are giving up about 2cents of terminal value but you are saving about 12cents of possible shortfall."
   ]
  },
  {
   "cell_type": "markdown",
   "id": "exact-opportunity",
   "metadata": {},
   "source": [
    "These dynamic strategies trade off some upside in exchange for cutting off the downside (option-like behaviour)."
   ]
  },
  {
   "cell_type": "markdown",
   "id": "southwest-notification",
   "metadata": {},
   "source": [
    "This ouput has been good. There is no breaches of the floor mainly because we have been rebalancing every month. \n",
    "\n",
    "Now, try a different strategy."
   ]
  },
  {
   "cell_type": "code",
   "execution_count": 12,
   "id": "suffering-rating",
   "metadata": {},
   "outputs": [
    {
     "data": {
      "text/html": [
       "<div>\n",
       "<style scoped>\n",
       "    .dataframe tbody tr th:only-of-type {\n",
       "        vertical-align: middle;\n",
       "    }\n",
       "\n",
       "    .dataframe tbody tr th {\n",
       "        vertical-align: top;\n",
       "    }\n",
       "\n",
       "    .dataframe thead th {\n",
       "        text-align: right;\n",
       "    }\n",
       "</style>\n",
       "<table border=\"1\" class=\"dataframe\">\n",
       "  <thead>\n",
       "    <tr style=\"text-align: right;\">\n",
       "      <th></th>\n",
       "      <th>ZC</th>\n",
       "      <th>Eq</th>\n",
       "      <th>70/30</th>\n",
       "      <th>floor75</th>\n",
       "      <th>floor75m1</th>\n",
       "      <th>floor75m5</th>\n",
       "    </tr>\n",
       "  </thead>\n",
       "  <tbody>\n",
       "    <tr>\n",
       "      <th>mean</th>\n",
       "      <td>1.34</td>\n",
       "      <td>1.99</td>\n",
       "      <td>1.77</td>\n",
       "      <td>1.97</td>\n",
       "      <td>1.63</td>\n",
       "      <td>1.98</td>\n",
       "    </tr>\n",
       "    <tr>\n",
       "      <th>std</th>\n",
       "      <td>0.00</td>\n",
       "      <td>1.01</td>\n",
       "      <td>0.60</td>\n",
       "      <td>1.01</td>\n",
       "      <td>0.44</td>\n",
       "      <td>1.01</td>\n",
       "    </tr>\n",
       "    <tr>\n",
       "      <th>p_breach</th>\n",
       "      <td>NaN</td>\n",
       "      <td>0.03</td>\n",
       "      <td>0.01</td>\n",
       "      <td>NaN</td>\n",
       "      <td>NaN</td>\n",
       "      <td>0.00</td>\n",
       "    </tr>\n",
       "    <tr>\n",
       "      <th>e_short</th>\n",
       "      <td>NaN</td>\n",
       "      <td>0.12</td>\n",
       "      <td>0.06</td>\n",
       "      <td>NaN</td>\n",
       "      <td>NaN</td>\n",
       "      <td>0.00</td>\n",
       "    </tr>\n",
       "    <tr>\n",
       "      <th>p_reach</th>\n",
       "      <td>NaN</td>\n",
       "      <td>NaN</td>\n",
       "      <td>NaN</td>\n",
       "      <td>NaN</td>\n",
       "      <td>NaN</td>\n",
       "      <td>NaN</td>\n",
       "    </tr>\n",
       "    <tr>\n",
       "      <th>e_surplus</th>\n",
       "      <td>NaN</td>\n",
       "      <td>NaN</td>\n",
       "      <td>NaN</td>\n",
       "      <td>NaN</td>\n",
       "      <td>NaN</td>\n",
       "      <td>NaN</td>\n",
       "    </tr>\n",
       "  </tbody>\n",
       "</table>\n",
       "</div>"
      ],
      "text/plain": [
       "             ZC    Eq  70/30  floor75  floor75m1  floor75m5\n",
       "mean       1.34  1.99   1.77     1.97       1.63       1.98\n",
       "std        0.00  1.01   0.60     1.01       0.44       1.01\n",
       "p_breach    NaN  0.03   0.01      NaN        NaN       0.00\n",
       "e_short     NaN  0.12   0.06      NaN        NaN       0.00\n",
       "p_reach     NaN   NaN    NaN      NaN        NaN        NaN\n",
       "e_surplus   NaN   NaN    NaN      NaN        NaN        NaN"
      ]
     },
     "execution_count": 12,
     "metadata": {},
     "output_type": "execute_result"
    }
   ],
   "source": [
    "returns_floor75m1 = kit.backtest_mix(returns_equity, returns_zerocoupon, allocator=floor_allocator, \n",
    "                                floor=0.75, zc_prices=zc_prices[1:], m=1)\n",
    "\n",
    "# m=1 means I will put only the cushion in PSP. If thepresent value of my floor is 80 \n",
    "# and I have 100, I have 20% cushion. I'll put 20% in equities and 80% in safe assets, in bonds.\n",
    "# That is a very inefficient way of doing it but it does make sure that you won't have any violations.\n",
    "\n",
    "# slightly more risky version.\n",
    "returns_floor75m5 = kit.backtest_mix(returns_equity, returns_zerocoupon, allocator=floor_allocator, \n",
    "                                floor=0.75, zc_prices=zc_prices[1:], m=5)\n",
    "\n",
    "\n",
    "pd.concat([\n",
    "            kit.terminal_stats(returns_zerocoupon, name=\"ZC\", floor=0.75),\n",
    "            kit.terminal_stats(returns_equity, name=\"Eq\", floor=0.75),\n",
    "            kit.terminal_stats(returns_7030bond, name=\"70/30\", floor=0.75),\n",
    "            kit.terminal_stats(returns_floor75, name=\"floor75\", floor=0.75),\n",
    "            kit.terminal_stats(returns_floor75m1, name=\"floor75m1\", floor=0.75),\n",
    "            kit.terminal_stats(returns_floor75m5, name=\"floor75m5\", floor=0.75)\n",
    "          ], axis=1).round(2)\n"
   ]
  },
  {
   "cell_type": "code",
   "execution_count": 13,
   "id": "emerging-potential",
   "metadata": {},
   "outputs": [
    {
     "data": {
      "text/html": [
       "<div>\n",
       "<style scoped>\n",
       "    .dataframe tbody tr th:only-of-type {\n",
       "        vertical-align: middle;\n",
       "    }\n",
       "\n",
       "    .dataframe tbody tr th {\n",
       "        vertical-align: top;\n",
       "    }\n",
       "\n",
       "    .dataframe thead th {\n",
       "        text-align: right;\n",
       "    }\n",
       "</style>\n",
       "<table border=\"1\" class=\"dataframe\">\n",
       "  <thead>\n",
       "    <tr style=\"text-align: right;\">\n",
       "      <th></th>\n",
       "      <th>ZC</th>\n",
       "      <th>Eq</th>\n",
       "      <th>70/30</th>\n",
       "      <th>floor75</th>\n",
       "      <th>floor75m1</th>\n",
       "      <th>floor75m5</th>\n",
       "    </tr>\n",
       "  </thead>\n",
       "  <tbody>\n",
       "    <tr>\n",
       "      <th>mean</th>\n",
       "      <td>1.3433</td>\n",
       "      <td>1.9926</td>\n",
       "      <td>1.7711</td>\n",
       "      <td>1.9682</td>\n",
       "      <td>1.6320</td>\n",
       "      <td>1.9790</td>\n",
       "    </tr>\n",
       "    <tr>\n",
       "      <th>std</th>\n",
       "      <td>0.0000</td>\n",
       "      <td>1.0054</td>\n",
       "      <td>0.6026</td>\n",
       "      <td>1.0124</td>\n",
       "      <td>0.4436</td>\n",
       "      <td>1.0137</td>\n",
       "    </tr>\n",
       "    <tr>\n",
       "      <th>p_breach</th>\n",
       "      <td>NaN</td>\n",
       "      <td>0.0300</td>\n",
       "      <td>0.0068</td>\n",
       "      <td>NaN</td>\n",
       "      <td>NaN</td>\n",
       "      <td>0.0002</td>\n",
       "    </tr>\n",
       "    <tr>\n",
       "      <th>e_short</th>\n",
       "      <td>NaN</td>\n",
       "      <td>0.1215</td>\n",
       "      <td>0.0633</td>\n",
       "      <td>NaN</td>\n",
       "      <td>NaN</td>\n",
       "      <td>0.0000</td>\n",
       "    </tr>\n",
       "    <tr>\n",
       "      <th>p_reach</th>\n",
       "      <td>NaN</td>\n",
       "      <td>NaN</td>\n",
       "      <td>NaN</td>\n",
       "      <td>NaN</td>\n",
       "      <td>NaN</td>\n",
       "      <td>NaN</td>\n",
       "    </tr>\n",
       "    <tr>\n",
       "      <th>e_surplus</th>\n",
       "      <td>NaN</td>\n",
       "      <td>NaN</td>\n",
       "      <td>NaN</td>\n",
       "      <td>NaN</td>\n",
       "      <td>NaN</td>\n",
       "      <td>NaN</td>\n",
       "    </tr>\n",
       "  </tbody>\n",
       "</table>\n",
       "</div>"
      ],
      "text/plain": [
       "               ZC      Eq   70/30  floor75  floor75m1  floor75m5\n",
       "mean       1.3433  1.9926  1.7711   1.9682     1.6320     1.9790\n",
       "std        0.0000  1.0054  0.6026   1.0124     0.4436     1.0137\n",
       "p_breach      NaN  0.0300  0.0068      NaN        NaN     0.0002\n",
       "e_short       NaN  0.1215  0.0633      NaN        NaN     0.0000\n",
       "p_reach       NaN     NaN     NaN      NaN        NaN        NaN\n",
       "e_surplus     NaN     NaN     NaN      NaN        NaN        NaN"
      ]
     },
     "execution_count": 13,
     "metadata": {},
     "output_type": "execute_result"
    }
   ],
   "source": [
    "# To check the breach (to see decimal places)\n",
    "pd.concat([\n",
    "            kit.terminal_stats(returns_zerocoupon, name=\"ZC\", floor=0.75),\n",
    "            kit.terminal_stats(returns_equity, name=\"Eq\", floor=0.75),\n",
    "            kit.terminal_stats(returns_7030bond, name=\"70/30\", floor=0.75),\n",
    "            kit.terminal_stats(returns_floor75, name=\"floor75\", floor=0.75),\n",
    "            kit.terminal_stats(returns_floor75m1, name=\"floor75m1\", floor=0.75),\n",
    "            kit.terminal_stats(returns_floor75m5, name=\"floor75m5\", floor=0.75)\n",
    "          ], axis=1).round(4)"
   ]
  },
  {
   "cell_type": "markdown",
   "id": "ancient-newman",
   "metadata": {},
   "source": [
    "With m=1, there is no breach, but I have to give up so much of upside.\n",
    "\n",
    "With m=5, I get the terminal values close tp equities, but there are a very small number of breaches."
   ]
  },
  {
   "cell_type": "markdown",
   "id": "everyday-bubble",
   "metadata": {},
   "source": [
    "### Risk Budgeting with Drawdown Constraints - Drawdown Allocator"
   ]
  },
  {
   "cell_type": "markdown",
   "id": "organized-cycle",
   "metadata": {},
   "source": [
    "The risk budget is not determined in terms of how much I need at the very end but I need to make sure that I do not lose more than a certain amount of money. \n",
    "\n",
    "The drawdown should never be less than a certain percentage. "
   ]
  },
  {
   "cell_type": "markdown",
   "id": "trying-charter",
   "metadata": {},
   "source": [
    "The interesting thing is, you don't have a distant liability. Your liability is well known at any given point in time. Even in a minute from now you do not want to be less than a certain % from where you were in the past. That is a very very short term liability. SO that is a case where you can use cash because cash is very very very short term instrument. The duration of cash is basically zero. \n",
    "\n",
    "So it is an interesting case of how you can build a portfolio that has a drawdown constraint than a fixed floor constraint.\n"
   ]
  },
  {
   "cell_type": "code",
   "execution_count": 16,
   "id": "accessible-intermediate",
   "metadata": {},
   "outputs": [],
   "source": [
    "def drawdown_allocator(psp_r, ghp_r, maxdd, m=3):\n",
    "    \"\"\"\n",
    "    Allocate between PSP and GHP withthe goal to provide exposure to the upside\n",
    "    of the PSP without violating the floor requirement.\n",
    "    Uses a CPPI-style dynamic risk budgeting algorithm by investing a multiple of the cushion \n",
    "    in the PSP.\n",
    "    Returns a dataframe with the same shape as the php/ghp representing the weights in the PSP.\n",
    "    \"\"\"\n",
    "    n_steps, n_scenarios = psp_r.shape\n",
    "    # Start with a $1 in every single scenario\n",
    "    account_value = np.repeat(1, n_scenarios)\n",
    "    floor_value = np.repeat(1, n_scenarios)\n",
    "    peak_value = np.repeat(1, n_scenarios)\n",
    "    w_history = pd.DataFrame(index=psp_r.index, columns=psp_r.columns)\n",
    "    for step in range(n_steps):\n",
    "        floor_value = (1-maxdd) * peak_value # Floor is based on previous peak\n",
    "        cushion = (account_value - floor_value)/account_value\n",
    "        psp_w = (m*cushion).clip(0,1) #same as applying min and max\n",
    "        ghp_w = 1 - psp_w\n",
    "        psp_alloc = account_value*psp_w\n",
    "        ghp_alloc = account_value*ghp_w\n",
    "        # Recompute the new account value and prev peak at the end of this step.\n",
    "        account_value = psp_alloc * (1+psp_r.iloc[step]) + ghp_alloc * (1+ghp_r.iloc[step])\n",
    "        peak_value = np.maximum(peak_value, account_value)\n",
    "        w_history.iloc[step] = psp_w\n",
    "    return w_history"
   ]
  },
  {
   "cell_type": "markdown",
   "id": "recovered-groove",
   "metadata": {},
   "source": [
    "The tricky part here is that you cannot use bonds anymore, not even zer-coupon bonds, because the bonds will drop in price at some point in time, where as you need something with a very, very short duration. And the zero-coupon bond has a duration out to whenever the coupon pays or whenever the bond matures."
   ]
  },
  {
   "cell_type": "code",
   "execution_count": 18,
   "id": "future-drink",
   "metadata": {},
   "outputs": [],
   "source": [
    "# Assume cash rate is 2%. Simulate for every month.\n",
    "cashrate = 0.02\n",
    "monthly_cashreturn = (1+cashrate)**(1/12) - 1\n",
    "# Generate return series - I need the returns of my safe asset\n",
    "returns_cash = pd.DataFrame(data=monthly_cashreturn, index=returns_equity.index,\n",
    "                            columns=returns_equity.columns)\n",
    "# mixer doesn't care what the two portfolios are. Here cash is considered as safe asset.\n",
    "returns_maxDrawdown25 = kit.backtest_mix(returns_equity, returns_cash, allocator=drawdown_allocator,\n",
    "                                      maxdd=0.25)\n",
    "# terminal values\n",
    "terminal_maxDrawdown25 = kit.terminal_values(returns_maxDrawdown25)"
   ]
  },
  {
   "cell_type": "code",
   "execution_count": 19,
   "id": "loaded-encounter",
   "metadata": {},
   "outputs": [
    {
     "data": {
      "text/html": [
       "<div>\n",
       "<style scoped>\n",
       "    .dataframe tbody tr th:only-of-type {\n",
       "        vertical-align: middle;\n",
       "    }\n",
       "\n",
       "    .dataframe tbody tr th {\n",
       "        vertical-align: top;\n",
       "    }\n",
       "\n",
       "    .dataframe thead th {\n",
       "        text-align: right;\n",
       "    }\n",
       "</style>\n",
       "<table border=\"1\" class=\"dataframe\">\n",
       "  <thead>\n",
       "    <tr style=\"text-align: right;\">\n",
       "      <th></th>\n",
       "      <th>ZC</th>\n",
       "      <th>Eq</th>\n",
       "      <th>70/30</th>\n",
       "      <th>floor75</th>\n",
       "      <th>floor75m1</th>\n",
       "      <th>floor75m5</th>\n",
       "      <th>Maxdd25</th>\n",
       "    </tr>\n",
       "  </thead>\n",
       "  <tbody>\n",
       "    <tr>\n",
       "      <th>mean</th>\n",
       "      <td>1.3433</td>\n",
       "      <td>1.9926</td>\n",
       "      <td>1.7711</td>\n",
       "      <td>1.9682</td>\n",
       "      <td>1.6320</td>\n",
       "      <td>1.9790</td>\n",
       "      <td>1.6410</td>\n",
       "    </tr>\n",
       "    <tr>\n",
       "      <th>std</th>\n",
       "      <td>0.0000</td>\n",
       "      <td>1.0054</td>\n",
       "      <td>0.6026</td>\n",
       "      <td>1.0124</td>\n",
       "      <td>0.4436</td>\n",
       "      <td>1.0137</td>\n",
       "      <td>0.5498</td>\n",
       "    </tr>\n",
       "    <tr>\n",
       "      <th>p_breach</th>\n",
       "      <td>NaN</td>\n",
       "      <td>0.0300</td>\n",
       "      <td>0.0068</td>\n",
       "      <td>NaN</td>\n",
       "      <td>NaN</td>\n",
       "      <td>0.0002</td>\n",
       "      <td>NaN</td>\n",
       "    </tr>\n",
       "    <tr>\n",
       "      <th>e_short</th>\n",
       "      <td>NaN</td>\n",
       "      <td>0.1215</td>\n",
       "      <td>0.0633</td>\n",
       "      <td>NaN</td>\n",
       "      <td>NaN</td>\n",
       "      <td>0.0000</td>\n",
       "      <td>NaN</td>\n",
       "    </tr>\n",
       "    <tr>\n",
       "      <th>p_reach</th>\n",
       "      <td>NaN</td>\n",
       "      <td>NaN</td>\n",
       "      <td>NaN</td>\n",
       "      <td>NaN</td>\n",
       "      <td>NaN</td>\n",
       "      <td>NaN</td>\n",
       "      <td>NaN</td>\n",
       "    </tr>\n",
       "    <tr>\n",
       "      <th>e_surplus</th>\n",
       "      <td>NaN</td>\n",
       "      <td>NaN</td>\n",
       "      <td>NaN</td>\n",
       "      <td>NaN</td>\n",
       "      <td>NaN</td>\n",
       "      <td>NaN</td>\n",
       "      <td>NaN</td>\n",
       "    </tr>\n",
       "  </tbody>\n",
       "</table>\n",
       "</div>"
      ],
      "text/plain": [
       "               ZC      Eq   70/30  floor75  floor75m1  floor75m5  Maxdd25\n",
       "mean       1.3433  1.9926  1.7711   1.9682     1.6320     1.9790   1.6410\n",
       "std        0.0000  1.0054  0.6026   1.0124     0.4436     1.0137   0.5498\n",
       "p_breach      NaN  0.0300  0.0068      NaN        NaN     0.0002      NaN\n",
       "e_short       NaN  0.1215  0.0633      NaN        NaN     0.0000      NaN\n",
       "p_reach       NaN     NaN     NaN      NaN        NaN        NaN      NaN\n",
       "e_surplus     NaN     NaN     NaN      NaN        NaN        NaN      NaN"
      ]
     },
     "execution_count": 19,
     "metadata": {},
     "output_type": "execute_result"
    }
   ],
   "source": [
    "# To check the breach (to see decimal places)\n",
    "pd.concat([\n",
    "            kit.terminal_stats(returns_zerocoupon, name=\"ZC\", floor=0.75),\n",
    "            kit.terminal_stats(returns_equity, name=\"Eq\", floor=0.75),\n",
    "            kit.terminal_stats(returns_7030bond, name=\"70/30\", floor=0.75),\n",
    "            kit.terminal_stats(returns_floor75, name=\"floor75\", floor=0.75),\n",
    "            kit.terminal_stats(returns_floor75m1, name=\"floor75m1\", floor=0.75),\n",
    "            kit.terminal_stats(returns_floor75m5, name=\"floor75m5\", floor=0.75),\n",
    "            kit.terminal_stats(returns_maxDrawdown25, name=\"Maxdd25\", floor=0.75)\n",
    "          ], axis=1).round(4)"
   ]
  },
  {
   "cell_type": "markdown",
   "id": "interested-hurricane",
   "metadata": {},
   "source": [
    "The point of using drawdown was not to avoid breaches, but to use drawdowns as a constraint."
   ]
  },
  {
   "cell_type": "code",
   "execution_count": 20,
   "id": "disabled-conference",
   "metadata": {},
   "outputs": [
    {
     "data": {
      "text/plain": [
       "0   -0.136627\n",
       "1   -0.183201\n",
       "2   -0.212337\n",
       "3   -0.122761\n",
       "4   -0.166547\n",
       "Name: Max Drawdown, dtype: float64"
      ]
     },
     "execution_count": 20,
     "metadata": {},
     "output_type": "execute_result"
    }
   ],
   "source": [
    "kit.summary_stats(returns_maxDrawdown25)[\"Max Drawdown\"].head()"
   ]
  },
  {
   "cell_type": "code",
   "execution_count": 21,
   "id": "dirty-strap",
   "metadata": {},
   "outputs": [
    {
     "data": {
      "text/plain": [
       "-0.2328299319753203"
      ]
     },
     "execution_count": 21,
     "metadata": {},
     "output_type": "execute_result"
    }
   ],
   "source": [
    "# What was the worst drawdown\n",
    "kit.summary_stats(returns_maxDrawdown25)[\"Max Drawdown\"].min()"
   ]
  },
  {
   "cell_type": "code",
   "execution_count": 24,
   "id": "junior-feeling",
   "metadata": {},
   "outputs": [
    {
     "data": {
      "text/plain": [
       "<matplotlib.legend.Legend at 0x17ee50ad070>"
      ]
     },
     "execution_count": 24,
     "metadata": {},
     "output_type": "execute_result"
    },
    {
     "data": {
      "image/png": "[encoded data removed]",
      "text/plain": [
       "<Figure size 864x432 with 1 Axes>"
      ]
     },
     "metadata": {
      "needs_background": "light"
     },
     "output_type": "display_data"
    }
   ],
   "source": [
    "# Plot\n",
    "terminal_equities = kit.terminal_values(returns_equity)\n",
    "terminal_7030bond = kit.terminal_values(returns_7030bond)\n",
    "terminal_floor75 = kit.terminal_values(returns_floor75)\n",
    "terminal_maxDrawdown25 = kit.terminal_values(returns_maxDrawdown25)\n",
    "plt.figure(figsize=(12,6))\n",
    "sns.distplot(terminal_equities, color=\"red\", label=\"100% Equities\", bins=100)\n",
    "plt.axvline(terminal_equities.mean(), ls=\"--\", color=\"red\")\n",
    "sns.distplot(terminal_7030bond, color=\"orange\", label=\"70/30 Equities/Bonds\", bins=100)\n",
    "plt.axvline(terminal_7030bond.mean(), ls=\"--\", color=\"orange\")\n",
    "sns.distplot(terminal_floor75, color=\"green\", label=\"Floor at 75%\", bins=100)\n",
    "plt.axvline(terminal_floor75.mean(), ls=\"--\", color=\"green\")\n",
    "sns.distplot(terminal_maxDrawdown25, color=\"yellow\", label=\"MaxDD = 25%\", bins=100)\n",
    "plt.axvline(terminal_maxDrawdown25.mean(), ls=\"--\", color=\"yellow\")\n",
    "plt.legend()"
   ]
  },
  {
   "cell_type": "markdown",
   "id": "another-airline",
   "metadata": {},
   "source": [
    "Looking at the mean line, the floor strategy has a very very low loss of opportunity cost in comparison with the 100% equities.\n",
    "\n",
    "A large part of how these strategies operate is to shift or shape, move the shape of the distribution towards something that is more acceptable to you. We are giving up some of the upside in exchange for eliminating some large part of the downside that you do not find acceptable."
   ]
  },
  {
   "cell_type": "markdown",
   "id": "demonstrated-passing",
   "metadata": {},
   "source": [
    "### Drawdown Constraint with historic data"
   ]
  },
  {
   "cell_type": "code",
   "execution_count": 27,
   "id": "exclusive-costume",
   "metadata": {},
   "outputs": [
    {
     "data": {
      "text/plain": [
       "<matplotlib.axes._subplots.AxesSubplot at 0x17ee5f5ae50>"
      ]
     },
     "execution_count": 27,
     "metadata": {},
     "output_type": "execute_result"
    },
    {
     "data": {
      "image/png": "[encoded data removed]",
      "text/plain": [
       "<Figure size 864x432 with 1 Axes>"
      ]
     },
     "metadata": {
      "needs_background": "light"
     },
     "output_type": "display_data"
    }
   ],
   "source": [
    "# Total market index\n",
    "returns_tmi = kit.get_total_market_index_returns()[\"1990\":]\n",
    "drawdown_tmi = kit.drawdown(returns_tmi)\n",
    "ax = drawdown_tmi[\"Wealth\"].plot(figsize=(12,6), ls=\"-\", color=\"goldenrod\")\n",
    "drawdown_tmi[\"Previous Peaks\"].plot(ax=ax, ls=\":\", color=\"goldenrod\")"
   ]
  },
  {
   "cell_type": "code",
   "execution_count": 29,
   "id": "canadian-cheat",
   "metadata": {},
   "outputs": [
    {
     "data": {
      "text/plain": [
       "<matplotlib.axes._subplots.AxesSubplot at 0x17ee9ba40d0>"
      ]
     },
     "execution_count": 29,
     "metadata": {},
     "output_type": "execute_result"
    },
    {
     "data": {
      "image/png": "[encoded data removed]",
      "text/plain": [
       "<Figure size 864x432 with 1 Axes>"
      ]
     },
     "metadata": {
      "needs_background": "light"
     },
     "output_type": "display_data"
    }
   ],
   "source": [
    "cashrate = 0.03\n",
    "monthly_cashreturn = (1+cashrate)**(1/12) - 1\n",
    "returns_cash = pd.DataFrame(data=monthly_cashreturn, index=returns_tmi.index,\n",
    "                            columns=[0]) # 1 column dataframe\n",
    "# backtesting with historic data\n",
    "returns_maxDrawdown25 = kit.backtest_mix(pd.DataFrame(returns_tmi), returns_cash,\n",
    "                                         allocator=drawdown_allocator, maxdd=0.25, m=5)\n",
    "drawdown_25 = kit.drawdown(returns_maxDrawdown25[0]) # the only column\n",
    "\n",
    "\n",
    "ax = drawdown_tmi[\"Wealth\"].plot(figsize=(12,6), ls=\"-\", color=\"goldenrod\", label=\"Market\", legend=True)\n",
    "drawdown_tmi[\"Previous Peaks\"].plot(ax=ax, ls=\":\", color=\"goldenrod\")\n",
    "drawdown_25[\"Wealth\"].plot(figsize=(12,6), ax=ax, label=\"MaxDD 25%\", color=\"cornflowerblue\", legend=True)\n",
    "drawdown_25[\"Previous Peaks\"].plot(ax=ax, ls=\":\", color=\"cornflowerblue\")"
   ]
  },
  {
   "cell_type": "markdown",
   "id": "blind-attraction",
   "metadata": {},
   "source": [
    "The blue shows the drawdowns had I been using the drawdown strategy."
   ]
  },
  {
   "cell_type": "code",
   "execution_count": 31,
   "id": "respective-specialist",
   "metadata": {},
   "outputs": [
    {
     "data": {
      "text/html": [
       "<div>\n",
       "<style scoped>\n",
       "    .dataframe tbody tr th:only-of-type {\n",
       "        vertical-align: middle;\n",
       "    }\n",
       "\n",
       "    .dataframe tbody tr th {\n",
       "        vertical-align: top;\n",
       "    }\n",
       "\n",
       "    .dataframe thead th {\n",
       "        text-align: right;\n",
       "    }\n",
       "</style>\n",
       "<table border=\"1\" class=\"dataframe\">\n",
       "  <thead>\n",
       "    <tr style=\"text-align: right;\">\n",
       "      <th></th>\n",
       "      <th>Annualied Return</th>\n",
       "      <th>Annualized Vol</th>\n",
       "      <th>Skewness</th>\n",
       "      <th>Kurtosis</th>\n",
       "      <th>Cornish-Fisher VaR (5%)</th>\n",
       "      <th>Historic CVaR (5%)</th>\n",
       "      <th>Sharpe Ratio</th>\n",
       "      <th>Max Drawdown</th>\n",
       "    </tr>\n",
       "  </thead>\n",
       "  <tbody>\n",
       "    <tr>\n",
       "      <th>Market</th>\n",
       "      <td>0.096058</td>\n",
       "      <td>0.145419</td>\n",
       "      <td>-0.668827</td>\n",
       "      <td>4.247282</td>\n",
       "      <td>0.066949</td>\n",
       "      <td>0.094633</td>\n",
       "      <td>0.441951</td>\n",
       "      <td>-0.499943</td>\n",
       "    </tr>\n",
       "    <tr>\n",
       "      <th>MaxDD</th>\n",
       "      <td>0.090062</td>\n",
       "      <td>0.112755</td>\n",
       "      <td>-0.630463</td>\n",
       "      <td>5.015334</td>\n",
       "      <td>0.049978</td>\n",
       "      <td>0.071074</td>\n",
       "      <td>0.518327</td>\n",
       "      <td>-0.244212</td>\n",
       "    </tr>\n",
       "  </tbody>\n",
       "</table>\n",
       "</div>"
      ],
      "text/plain": [
       "        Annualied Return  Annualized Vol  Skewness  Kurtosis  \\\n",
       "Market          0.096058        0.145419 -0.668827  4.247282   \n",
       "MaxDD           0.090062        0.112755 -0.630463  5.015334   \n",
       "\n",
       "        Cornish-Fisher VaR (5%)  Historic CVaR (5%)  Sharpe Ratio  \\\n",
       "Market                 0.066949            0.094633      0.441951   \n",
       "MaxDD                  0.049978            0.071074      0.518327   \n",
       "\n",
       "        Max Drawdown  \n",
       "Market     -0.499943  \n",
       "MaxDD      -0.244212  "
      ]
     },
     "execution_count": 31,
     "metadata": {},
     "output_type": "execute_result"
    }
   ],
   "source": [
    "# Check if the strategy worked\n",
    "kit.summary_stats(pd.concat([returns_tmi.rename(\"Market\"), \n",
    "                             returns_maxDrawdown25[0].rename(\"MaxDD\")], axis=1))"
   ]
  },
  {
   "cell_type": "markdown",
   "id": "composed-alloy",
   "metadata": {},
   "source": [
    "The unconstrainted market gave 9.6% while drawdown constraint ave 9%. But looking at max drawdown, The market had almost 50% drawdown while the MaxDD had 24% as we had set the constraint to 25%."
   ]
  }
 ],
 "metadata": {
  "kernelspec": {
   "display_name": "Python 3",
   "language": "python",
   "name": "python3"
  },
  "language_info": {
   "codemirror_mode": {
    "name": "ipython",
    "version": 3
   },
   "file_extension": ".py",
   "mimetype": "text/x-python",
   "name": "python",
   "nbconvert_exporter": "python",
   "pygments_lexer": "ipython3",
   "version": "3.8.3"
  }
 },
 "nbformat": 4,
 "nbformat_minor": 5
}
