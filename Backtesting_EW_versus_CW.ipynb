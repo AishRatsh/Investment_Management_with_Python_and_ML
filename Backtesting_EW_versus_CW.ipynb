{
 "cells": [
  {
   "cell_type": "markdown",
   "id": "supposed-carrier",
   "metadata": {},
   "source": [
    "# BACKTESTING: EW vs CW"
   ]
  },
  {
   "cell_type": "markdown",
   "id": "concerned-monster",
   "metadata": {},
   "source": [
    "Backtesting lets you test the waters by checking if you invest in one way, what would you get? It is a great way to test strategies."
   ]
  },
  {
   "cell_type": "code",
   "execution_count": 1,
   "id": "phantom-absence",
   "metadata": {},
   "outputs": [],
   "source": [
    "import numpy as np\n",
    "import pandas as pd\n",
    "\n",
    "import risk_kit as kit\n",
    "%load_ext autoreload\n",
    "%autoreload 2"
   ]
  },
  {
   "cell_type": "markdown",
   "id": "individual-reform",
   "metadata": {},
   "source": [
    "Load industry portfolios for 49 different industries"
   ]
  },
  {
   "cell_type": "code",
   "execution_count": 2,
   "id": "controlling-latvia",
   "metadata": {},
   "outputs": [],
   "source": [
    "def get_ind_returns(weighting=\"vw\", n_inds=30):\n",
    "    \"\"\"\n",
    "    Load and format the Ken French Industry Portfolios Monthly Returns\n",
    "    \"\"\"\n",
    "    return get_ind_file(\"returns\", weighting=weighting, n_inds=n_inds)"
   ]
  },
  {
   "cell_type": "code",
   "execution_count": 3,
   "id": "entitled-psychology",
   "metadata": {},
   "outputs": [],
   "source": [
    "def get_ind_file(filetype, weighting=\"vw\", n_inds=30):\n",
    "    \"\"\"\n",
    "    Load and format the Ken French Industry Portfolios files\n",
    "    Variant is a tuple of (weighting, size) where:\n",
    "        weighting is one of \"ew\", \"vw\"\n",
    "        number of inds is 30 or 49\n",
    "    \"\"\"    \n",
    "    if filetype == \"returns\":\n",
    "        name = f\"{weighting}_rets\" \n",
    "        divisor = 100\n",
    "    elif filetype == \"nfirms\":\n",
    "        name = \"nfirms\"\n",
    "        divisor = 1\n",
    "    elif filetype == \"size\":\n",
    "        name = \"size\"\n",
    "        divisor = 1\n",
    "    else:\n",
    "        raise ValueError(f\"filetype must be one of: returns, nfirms, size\")\n",
    "    \n",
    "    ind = pd.read_csv(f\"data/ind{n_inds}_m_{name}.csv\", header=0, index_col=0, na_values=-99.99)/divisor\n",
    "    ind.index = pd.to_datetime(ind.index, format=\"%Y%m\").to_period('M')\n",
    "    ind.columns = ind.columns.str.strip()\n",
    "    return ind"
   ]
  },
  {
   "cell_type": "code",
   "execution_count": 4,
   "id": "unusual-burton",
   "metadata": {},
   "outputs": [],
   "source": [
    "def get_ind_market_caps(n_inds=30, weights=False):\n",
    "    \"\"\"\n",
    "    Load the industry portfolio data and derive the market caps\n",
    "    \"\"\"\n",
    "    ind_nfirms = get_ind_nfirms(n_inds=n_inds)\n",
    "    ind_size = get_ind_size(n_inds=n_inds)\n",
    "    ind_mktcap = ind_nfirms * ind_size\n",
    "    if weights:\n",
    "        total_mktcap = ind_mktcap.sum(axis=1)\n",
    "        ind_capweight = ind_mktcap.divide(total_mktcap, axis=\"rows\")\n",
    "        return ind_capweight\n",
    "    #else\n",
    "    return ind_mktcap"
   ]
  },
  {
   "cell_type": "code",
   "execution_count": 5,
   "id": "bored-favorite",
   "metadata": {},
   "outputs": [],
   "source": [
    "def get_ind_nfirms(n_inds=30):\n",
    "    \"\"\"\n",
    "    Load and format the Ken French 30 Industry Portfolios Average number of Firms\n",
    "    \"\"\"\n",
    "    return get_ind_file(\"nfirms\", n_inds=n_inds)"
   ]
  },
  {
   "cell_type": "code",
   "execution_count": 6,
   "id": "durable-sheet",
   "metadata": {},
   "outputs": [],
   "source": [
    "def get_ind_size(n_inds=30):\n",
    "    \"\"\"\n",
    "    Load and format the Ken French 30 Industry Portfolios Average size (market cap)\n",
    "    \"\"\"\n",
    "    return get_ind_file(\"size\", n_inds=n_inds)"
   ]
  },
  {
   "cell_type": "code",
   "execution_count": 7,
   "id": "realistic-algebra",
   "metadata": {},
   "outputs": [],
   "source": [
    "# Load industry portfolios for 49 different industries. \n",
    "# In factor analysis, value-weighting and cap-weighting is used synonymously. Here value means the market-value or market-cap.\n",
    "ind49_returns = get_ind_returns(weighting=\"vw\", n_inds=49)[\"1974\":]   # cap-weighted\n",
    "ind49_mcap = get_ind_market_caps(49, weights=True)[\"1974\":]"
   ]
  },
  {
   "cell_type": "code",
   "execution_count": 8,
   "id": "blank-modern",
   "metadata": {},
   "outputs": [],
   "source": [
    "def weight_ew(r):\n",
    "    \"\"\"\n",
    "    Returns the weights of the EW portfolio based on the asset returns \"r\" as a DataFrame.\n",
    "    \"\"\"\n",
    "    n = len(r.columns)\n",
    "    return pd.Series(1/n, index=r.columns)"
   ]
  },
  {
   "cell_type": "code",
   "execution_count": 9,
   "id": "recorded-chile",
   "metadata": {},
   "outputs": [],
   "source": [
    "# Backtest a weighting scheme.\n",
    "def backtest_ws(ret, estimation_window=60, weighting=weight_ew, verbose=False, **kwargs):\n",
    "    \"\"\"\n",
    "    Backtests a given weighting scheme, given some parameters:\n",
    "    r: asset returns used to build the portfolio.\n",
    "    estimation window: the window used to estimate parameters.\n",
    "    weighting: the weighting scheme to use, must be a function that takes \"r\" and a variable number of keyword arguments.\n",
    "    \"\"\"\n",
    "    n_periods = ret.shape[0]\n",
    "    windows = [(start, start+estimation_window) for start in range(n_periods-estimation_window+1)]\n",
    "    # windows is a list of tuples which gives us the integer location of the start and stop \n",
    "    weights = [weighting(ret.iloc[win[0]:win[1]], **kwargs) for win in windows]\n",
    "    # Convert list of weights to DataFrame\n",
    "    weights = pd.DataFrame(weights, index=ret.iloc[estimation_window-1:].index, columns=ret.columns)\n",
    "    returns = (weights * ret).sum(axis=\"columns\", min_count=1) # min_count is to generate NAs if all inputs are NAs\n",
    "    return returns\n",
    "    "
   ]
  },
  {
   "cell_type": "code",
   "execution_count": 10,
   "id": "irish-cruise",
   "metadata": {},
   "outputs": [
    {
     "data": {
      "text/plain": [
       "<matplotlib.axes._subplots.AxesSubplot at 0x2b79419f310>"
      ]
     },
     "execution_count": 10,
     "metadata": {},
     "output_type": "execute_result"
    },
    {
     "data": {
      "image/png": "[encoded data removed]",
      "text/plain": [
       "<Figure size 864x432 with 1 Axes>"
      ]
     },
     "metadata": {
      "needs_background": "light"
     },
     "output_type": "display_data"
    }
   ],
   "source": [
    "eq_weight_return = backtest_ws(ind49_returns, weighting=weight_ew)\n",
    "# Convert to a wealth index\n",
    "eq_wealth_index = (1+eq_weight_return).cumprod()\n",
    "eq_wealth_index.plot(figsize=(12,6), title=\" 49 Industries - Equally weighted\")"
   ]
  },
  {
   "cell_type": "markdown",
   "id": "announced-testing",
   "metadata": {},
   "source": [
    "Now, consider Cap-weighted. Capweights are already provided through the marketcap file."
   ]
  },
  {
   "cell_type": "code",
   "execution_count": 11,
   "id": "negative-simpson",
   "metadata": {},
   "outputs": [],
   "source": [
    "def weight_cw(r, cap_weights, **kwargs):\n",
    "    \"\"\"\n",
    "    Returns the weights of the CW portfolio based on the time series of capweights\n",
    "    \"\"\"\n",
    "    return cap_weights.loc[r.index[1]]"
   ]
  },
  {
   "cell_type": "code",
   "execution_count": 12,
   "id": "union-syntax",
   "metadata": {},
   "outputs": [],
   "source": [
    "# Tweak the code to take weighting as arguments\n",
    "def backtest_ws(r, estimation_window=60, weighting=weight_ew, **kwargs):\n",
    "    \"\"\"\n",
    "    Backtests a given weighting scheme, given some parameters:\n",
    "    r : asset returns to use to build the portfolio\n",
    "    estimation_window: the window to use to estimate parameters\n",
    "    weighting: the weighting scheme to use, must be a function that takes \"r\", and a variable number of keyword-value arguments\n",
    "    \"\"\"\n",
    "    n_periods = r.shape[0]\n",
    "    # return windows\n",
    "    windows = [(start, start+estimation_window) for start in range(n_periods-estimation_window+1)]\n",
    "    weights = [weighting(r.iloc[win[0]:win[1]], **kwargs) for win in windows]\n",
    "    # convert list of weights to DataFrame\n",
    "    weights = pd.DataFrame(weights, index=r.iloc[estimation_window-1:].index, columns=r.columns)\n",
    "    # return weights\n",
    "    returns = (weights * r).sum(axis=\"columns\",  min_count=1) #mincount is to generate NAs if all inputs are NAs\n",
    "    return returns"
   ]
  },
  {
   "cell_type": "code",
   "execution_count": 13,
   "id": "charged-viewer",
   "metadata": {},
   "outputs": [],
   "source": [
    "def weight_ew(r, **kwargs):\n",
    "    \"\"\"\n",
    "    Returns the weights of the EW portfolio based on the asset returns \"r\" as a DataFrame\n",
    "    \"\"\"\n",
    "    n = len(r.columns)\n",
    "    return pd.Series(1/n, index=r.columns)\n"
   ]
  },
  {
   "cell_type": "code",
   "execution_count": 14,
   "id": "specified-camera",
   "metadata": {},
   "outputs": [
    {
     "data": {
      "text/html": [
       "<div>\n",
       "<style scoped>\n",
       "    .dataframe tbody tr th:only-of-type {\n",
       "        vertical-align: middle;\n",
       "    }\n",
       "\n",
       "    .dataframe tbody tr th {\n",
       "        vertical-align: top;\n",
       "    }\n",
       "\n",
       "    .dataframe thead th {\n",
       "        text-align: right;\n",
       "    }\n",
       "</style>\n",
       "<table border=\"1\" class=\"dataframe\">\n",
       "  <thead>\n",
       "    <tr style=\"text-align: right;\">\n",
       "      <th></th>\n",
       "      <th>Annualied Return</th>\n",
       "      <th>Annualized Vol</th>\n",
       "      <th>Skewness</th>\n",
       "      <th>Kurtosis</th>\n",
       "      <th>Cornish-Fisher VaR (5%)</th>\n",
       "      <th>Historic CVaR (5%)</th>\n",
       "      <th>Sharpe Ratio</th>\n",
       "      <th>Max Drawdown</th>\n",
       "    </tr>\n",
       "  </thead>\n",
       "  <tbody>\n",
       "    <tr>\n",
       "      <th>EW</th>\n",
       "      <td>0.123921</td>\n",
       "      <td>0.160660</td>\n",
       "      <td>-0.759092</td>\n",
       "      <td>6.659028</td>\n",
       "      <td>0.071404</td>\n",
       "      <td>0.102331</td>\n",
       "      <td>0.568799</td>\n",
       "      <td>-0.528292</td>\n",
       "    </tr>\n",
       "    <tr>\n",
       "      <th>CW</th>\n",
       "      <td>0.119761</td>\n",
       "      <td>0.147661</td>\n",
       "      <td>-0.726933</td>\n",
       "      <td>5.621768</td>\n",
       "      <td>0.065773</td>\n",
       "      <td>0.093909</td>\n",
       "      <td>0.591491</td>\n",
       "      <td>-0.516647</td>\n",
       "    </tr>\n",
       "  </tbody>\n",
       "</table>\n",
       "</div>"
      ],
      "text/plain": [
       "    Annualied Return  Annualized Vol  Skewness  Kurtosis  \\\n",
       "EW          0.123921        0.160660 -0.759092  6.659028   \n",
       "CW          0.119761        0.147661 -0.726933  5.621768   \n",
       "\n",
       "    Cornish-Fisher VaR (5%)  Historic CVaR (5%)  Sharpe Ratio  Max Drawdown  \n",
       "EW                 0.071404            0.102331      0.568799     -0.528292  \n",
       "CW                 0.065773            0.093909      0.591491     -0.516647  "
      ]
     },
     "execution_count": 14,
     "metadata": {},
     "output_type": "execute_result"
    },
    {
     "data": {
      "image/png": "[encoded data removed]",
      "text/plain": [
       "<Figure size 864x360 with 1 Axes>"
      ]
     },
     "metadata": {
      "needs_background": "light"
     },
     "output_type": "display_data"
    }
   ],
   "source": [
    "eq_weighted_ret = backtest_ws(ind49_returns)\n",
    "cap_weighted_ret = backtest_ws(ind49_returns, weighting=weight_cw, cap_weights=ind49_mcap)\n",
    "back_test_return = pd.DataFrame({\"EW\":eq_weighted_ret, \"CW\":cap_weighted_ret})\n",
    "(1+back_test_return).cumprod().plot(figsize=(12,5), title=\"49 Industries - CapWeighted vs Equally Weighted\")\n",
    "kit.summary_stats(back_test_return.dropna())"
   ]
  },
  {
   "cell_type": "markdown",
   "id": "interim-response",
   "metadata": {},
   "source": [
    "For this particular time period for the portfolios considered, the Sharpe Ratio advantage was not there for Equally weighted."
   ]
  },
  {
   "cell_type": "markdown",
   "id": "regular-secretary",
   "metadata": {},
   "source": [
    "#### Improving EW with Cap Weight Tethering"
   ]
  },
  {
   "cell_type": "markdown",
   "id": "matched-exclusion",
   "metadata": {},
   "source": [
    "In practice, no one implements an equally weighted portfolio. It is very tricky to implement. The two main reasons are:\n",
    "\n",
    "    1. If you literally weight things, that means you have to take huge positions in tiny companies. So if they have a very small market-cap, you very often simply cannot hold as much of that company as you can of IBM or APPLE, the large companies. SO if the market cap of a company is less than 1% of the portfolio, people will just drop it to reduce transaction costs etc.\n",
    "  \n",
    "    2. The second adjustment is that people frequently take an equally weighted portfolio and tie it back to their cap-weighted portfolio in some way. This is saying, I don't want to have a weight in say Stock-X, that is more than some multiple of what I would have had if it were cap-weighted.\n",
    "    \n",
    "    \n",
    "These two modifications to equally-weighted portfolio makes it a bit more cap-weighted like and the great thing that comes out of this is that - you can ***reduce tracking error***."
   ]
  },
  {
   "cell_type": "markdown",
   "id": "registered-concrete",
   "metadata": {},
   "source": [
    "Often in practice, we'll want to implement some sort of a modification of a pure strategy. For instance, although Equal Weight portfolios are popular, they'll be constrained in some way - for instance to match the sector weights of the cap-weighted benchmark or to make sure that microcap stocks are not overweighted. The motivation for doing so could be to make a portfolio more tradeable (e.g. some microcaps may not have the liquidity) or to improve the tracking error to the Cap-Weighted index.\n",
    "\n",
    "As an illustration of how that can be achieved, we enhance our simple weight_ew allocator to (i) drop microcap stocks beyond a particular threshold, and (ii) impose a constraint that ensures that the maximum weight assigned to any stock is no more than some multiple of the weight it would be in a cap-weighted portfolio."
   ]
  },
  {
   "cell_type": "code",
   "execution_count": 15,
   "id": "alternative-genius",
   "metadata": {},
   "outputs": [],
   "source": [
    "def weight_ew(r, cap_weights=None, max_cw_mult=None, microcap_threshold=None, **kwargs):\n",
    "    \"\"\"\n",
    "    Returns the weights of the EW portfolio based on the asset returns \"r\" as a DataFrame\n",
    "    If supplied a set of capweights and a capweight tether, it is applied and reweighted \n",
    "    \"\"\"\n",
    "    n = len(r.columns)\n",
    "    ew = pd.Series(1/n, index=r.columns)\n",
    "    if cap_weights is not None:\n",
    "        cw = cap_weights.loc[r.index[0]] # starting cap weight\n",
    "        ## exclude microcaps\n",
    "        if microcap_threshold is not None and microcap_threshold > 0:\n",
    "            microcap = cw < microcap_threshold\n",
    "            ew[microcap] = 0\n",
    "            ew = ew/ew.sum()\n",
    "        #limit weight to a multiple of capweight\n",
    "        if max_cw_mult is not None and max_cw_mult > 0:\n",
    "            ew = np.minimum(ew, cw*max_cw_mult)\n",
    "            ew = ew/ew.sum() #reweight\n",
    "    return ew\n",
    "\n",
    "def weight_cw(r, cap_weights, **kwargs):\n",
    "    \"\"\"\n",
    "    Returns the weights of the CW portfolio based on the time series of capweights\n",
    "    \"\"\"\n",
    "    w = cap_weights.loc[r.index[1]]\n",
    "    return w/w.sum()\n",
    "\n",
    "def backtest_ws(r, estimation_window=60, weighting=weight_ew, **kwargs):\n",
    "    \"\"\"\n",
    "    Backtests a given weighting scheme, given some parameters:\n",
    "    r : asset returns to use to build the portfolio\n",
    "    estimation_window: the window to use to estimate parameters\n",
    "    weighting: the weighting scheme to use, must be a function that takes \"r\", and a variable number of keyword-value arguments\n",
    "    \"\"\"\n",
    "    n_periods = r.shape[0]\n",
    "    # return windows\n",
    "    windows = [(start, start+estimation_window) for start in range(n_periods-estimation_window+1)]\n",
    "    weights = [weighting(r.iloc[win[0]:win[1]], **kwargs) for win in windows]\n",
    "    # convert to DataFrame\n",
    "    weights = pd.DataFrame(weights, index=r.iloc[estimation_window-1:].index, columns=r.columns)\n",
    "    returns = (weights * r).sum(axis=\"columns\",  min_count=1) #mincount is to generate NAs if all inputs are NAs\n",
    "    return returns\n"
   ]
  },
  {
   "cell_type": "code",
   "execution_count": 16,
   "id": "committed-sheffield",
   "metadata": {},
   "outputs": [
    {
     "data": {
      "text/html": [
       "<div>\n",
       "<style scoped>\n",
       "    .dataframe tbody tr th:only-of-type {\n",
       "        vertical-align: middle;\n",
       "    }\n",
       "\n",
       "    .dataframe tbody tr th {\n",
       "        vertical-align: top;\n",
       "    }\n",
       "\n",
       "    .dataframe thead th {\n",
       "        text-align: right;\n",
       "    }\n",
       "</style>\n",
       "<table border=\"1\" class=\"dataframe\">\n",
       "  <thead>\n",
       "    <tr style=\"text-align: right;\">\n",
       "      <th></th>\n",
       "      <th>Annualied Return</th>\n",
       "      <th>Annualized Vol</th>\n",
       "      <th>Skewness</th>\n",
       "      <th>Kurtosis</th>\n",
       "      <th>Cornish-Fisher VaR (5%)</th>\n",
       "      <th>Historic CVaR (5%)</th>\n",
       "      <th>Sharpe Ratio</th>\n",
       "      <th>Max Drawdown</th>\n",
       "    </tr>\n",
       "  </thead>\n",
       "  <tbody>\n",
       "    <tr>\n",
       "      <th>EW</th>\n",
       "      <td>0.123921</td>\n",
       "      <td>0.160660</td>\n",
       "      <td>-0.759092</td>\n",
       "      <td>6.659028</td>\n",
       "      <td>0.071404</td>\n",
       "      <td>0.102331</td>\n",
       "      <td>0.568799</td>\n",
       "      <td>-0.528292</td>\n",
       "    </tr>\n",
       "    <tr>\n",
       "      <th>EW-Tethered</th>\n",
       "      <td>0.125572</td>\n",
       "      <td>0.156923</td>\n",
       "      <td>-0.752967</td>\n",
       "      <td>6.187433</td>\n",
       "      <td>0.069778</td>\n",
       "      <td>0.099191</td>\n",
       "      <td>0.592597</td>\n",
       "      <td>-0.530654</td>\n",
       "    </tr>\n",
       "    <tr>\n",
       "      <th>CW</th>\n",
       "      <td>0.119761</td>\n",
       "      <td>0.147661</td>\n",
       "      <td>-0.726933</td>\n",
       "      <td>5.621768</td>\n",
       "      <td>0.065773</td>\n",
       "      <td>0.093909</td>\n",
       "      <td>0.591491</td>\n",
       "      <td>-0.516647</td>\n",
       "    </tr>\n",
       "  </tbody>\n",
       "</table>\n",
       "</div>"
      ],
      "text/plain": [
       "             Annualied Return  Annualized Vol  Skewness  Kurtosis  \\\n",
       "EW                   0.123921        0.160660 -0.759092  6.659028   \n",
       "EW-Tethered          0.125572        0.156923 -0.752967  6.187433   \n",
       "CW                   0.119761        0.147661 -0.726933  5.621768   \n",
       "\n",
       "             Cornish-Fisher VaR (5%)  Historic CVaR (5%)  Sharpe Ratio  \\\n",
       "EW                          0.071404            0.102331      0.568799   \n",
       "EW-Tethered                 0.069778            0.099191      0.592597   \n",
       "CW                          0.065773            0.093909      0.591491   \n",
       "\n",
       "             Max Drawdown  \n",
       "EW              -0.528292  \n",
       "EW-Tethered     -0.530654  \n",
       "CW              -0.516647  "
      ]
     },
     "execution_count": 16,
     "metadata": {},
     "output_type": "execute_result"
    },
    {
     "data": {
      "image/png": "[encoded data removed]",
      "text/plain": [
       "<Figure size 864x360 with 1 Axes>"
      ]
     },
     "metadata": {
      "needs_background": "light"
     },
     "output_type": "display_data"
    }
   ],
   "source": [
    "eq_weighted_ret = backtest_ws(ind49_returns)\n",
    "eq_weighted_tethered_ret = backtest_ws(ind49_returns, cap_weights=ind49_mcap, max_cw_mult=5, microcap_threshold=.005)\n",
    "cap_weighted_ret = backtest_ws(ind49_returns, weighting=weight_cw, cap_weights=ind49_mcap)\n",
    "btr = pd.DataFrame({\"EW\": eq_weighted_ret, \"EW-Tethered\": eq_weighted_tethered_ret, \"CW\": cap_weighted_ret})\n",
    "(1+btr).cumprod().plot(figsize=(12,5))\n",
    "kit.summary_stats(btr.dropna())"
   ]
  },
  {
   "cell_type": "markdown",
   "id": "unlike-indianapolis",
   "metadata": {},
   "source": [
    "In this case, it gave you a slightly higher return. But the real reason to do this is to reduce tracking error."
   ]
  },
  {
   "cell_type": "code",
   "execution_count": 17,
   "id": "qualified-advertiser",
   "metadata": {},
   "outputs": [
    {
     "data": {
      "text/plain": [
       "(0.23248147494738433, 0.1553623086424526)"
      ]
     },
     "execution_count": 17,
     "metadata": {},
     "output_type": "execute_result"
    }
   ],
   "source": [
    "kit.tracking_error(eq_weighted_ret, cap_weighted_ret),kit.tracking_error(eq_weighted_tethered_ret, cap_weighted_ret)"
   ]
  },
  {
   "cell_type": "markdown",
   "id": "nonprofit-variance",
   "metadata": {},
   "source": [
    "There is very significant decrease in tracking error by implementing the constraints."
   ]
  }
 ],
 "metadata": {
  "kernelspec": {
   "display_name": "Python 3",
   "language": "python",
   "name": "python3"
  },
  "language_info": {
   "codemirror_mode": {
    "name": "ipython",
    "version": 3
   },
   "file_extension": ".py",
   "mimetype": "text/x-python",
   "name": "python",
   "nbconvert_exporter": "python",
   "pygments_lexer": "ipython3",
   "version": "3.8.3"
  }
 },
 "nbformat": 4,
 "nbformat_minor": 5
}
