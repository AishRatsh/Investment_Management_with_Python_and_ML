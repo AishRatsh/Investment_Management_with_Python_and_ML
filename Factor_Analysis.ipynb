{
 "cells": [
  {
   "cell_type": "markdown",
   "id": "sporting-acceptance",
   "metadata": {},
   "source": [
    "## Factor Analysis using the CAPM and Fama-French Factor Models"
   ]
  },
  {
   "cell_type": "markdown",
   "id": "tamil-transsexual",
   "metadata": {},
   "source": [
    "The main idea in Factor Analysis is to take a set of observed returns and decompose it into a set of explanatory returns."
   ]
  },
  {
   "cell_type": "code",
   "execution_count": 1,
   "id": "gorgeous-verse",
   "metadata": {},
   "outputs": [
    {
     "data": {
      "text/html": [
       "<div>\n",
       "<style scoped>\n",
       "    .dataframe tbody tr th:only-of-type {\n",
       "        vertical-align: middle;\n",
       "    }\n",
       "\n",
       "    .dataframe tbody tr th {\n",
       "        vertical-align: top;\n",
       "    }\n",
       "\n",
       "    .dataframe thead th {\n",
       "        text-align: right;\n",
       "    }\n",
       "</style>\n",
       "<table border=\"1\" class=\"dataframe\">\n",
       "  <thead>\n",
       "    <tr style=\"text-align: right;\">\n",
       "      <th></th>\n",
       "      <th>BRKA</th>\n",
       "    </tr>\n",
       "    <tr>\n",
       "      <th>DATE</th>\n",
       "      <th></th>\n",
       "    </tr>\n",
       "  </thead>\n",
       "  <tbody>\n",
       "    <tr>\n",
       "      <th>1990-01-01</th>\n",
       "      <td>-0.140634</td>\n",
       "    </tr>\n",
       "    <tr>\n",
       "      <th>1990-02-01</th>\n",
       "      <td>-0.030852</td>\n",
       "    </tr>\n",
       "    <tr>\n",
       "      <th>1990-03-01</th>\n",
       "      <td>-0.069204</td>\n",
       "    </tr>\n",
       "    <tr>\n",
       "      <th>1990-04-01</th>\n",
       "      <td>-0.003717</td>\n",
       "    </tr>\n",
       "    <tr>\n",
       "      <th>1990-05-01</th>\n",
       "      <td>0.067164</td>\n",
       "    </tr>\n",
       "  </tbody>\n",
       "</table>\n",
       "</div>"
      ],
      "text/plain": [
       "                BRKA\n",
       "DATE                \n",
       "1990-01-01 -0.140634\n",
       "1990-02-01 -0.030852\n",
       "1990-03-01 -0.069204\n",
       "1990-04-01 -0.003717\n",
       "1990-05-01  0.067164"
      ]
     },
     "execution_count": 1,
     "metadata": {},
     "output_type": "execute_result"
    }
   ],
   "source": [
    "\"\"\"\n",
    "Asset Management(Ang 2014, Oxford University Press) Chapter 10\n",
    "Dataset: Returns of Berkshire Hathaway\n",
    "\"\"\"\n",
    "import pandas as pd\n",
    "brka_d = pd.read_csv(\"data/brka_d_ret.csv\", parse_dates=True, index_col=0)\n",
    "brka_d.head()"
   ]
  },
  {
   "cell_type": "markdown",
   "id": "sacred-score",
   "metadata": {},
   "source": [
    "Goal is to take the returns of Berkshire Hathaway and decompose them into a bunch of explanatory returns and try to determine what exactly is driving Berkshire Hathaway."
   ]
  },
  {
   "cell_type": "code",
   "execution_count": 2,
   "id": "large-toner",
   "metadata": {},
   "outputs": [
    {
     "data": {
      "text/html": [
       "<div>\n",
       "<style scoped>\n",
       "    .dataframe tbody tr th:only-of-type {\n",
       "        vertical-align: middle;\n",
       "    }\n",
       "\n",
       "    .dataframe tbody tr th {\n",
       "        vertical-align: top;\n",
       "    }\n",
       "\n",
       "    .dataframe thead th {\n",
       "        text-align: right;\n",
       "    }\n",
       "</style>\n",
       "<table border=\"1\" class=\"dataframe\">\n",
       "  <thead>\n",
       "    <tr style=\"text-align: right;\">\n",
       "      <th></th>\n",
       "      <th>BRKA</th>\n",
       "    </tr>\n",
       "    <tr>\n",
       "      <th>DATE</th>\n",
       "      <th></th>\n",
       "    </tr>\n",
       "  </thead>\n",
       "  <tbody>\n",
       "    <tr>\n",
       "      <th>2018-08-01</th>\n",
       "      <td>0.047256</td>\n",
       "    </tr>\n",
       "    <tr>\n",
       "      <th>2018-09-01</th>\n",
       "      <td>0.013300</td>\n",
       "    </tr>\n",
       "    <tr>\n",
       "      <th>2018-10-01</th>\n",
       "      <td>-0.038422</td>\n",
       "    </tr>\n",
       "    <tr>\n",
       "      <th>2018-11-01</th>\n",
       "      <td>0.059456</td>\n",
       "    </tr>\n",
       "    <tr>\n",
       "      <th>2018-12-01</th>\n",
       "      <td>-0.061350</td>\n",
       "    </tr>\n",
       "  </tbody>\n",
       "</table>\n",
       "</div>"
      ],
      "text/plain": [
       "                BRKA\n",
       "DATE                \n",
       "2018-08-01  0.047256\n",
       "2018-09-01  0.013300\n",
       "2018-10-01 -0.038422\n",
       "2018-11-01  0.059456\n",
       "2018-12-01 -0.061350"
      ]
     },
     "execution_count": 2,
     "metadata": {},
     "output_type": "execute_result"
    }
   ],
   "source": [
    "brka_d.tail()"
   ]
  },
  {
   "cell_type": "markdown",
   "id": "proper-despite",
   "metadata": {},
   "source": [
    "The data is in daily returns.The factor explanatory variables that I'll use comes from Fama-French and to keep it simple, I'l convert it to monthly returns. The daily returns are compounded to get monthly returns."
   ]
  },
  {
   "cell_type": "code",
   "execution_count": 3,
   "id": "promotional-stephen",
   "metadata": {},
   "outputs": [],
   "source": [
    "import risk_kit as kit\n",
    "%load_ext autoreload\n",
    "%autoreload 2"
   ]
  },
  {
   "cell_type": "code",
   "execution_count": 4,
   "id": "combined-limit",
   "metadata": {},
   "outputs": [
    {
     "data": {
      "text/html": [
       "<div>\n",
       "<style scoped>\n",
       "    .dataframe tbody tr th:only-of-type {\n",
       "        vertical-align: middle;\n",
       "    }\n",
       "\n",
       "    .dataframe tbody tr th {\n",
       "        vertical-align: top;\n",
       "    }\n",
       "\n",
       "    .dataframe thead th {\n",
       "        text-align: right;\n",
       "    }\n",
       "</style>\n",
       "<table border=\"1\" class=\"dataframe\">\n",
       "  <thead>\n",
       "    <tr style=\"text-align: right;\">\n",
       "      <th></th>\n",
       "      <th>BRKA</th>\n",
       "    </tr>\n",
       "    <tr>\n",
       "      <th>DATE</th>\n",
       "      <th></th>\n",
       "    </tr>\n",
       "  </thead>\n",
       "  <tbody>\n",
       "    <tr>\n",
       "      <th>1990-01</th>\n",
       "      <td>-0.140634</td>\n",
       "    </tr>\n",
       "    <tr>\n",
       "      <th>1990-02</th>\n",
       "      <td>-0.030852</td>\n",
       "    </tr>\n",
       "    <tr>\n",
       "      <th>1990-03</th>\n",
       "      <td>-0.069204</td>\n",
       "    </tr>\n",
       "    <tr>\n",
       "      <th>1990-04</th>\n",
       "      <td>-0.003717</td>\n",
       "    </tr>\n",
       "    <tr>\n",
       "      <th>1990-05</th>\n",
       "      <td>0.067164</td>\n",
       "    </tr>\n",
       "  </tbody>\n",
       "</table>\n",
       "</div>"
      ],
      "text/plain": [
       "             BRKA\n",
       "DATE             \n",
       "1990-01 -0.140634\n",
       "1990-02 -0.030852\n",
       "1990-03 -0.069204\n",
       "1990-04 -0.003717\n",
       "1990-05  0.067164"
      ]
     },
     "execution_count": 4,
     "metadata": {},
     "output_type": "execute_result"
    }
   ],
   "source": [
    "# Resample daily to monthly returns\n",
    "brka_m = brka_d.resample('M').apply(kit.compound).to_period('M')\n",
    "brka_m.head()"
   ]
  },
  {
   "cell_type": "code",
   "execution_count": 5,
   "id": "brief-degree",
   "metadata": {},
   "outputs": [],
   "source": [
    "# Save for future use\n",
    "brka_m.to_csv(\"data/brka_m_ret.csv\")"
   ]
  },
  {
   "cell_type": "markdown",
   "id": "coastal-jones",
   "metadata": {},
   "source": [
    "Next, I'll load the explanatory variables, which is the Fama-French monthly returns dataset. "
   ]
  },
  {
   "cell_type": "code",
   "execution_count": 6,
   "id": "democratic-kenya",
   "metadata": {},
   "outputs": [
    {
     "data": {
      "text/html": [
       "<div>\n",
       "<style scoped>\n",
       "    .dataframe tbody tr th:only-of-type {\n",
       "        vertical-align: middle;\n",
       "    }\n",
       "\n",
       "    .dataframe tbody tr th {\n",
       "        vertical-align: top;\n",
       "    }\n",
       "\n",
       "    .dataframe thead th {\n",
       "        text-align: right;\n",
       "    }\n",
       "</style>\n",
       "<table border=\"1\" class=\"dataframe\">\n",
       "  <thead>\n",
       "    <tr style=\"text-align: right;\">\n",
       "      <th></th>\n",
       "      <th>Mkt-RF</th>\n",
       "      <th>SMB</th>\n",
       "      <th>HML</th>\n",
       "      <th>RF</th>\n",
       "    </tr>\n",
       "  </thead>\n",
       "  <tbody>\n",
       "    <tr>\n",
       "      <th>1926-07</th>\n",
       "      <td>0.0296</td>\n",
       "      <td>-0.0230</td>\n",
       "      <td>-0.0287</td>\n",
       "      <td>0.0022</td>\n",
       "    </tr>\n",
       "    <tr>\n",
       "      <th>1926-08</th>\n",
       "      <td>0.0264</td>\n",
       "      <td>-0.0140</td>\n",
       "      <td>0.0419</td>\n",
       "      <td>0.0025</td>\n",
       "    </tr>\n",
       "    <tr>\n",
       "      <th>1926-09</th>\n",
       "      <td>0.0036</td>\n",
       "      <td>-0.0132</td>\n",
       "      <td>0.0001</td>\n",
       "      <td>0.0023</td>\n",
       "    </tr>\n",
       "    <tr>\n",
       "      <th>1926-10</th>\n",
       "      <td>-0.0324</td>\n",
       "      <td>0.0004</td>\n",
       "      <td>0.0051</td>\n",
       "      <td>0.0032</td>\n",
       "    </tr>\n",
       "    <tr>\n",
       "      <th>1926-11</th>\n",
       "      <td>0.0253</td>\n",
       "      <td>-0.0020</td>\n",
       "      <td>-0.0035</td>\n",
       "      <td>0.0031</td>\n",
       "    </tr>\n",
       "    <tr>\n",
       "      <th>...</th>\n",
       "      <td>...</td>\n",
       "      <td>...</td>\n",
       "      <td>...</td>\n",
       "      <td>...</td>\n",
       "    </tr>\n",
       "    <tr>\n",
       "      <th>2018-08</th>\n",
       "      <td>0.0344</td>\n",
       "      <td>0.0123</td>\n",
       "      <td>-0.0412</td>\n",
       "      <td>0.0016</td>\n",
       "    </tr>\n",
       "    <tr>\n",
       "      <th>2018-09</th>\n",
       "      <td>0.0006</td>\n",
       "      <td>-0.0237</td>\n",
       "      <td>-0.0134</td>\n",
       "      <td>0.0015</td>\n",
       "    </tr>\n",
       "    <tr>\n",
       "      <th>2018-10</th>\n",
       "      <td>-0.0768</td>\n",
       "      <td>-0.0468</td>\n",
       "      <td>0.0341</td>\n",
       "      <td>0.0019</td>\n",
       "    </tr>\n",
       "    <tr>\n",
       "      <th>2018-11</th>\n",
       "      <td>0.0169</td>\n",
       "      <td>-0.0074</td>\n",
       "      <td>0.0020</td>\n",
       "      <td>0.0018</td>\n",
       "    </tr>\n",
       "    <tr>\n",
       "      <th>2018-12</th>\n",
       "      <td>-0.0955</td>\n",
       "      <td>-0.0261</td>\n",
       "      <td>-0.0151</td>\n",
       "      <td>0.0019</td>\n",
       "    </tr>\n",
       "  </tbody>\n",
       "</table>\n",
       "<p>1110 rows × 4 columns</p>\n",
       "</div>"
      ],
      "text/plain": [
       "         Mkt-RF     SMB     HML      RF\n",
       "1926-07  0.0296 -0.0230 -0.0287  0.0022\n",
       "1926-08  0.0264 -0.0140  0.0419  0.0025\n",
       "1926-09  0.0036 -0.0132  0.0001  0.0023\n",
       "1926-10 -0.0324  0.0004  0.0051  0.0032\n",
       "1926-11  0.0253 -0.0020 -0.0035  0.0031\n",
       "...         ...     ...     ...     ...\n",
       "2018-08  0.0344  0.0123 -0.0412  0.0016\n",
       "2018-09  0.0006 -0.0237 -0.0134  0.0015\n",
       "2018-10 -0.0768 -0.0468  0.0341  0.0019\n",
       "2018-11  0.0169 -0.0074  0.0020  0.0018\n",
       "2018-12 -0.0955 -0.0261 -0.0151  0.0019\n",
       "\n",
       "[1110 rows x 4 columns]"
      ]
     },
     "execution_count": 6,
     "metadata": {},
     "output_type": "execute_result"
    }
   ],
   "source": [
    "fama_french = kit.get_fff_returns()\n",
    "fama_french"
   ]
  },
  {
   "cell_type": "markdown",
   "id": "working-branch",
   "metadata": {},
   "source": [
    "**Mkt-RF** --> is the excess return on the market.\n",
    "\n",
    "**RF** --> Risk Free rate.\n",
    "\n",
    "Mkt-RF + RF gives the market returns.\n",
    "\n",
    "The other two variables are the factor mimicking portfolios. In practice, the return of a factor is measured as the return of a real portfolio that mimicks the factor.\n",
    "\n",
    "The return on the market is nothing more than the excess return on the market which is  a factor - it is a portfolio which holds the market and then subtract out the risk-free rate.\n",
    "\n",
    "SMB and HML are also portfolios.\n",
    "\n",
    "**SMB** --> Small Minus Big. SMB is a factor that is a long-short portfolio, long in small caps and short in large caps\n",
    "    \n",
    "    --> a long-short portfolio is a portfolio that has just the excess return associated with size. So this is essentially the returns of the size factor, small minus big. The way this is setup as SMB rather than BMS is because, Fama-French picks that particular order because the factor has a factor premium and therefore this portfolio on average should give you a positive return. \n",
    "    \n",
    "    --> The important thing to note is this portfolio should not really have any market in it by and large and that is why it is set up as long short portfolio and it is constructed in such a way to try and minimize the effect of the market in it. The effect of portfolio is purely of size.\n",
    "    \n",
    "**HML**  --> High minus Low. HML is book to price. So it's basically value. The things that score high, the long part is value and the short part is anti-value or growth. So it is value minus growth or HML.\n"
   ]
  },
  {
   "cell_type": "markdown",
   "id": "separate-richardson",
   "metadata": {},
   "source": [
    "#### Using CAPM"
   ]
  },
  {
   "cell_type": "markdown",
   "id": "historical-advancement",
   "metadata": {},
   "source": [
    "Factor analysis is taking the returns and decomposing into different pieces according to what the factor model tells you. Now decompose BRKA into the portion that is due to the market and the rest that is not due to the market, using the CAPM as the explanatory model.\n",
    "\n",
    "i.e.   $$ R_{brka,t}-R_{f,t} = \\alpha + \\beta (R_{brka,t}-R_{f,t}) +\\epsilon_{t} $$"
   ]
  },
  {
   "cell_type": "markdown",
   "id": "dated-complaint",
   "metadata": {},
   "source": [
    "With CAPM, the returns can be broken up into one major piece and two little add-ons. The major part is the part that is driven by the market - beta times excess return on the market plus some fixed return plus something that is a noise term.\n",
    "\n",
    "This is nothing more than a linear regression."
   ]
  },
  {
   "cell_type": "code",
   "execution_count": 7,
   "id": "bronze-freedom",
   "metadata": {},
   "outputs": [],
   "source": [
    "import statsmodels.api as sm\n",
    "import numpy as np\n",
    "\n",
    "# Decompose the observed BRKA 1990 - May 2012 as in Ang(2014)\n",
    "brka_excess = brka_m[\"1990\":\"2012-05\"] - fama_french.loc[\"1990\":\"2012-05\", ['RF']].values\n",
    "market_excess = fama_french.loc[\"1990\":\"2012-05\", ['Mkt-RF']]\n",
    "exp_var = market_excess.copy()\n",
    "exp_var[\"Constant\"] = 1\n",
    "lm = sm.OLS(brka_excess, exp_var).fit()"
   ]
  },
  {
   "cell_type": "code",
   "execution_count": 8,
   "id": "sharp-preference",
   "metadata": {},
   "outputs": [
    {
     "data": {
      "text/html": [
       "<table class=\"simpletable\">\n",
       "<caption>OLS Regression Results</caption>\n",
       "<tr>\n",
       "  <th>Dep. Variable:</th>          <td>BRKA</td>       <th>  R-squared:         </th> <td>   0.154</td>\n",
       "</tr>\n",
       "<tr>\n",
       "  <th>Model:</th>                   <td>OLS</td>       <th>  Adj. R-squared:    </th> <td>   0.150</td>\n",
       "</tr>\n",
       "<tr>\n",
       "  <th>Method:</th>             <td>Least Squares</td>  <th>  F-statistic:       </th> <td>   48.45</td>\n",
       "</tr>\n",
       "<tr>\n",
       "  <th>Date:</th>             <td>Fri, 09 Jul 2021</td> <th>  Prob (F-statistic):</th> <td>2.62e-11</td>\n",
       "</tr>\n",
       "<tr>\n",
       "  <th>Time:</th>                 <td>12:02:14</td>     <th>  Log-Likelihood:    </th> <td>  388.47</td>\n",
       "</tr>\n",
       "<tr>\n",
       "  <th>No. Observations:</th>      <td>   269</td>      <th>  AIC:               </th> <td>  -772.9</td>\n",
       "</tr>\n",
       "<tr>\n",
       "  <th>Df Residuals:</th>          <td>   267</td>      <th>  BIC:               </th> <td>  -765.7</td>\n",
       "</tr>\n",
       "<tr>\n",
       "  <th>Df Model:</th>              <td>     1</td>      <th>                     </th>     <td> </td>   \n",
       "</tr>\n",
       "<tr>\n",
       "  <th>Covariance Type:</th>      <td>nonrobust</td>    <th>                     </th>     <td> </td>   \n",
       "</tr>\n",
       "</table>\n",
       "<table class=\"simpletable\">\n",
       "<tr>\n",
       "      <td></td>        <th>coef</th>     <th>std err</th>      <th>t</th>      <th>P>|t|</th>  <th>[0.025</th>    <th>0.975]</th>  \n",
       "</tr>\n",
       "<tr>\n",
       "  <th>Mkt-RF</th>   <td>    0.5402</td> <td>    0.078</td> <td>    6.961</td> <td> 0.000</td> <td>    0.387</td> <td>    0.693</td>\n",
       "</tr>\n",
       "<tr>\n",
       "  <th>Constant</th> <td>    0.0061</td> <td>    0.004</td> <td>    1.744</td> <td> 0.082</td> <td>   -0.001</td> <td>    0.013</td>\n",
       "</tr>\n",
       "</table>\n",
       "<table class=\"simpletable\">\n",
       "<tr>\n",
       "  <th>Omnibus:</th>       <td>45.698</td> <th>  Durbin-Watson:     </th> <td>   2.079</td>\n",
       "</tr>\n",
       "<tr>\n",
       "  <th>Prob(Omnibus):</th> <td> 0.000</td> <th>  Jarque-Bera (JB):  </th> <td> 102.573</td>\n",
       "</tr>\n",
       "<tr>\n",
       "  <th>Skew:</th>          <td> 0.825</td> <th>  Prob(JB):          </th> <td>5.33e-23</td>\n",
       "</tr>\n",
       "<tr>\n",
       "  <th>Kurtosis:</th>      <td> 5.535</td> <th>  Cond. No.          </th> <td>    22.2</td>\n",
       "</tr>\n",
       "</table><br/><br/>Notes:<br/>[1] Standard Errors assume that the covariance matrix of the errors is correctly specified."
      ],
      "text/plain": [
       "<class 'statsmodels.iolib.summary.Summary'>\n",
       "\"\"\"\n",
       "                            OLS Regression Results                            \n",
       "==============================================================================\n",
       "Dep. Variable:                   BRKA   R-squared:                       0.154\n",
       "Model:                            OLS   Adj. R-squared:                  0.150\n",
       "Method:                 Least Squares   F-statistic:                     48.45\n",
       "Date:                Fri, 09 Jul 2021   Prob (F-statistic):           2.62e-11\n",
       "Time:                        12:02:14   Log-Likelihood:                 388.47\n",
       "No. Observations:                 269   AIC:                            -772.9\n",
       "Df Residuals:                     267   BIC:                            -765.7\n",
       "Df Model:                           1                                         \n",
       "Covariance Type:            nonrobust                                         \n",
       "==============================================================================\n",
       "                 coef    std err          t      P>|t|      [0.025      0.975]\n",
       "------------------------------------------------------------------------------\n",
       "Mkt-RF         0.5402      0.078      6.961      0.000       0.387       0.693\n",
       "Constant       0.0061      0.004      1.744      0.082      -0.001       0.013\n",
       "==============================================================================\n",
       "Omnibus:                       45.698   Durbin-Watson:                   2.079\n",
       "Prob(Omnibus):                  0.000   Jarque-Bera (JB):              102.573\n",
       "Skew:                           0.825   Prob(JB):                     5.33e-23\n",
       "Kurtosis:                       5.535   Cond. No.                         22.2\n",
       "==============================================================================\n",
       "\n",
       "Notes:\n",
       "[1] Standard Errors assume that the covariance matrix of the errors is correctly specified.\n",
       "\"\"\""
      ]
     },
     "execution_count": 8,
     "metadata": {},
     "output_type": "execute_result"
    }
   ],
   "source": [
    "lm.summary()"
   ]
  },
  {
   "cell_type": "markdown",
   "id": "affiliated-miller",
   "metadata": {},
   "source": [
    "#### The CAPM benchmark interpretation"
   ]
  },
  {
   "cell_type": "markdown",
   "id": "conceptual-valve",
   "metadata": {},
   "source": [
    "This implies that the CAPM benchmark consists of 46cents in T-bills and 54cents in the market. i.e. each dollar in the Berkshire Hathaway portfolio is equivalent to 46cents in T-bills and 54cents in the market. Relative to this, the Berkshire Hathaway portfolio is adding (i.e. as an $\\alpha$ of 0.61% (per month) although the degree of statistical significance is not very high.\n"
   ]
  },
  {
   "cell_type": "markdown",
   "id": "textile-spanish",
   "metadata": {},
   "source": [
    "### Fama-French Benchmark \n",
    "\n",
    "Now, add in some additional explanatory variables, namely Value and Size."
   ]
  },
  {
   "cell_type": "code",
   "execution_count": 9,
   "id": "sitting-replication",
   "metadata": {},
   "outputs": [
    {
     "data": {
      "text/html": [
       "<div>\n",
       "<style scoped>\n",
       "    .dataframe tbody tr th:only-of-type {\n",
       "        vertical-align: middle;\n",
       "    }\n",
       "\n",
       "    .dataframe tbody tr th {\n",
       "        vertical-align: top;\n",
       "    }\n",
       "\n",
       "    .dataframe thead th {\n",
       "        text-align: right;\n",
       "    }\n",
       "</style>\n",
       "<table border=\"1\" class=\"dataframe\">\n",
       "  <thead>\n",
       "    <tr style=\"text-align: right;\">\n",
       "      <th></th>\n",
       "      <th>Mkt-RF</th>\n",
       "      <th>Constant</th>\n",
       "      <th>Value</th>\n",
       "      <th>Size</th>\n",
       "    </tr>\n",
       "  </thead>\n",
       "  <tbody>\n",
       "    <tr>\n",
       "      <th>1990-01</th>\n",
       "      <td>-0.0785</td>\n",
       "      <td>1</td>\n",
       "      <td>0.0087</td>\n",
       "      <td>-0.0129</td>\n",
       "    </tr>\n",
       "    <tr>\n",
       "      <th>1990-02</th>\n",
       "      <td>0.0111</td>\n",
       "      <td>1</td>\n",
       "      <td>0.0061</td>\n",
       "      <td>0.0103</td>\n",
       "    </tr>\n",
       "    <tr>\n",
       "      <th>1990-03</th>\n",
       "      <td>0.0183</td>\n",
       "      <td>1</td>\n",
       "      <td>-0.0290</td>\n",
       "      <td>0.0152</td>\n",
       "    </tr>\n",
       "    <tr>\n",
       "      <th>1990-04</th>\n",
       "      <td>-0.0336</td>\n",
       "      <td>1</td>\n",
       "      <td>-0.0255</td>\n",
       "      <td>-0.0050</td>\n",
       "    </tr>\n",
       "    <tr>\n",
       "      <th>1990-05</th>\n",
       "      <td>0.0842</td>\n",
       "      <td>1</td>\n",
       "      <td>-0.0374</td>\n",
       "      <td>-0.0257</td>\n",
       "    </tr>\n",
       "  </tbody>\n",
       "</table>\n",
       "</div>"
      ],
      "text/plain": [
       "         Mkt-RF  Constant   Value    Size\n",
       "1990-01 -0.0785         1  0.0087 -0.0129\n",
       "1990-02  0.0111         1  0.0061  0.0103\n",
       "1990-03  0.0183         1 -0.0290  0.0152\n",
       "1990-04 -0.0336         1 -0.0255 -0.0050\n",
       "1990-05  0.0842         1 -0.0374 -0.0257"
      ]
     },
     "execution_count": 9,
     "metadata": {},
     "output_type": "execute_result"
    }
   ],
   "source": [
    "exp_var[\"Value\"] = fama_french.loc[\"1990\":\"2012-05\", [\"HML\"]]\n",
    "exp_var[\"Size\"] = fama_french.loc[\"1990\":\"2012-05\", [\"SMB\"]]\n",
    "exp_var.head()"
   ]
  },
  {
   "cell_type": "code",
   "execution_count": 10,
   "id": "detailed-smell",
   "metadata": {},
   "outputs": [
    {
     "data": {
      "text/plain": [
       "(269, 1)"
      ]
     },
     "execution_count": 10,
     "metadata": {},
     "output_type": "execute_result"
    }
   ],
   "source": [
    "brka_excess.shape"
   ]
  },
  {
   "cell_type": "code",
   "execution_count": 11,
   "id": "municipal-cemetery",
   "metadata": {},
   "outputs": [
    {
     "data": {
      "text/plain": [
       "(269, 4)"
      ]
     },
     "execution_count": 11,
     "metadata": {},
     "output_type": "execute_result"
    }
   ],
   "source": [
    "exp_var.shape"
   ]
  },
  {
   "cell_type": "code",
   "execution_count": 12,
   "id": "royal-reset",
   "metadata": {},
   "outputs": [
    {
     "data": {
      "text/html": [
       "<table class=\"simpletable\">\n",
       "<caption>OLS Regression Results</caption>\n",
       "<tr>\n",
       "  <th>Dep. Variable:</th>          <td>BRKA</td>       <th>  R-squared:         </th> <td>   0.290</td>\n",
       "</tr>\n",
       "<tr>\n",
       "  <th>Model:</th>                   <td>OLS</td>       <th>  Adj. R-squared:    </th> <td>   0.282</td>\n",
       "</tr>\n",
       "<tr>\n",
       "  <th>Method:</th>             <td>Least Squares</td>  <th>  F-statistic:       </th> <td>   36.06</td>\n",
       "</tr>\n",
       "<tr>\n",
       "  <th>Date:</th>             <td>Fri, 09 Jul 2021</td> <th>  Prob (F-statistic):</th> <td>1.41e-19</td>\n",
       "</tr>\n",
       "<tr>\n",
       "  <th>Time:</th>                 <td>12:02:15</td>     <th>  Log-Likelihood:    </th> <td>  412.09</td>\n",
       "</tr>\n",
       "<tr>\n",
       "  <th>No. Observations:</th>      <td>   269</td>      <th>  AIC:               </th> <td>  -816.2</td>\n",
       "</tr>\n",
       "<tr>\n",
       "  <th>Df Residuals:</th>          <td>   265</td>      <th>  BIC:               </th> <td>  -801.8</td>\n",
       "</tr>\n",
       "<tr>\n",
       "  <th>Df Model:</th>              <td>     3</td>      <th>                     </th>     <td> </td>   \n",
       "</tr>\n",
       "<tr>\n",
       "  <th>Covariance Type:</th>      <td>nonrobust</td>    <th>                     </th>     <td> </td>   \n",
       "</tr>\n",
       "</table>\n",
       "<table class=\"simpletable\">\n",
       "<tr>\n",
       "      <td></td>        <th>coef</th>     <th>std err</th>      <th>t</th>      <th>P>|t|</th>  <th>[0.025</th>    <th>0.975]</th>  \n",
       "</tr>\n",
       "<tr>\n",
       "  <th>Mkt-RF</th>   <td>    0.6761</td> <td>    0.074</td> <td>    9.155</td> <td> 0.000</td> <td>    0.531</td> <td>    0.821</td>\n",
       "</tr>\n",
       "<tr>\n",
       "  <th>Constant</th> <td>    0.0055</td> <td>    0.003</td> <td>    1.679</td> <td> 0.094</td> <td>   -0.001</td> <td>    0.012</td>\n",
       "</tr>\n",
       "<tr>\n",
       "  <th>Value</th>    <td>    0.3814</td> <td>    0.109</td> <td>    3.508</td> <td> 0.001</td> <td>    0.167</td> <td>    0.595</td>\n",
       "</tr>\n",
       "<tr>\n",
       "  <th>Size</th>     <td>   -0.5023</td> <td>    0.101</td> <td>   -4.962</td> <td> 0.000</td> <td>   -0.702</td> <td>   -0.303</td>\n",
       "</tr>\n",
       "</table>\n",
       "<table class=\"simpletable\">\n",
       "<tr>\n",
       "  <th>Omnibus:</th>       <td>42.261</td> <th>  Durbin-Watson:     </th> <td>   2.146</td>\n",
       "</tr>\n",
       "<tr>\n",
       "  <th>Prob(Omnibus):</th> <td> 0.000</td> <th>  Jarque-Bera (JB):  </th> <td>  67.954</td>\n",
       "</tr>\n",
       "<tr>\n",
       "  <th>Skew:</th>          <td> 0.904</td> <th>  Prob(JB):          </th> <td>1.75e-15</td>\n",
       "</tr>\n",
       "<tr>\n",
       "  <th>Kurtosis:</th>      <td> 4.671</td> <th>  Cond. No.          </th> <td>    37.2</td>\n",
       "</tr>\n",
       "</table><br/><br/>Notes:<br/>[1] Standard Errors assume that the covariance matrix of the errors is correctly specified."
      ],
      "text/plain": [
       "<class 'statsmodels.iolib.summary.Summary'>\n",
       "\"\"\"\n",
       "                            OLS Regression Results                            \n",
       "==============================================================================\n",
       "Dep. Variable:                   BRKA   R-squared:                       0.290\n",
       "Model:                            OLS   Adj. R-squared:                  0.282\n",
       "Method:                 Least Squares   F-statistic:                     36.06\n",
       "Date:                Fri, 09 Jul 2021   Prob (F-statistic):           1.41e-19\n",
       "Time:                        12:02:15   Log-Likelihood:                 412.09\n",
       "No. Observations:                 269   AIC:                            -816.2\n",
       "Df Residuals:                     265   BIC:                            -801.8\n",
       "Df Model:                           3                                         \n",
       "Covariance Type:            nonrobust                                         \n",
       "==============================================================================\n",
       "                 coef    std err          t      P>|t|      [0.025      0.975]\n",
       "------------------------------------------------------------------------------\n",
       "Mkt-RF         0.6761      0.074      9.155      0.000       0.531       0.821\n",
       "Constant       0.0055      0.003      1.679      0.094      -0.001       0.012\n",
       "Value          0.3814      0.109      3.508      0.001       0.167       0.595\n",
       "Size          -0.5023      0.101     -4.962      0.000      -0.702      -0.303\n",
       "==============================================================================\n",
       "Omnibus:                       42.261   Durbin-Watson:                   2.146\n",
       "Prob(Omnibus):                  0.000   Jarque-Bera (JB):               67.954\n",
       "Skew:                           0.904   Prob(JB):                     1.75e-15\n",
       "Kurtosis:                       4.671   Cond. No.                         37.2\n",
       "==============================================================================\n",
       "\n",
       "Notes:\n",
       "[1] Standard Errors assume that the covariance matrix of the errors is correctly specified.\n",
       "\"\"\""
      ]
     },
     "execution_count": 12,
     "metadata": {},
     "output_type": "execute_result"
    }
   ],
   "source": [
    "lm = sm.OLS(brka_excess, exp_var).fit()\n",
    "lm.summary()"
   ]
  },
  {
   "cell_type": "markdown",
   "id": "grave-program",
   "metadata": {},
   "source": [
    "#### The Fama-French Benchmark Interpretation.\n",
    "\n",
    "The $\\alpha$ has fallen from 0.61% to about 0.55% per month. The loading on the market has moved up from 0.54 to 0.67, which means that adding these new explanatory factors did change things. If we had added irrelavant variables the loading in the market would be unaffected.\n"
   ]
  },
  {
   "cell_type": "markdown",
   "id": "theoretical-outside",
   "metadata": {},
   "source": [
    "The positive loadings on Value implies that the Hathaway manager has a value tilt. It would not be a shock to anyone following Warren Buffet. Additionally, the negative tilt on size suggests that Hathaway tends to invest in large companies, not small companies.\n",
    "\n",
    "In other words, Hathaway appears to be a Large Value investor. This was shown using the numbers above.\n",
    "\n",
    "The new way to interpret each dollar invested in Hathway is: 67 cents in the market and 33 cents in Bills, 38 cents in Value stocks and short 38 cents in growth stocks; short 50 cents in small-cap stocks and long 50cents in large-cap stocks.\n",
    "\n",
    "With all this you would still end up underperforming Hathaway by about 55 basis points per month.\n",
    "\n"
   ]
  },
  {
   "cell_type": "markdown",
   "id": "hispanic-recommendation",
   "metadata": {},
   "source": [
    "***Now check if Buffets tilts are consistent over the whole time period***"
   ]
  },
  {
   "cell_type": "code",
   "execution_count": 13,
   "id": "thermal-creator",
   "metadata": {},
   "outputs": [],
   "source": [
    "brka_m = pd.read_csv(\"data/brka_m_ret.csv\", index_col=0)\n",
    "brka_m.index = pd.to_datetime(brka_m.index, format=\"%Y-%m\").to_period('M')\n",
    "fama_french = kit.get_fff_returns()"
   ]
  },
  {
   "cell_type": "code",
   "execution_count": 14,
   "id": "colored-meaning",
   "metadata": {},
   "outputs": [],
   "source": [
    "brka_excess = brka_m[\"1990\":\"2018-12\"] - fama_french.loc[\"1990\":\"2018\", ['RF']].values\n",
    "market_excess = fama_french.loc[\"1990\":\"2018\", ['Mkt-RF']]\n",
    "exp_var = market_excess.copy()"
   ]
  },
  {
   "cell_type": "code",
   "execution_count": 15,
   "id": "curious-metallic",
   "metadata": {},
   "outputs": [],
   "source": [
    "exp_var[\"Value\"] = fama_french.loc[\"1990\":\"2018\", [\"HML\"]]\n",
    "exp_var[\"Size\"] = fama_french.loc[\"1990\":\"2018\", [\"SMB\"]]"
   ]
  },
  {
   "cell_type": "code",
   "execution_count": 16,
   "id": "unlikely-rotation",
   "metadata": {},
   "outputs": [
    {
     "data": {
      "text/html": [
       "<table class=\"simpletable\">\n",
       "<caption>OLS Regression Results</caption>\n",
       "<tr>\n",
       "  <th>Dep. Variable:</th>          <td>BRKA</td>       <th>  R-squared:         </th> <td>   0.317</td>\n",
       "</tr>\n",
       "<tr>\n",
       "  <th>Model:</th>                   <td>OLS</td>       <th>  Adj. R-squared:    </th> <td>   0.311</td>\n",
       "</tr>\n",
       "<tr>\n",
       "  <th>Method:</th>             <td>Least Squares</td>  <th>  F-statistic:       </th> <td>   53.29</td>\n",
       "</tr>\n",
       "<tr>\n",
       "  <th>Date:</th>             <td>Fri, 09 Jul 2021</td> <th>  Prob (F-statistic):</th> <td>2.59e-28</td>\n",
       "</tr>\n",
       "<tr>\n",
       "  <th>Time:</th>                 <td>12:02:15</td>     <th>  Log-Likelihood:    </th> <td>  567.01</td>\n",
       "</tr>\n",
       "<tr>\n",
       "  <th>No. Observations:</th>      <td>   348</td>      <th>  AIC:               </th> <td>  -1126.</td>\n",
       "</tr>\n",
       "<tr>\n",
       "  <th>Df Residuals:</th>          <td>   344</td>      <th>  BIC:               </th> <td>  -1111.</td>\n",
       "</tr>\n",
       "<tr>\n",
       "  <th>Df Model:</th>              <td>     3</td>      <th>                     </th>     <td> </td>   \n",
       "</tr>\n",
       "<tr>\n",
       "  <th>Covariance Type:</th>      <td>nonrobust</td>    <th>                     </th>     <td> </td>   \n",
       "</tr>\n",
       "</table>\n",
       "<table class=\"simpletable\">\n",
       "<tr>\n",
       "     <td></td>       <th>coef</th>     <th>std err</th>      <th>t</th>      <th>P>|t|</th>  <th>[0.025</th>    <th>0.975]</th>  \n",
       "</tr>\n",
       "<tr>\n",
       "  <th>Mkt-RF</th> <td>    0.7096</td> <td>    0.063</td> <td>   11.350</td> <td> 0.000</td> <td>    0.587</td> <td>    0.833</td>\n",
       "</tr>\n",
       "<tr>\n",
       "  <th>Value</th>  <td>    0.4053</td> <td>    0.090</td> <td>    4.494</td> <td> 0.000</td> <td>    0.228</td> <td>    0.583</td>\n",
       "</tr>\n",
       "<tr>\n",
       "  <th>Size</th>   <td>   -0.4829</td> <td>    0.085</td> <td>   -5.696</td> <td> 0.000</td> <td>   -0.650</td> <td>   -0.316</td>\n",
       "</tr>\n",
       "<tr>\n",
       "  <th>Alpha</th>  <td>    0.0052</td> <td>    0.003</td> <td>    1.991</td> <td> 0.047</td> <td> 6.18e-05</td> <td>    0.010</td>\n",
       "</tr>\n",
       "</table>\n",
       "<table class=\"simpletable\">\n",
       "<tr>\n",
       "  <th>Omnibus:</th>       <td>64.922</td> <th>  Durbin-Watson:     </th> <td>   2.162</td>\n",
       "</tr>\n",
       "<tr>\n",
       "  <th>Prob(Omnibus):</th> <td> 0.000</td> <th>  Jarque-Bera (JB):  </th> <td> 138.061</td>\n",
       "</tr>\n",
       "<tr>\n",
       "  <th>Skew:</th>          <td> 0.962</td> <th>  Prob(JB):          </th> <td>1.05e-30</td>\n",
       "</tr>\n",
       "<tr>\n",
       "  <th>Kurtosis:</th>      <td> 5.413</td> <th>  Cond. No.          </th> <td>    38.1</td>\n",
       "</tr>\n",
       "</table><br/><br/>Notes:<br/>[1] Standard Errors assume that the covariance matrix of the errors is correctly specified."
      ],
      "text/plain": [
       "<class 'statsmodels.iolib.summary.Summary'>\n",
       "\"\"\"\n",
       "                            OLS Regression Results                            \n",
       "==============================================================================\n",
       "Dep. Variable:                   BRKA   R-squared:                       0.317\n",
       "Model:                            OLS   Adj. R-squared:                  0.311\n",
       "Method:                 Least Squares   F-statistic:                     53.29\n",
       "Date:                Fri, 09 Jul 2021   Prob (F-statistic):           2.59e-28\n",
       "Time:                        12:02:15   Log-Likelihood:                 567.01\n",
       "No. Observations:                 348   AIC:                            -1126.\n",
       "Df Residuals:                     344   BIC:                            -1111.\n",
       "Df Model:                           3                                         \n",
       "Covariance Type:            nonrobust                                         \n",
       "==============================================================================\n",
       "                 coef    std err          t      P>|t|      [0.025      0.975]\n",
       "------------------------------------------------------------------------------\n",
       "Mkt-RF         0.7096      0.063     11.350      0.000       0.587       0.833\n",
       "Value          0.4053      0.090      4.494      0.000       0.228       0.583\n",
       "Size          -0.4829      0.085     -5.696      0.000      -0.650      -0.316\n",
       "Alpha          0.0052      0.003      1.991      0.047    6.18e-05       0.010\n",
       "==============================================================================\n",
       "Omnibus:                       64.922   Durbin-Watson:                   2.162\n",
       "Prob(Omnibus):                  0.000   Jarque-Bera (JB):              138.061\n",
       "Skew:                           0.962   Prob(JB):                     1.05e-30\n",
       "Kurtosis:                       5.413   Cond. No.                         38.1\n",
       "==============================================================================\n",
       "\n",
       "Notes:\n",
       "[1] Standard Errors assume that the covariance matrix of the errors is correctly specified.\n",
       "\"\"\""
      ]
     },
     "execution_count": 16,
     "metadata": {},
     "output_type": "execute_result"
    }
   ],
   "source": [
    "result = kit.regress(brka_excess, exp_var)\n",
    "result.summary()"
   ]
  }
 ],
 "metadata": {
  "kernelspec": {
   "display_name": "Python 3",
   "language": "python",
   "name": "python3"
  },
  "language_info": {
   "codemirror_mode": {
    "name": "ipython",
    "version": 3
   },
   "file_extension": ".py",
   "mimetype": "text/x-python",
   "name": "python",
   "nbconvert_exporter": "python",
   "pygments_lexer": "ipython3",
   "version": "3.8.3"
  }
 },
 "nbformat": 4,
 "nbformat_minor": 5
}
