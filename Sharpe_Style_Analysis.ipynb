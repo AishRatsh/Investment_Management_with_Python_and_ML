{
 "cells": [
  {
   "cell_type": "markdown",
   "id": "advised-columbus",
   "metadata": {},
   "source": [
    "### SHARPE STYLE ANALYSIS"
   ]
  },
  {
   "cell_type": "markdown",
   "id": "expired-windows",
   "metadata": {},
   "source": [
    "Sharpe Style Analysis is an elegant and simple decomposition exercise similar to Fama-French, with the added constraint that the coeeficients are all positive and add to 1. \n",
    "\n",
    "Therefore, the coefficients of performing style analysis on the observed return of a manager can be interpreted as weights in a portfolio of building blocks which together, mimic that return series. \n",
    "\n",
    "The analysis can also reveal drifts in a manager's style as well as provide insight into what the manager is likely doing to obtain the returns.\n"
   ]
  },
  {
   "cell_type": "markdown",
   "id": "selected-software",
   "metadata": {},
   "source": [
    "Using a quadratic optimizer, the weights that minimizes -  the square of the difference between the observed series and the returns of a benchmark portfolio that holds the building blocks in those same weights. This is equivalent to minimizing the tracking error between the two return series."
   ]
  },
  {
   "cell_type": "code",
   "execution_count": 1,
   "id": "together-hotel",
   "metadata": {},
   "outputs": [],
   "source": [
    "import numpy as np\n",
    "import pandas as pd\n",
    "from scipy.optimize import minimize\n",
    "import risk_kit as kit\n",
    "%load_ext autoreload\n",
    "%autoreload 2"
   ]
  },
  {
   "cell_type": "code",
   "execution_count": 2,
   "id": "acceptable-melissa",
   "metadata": {},
   "outputs": [],
   "source": [
    "def style_analysis(dependant_variables, explanatory_variables):\n",
    "    \"\"\"\n",
    "    Returns the optimal weights that minimizes the Tracking error \n",
    "    between a portfolio of the explanatory variables and the dependant variables.\n",
    "    Code is slight variation to the minimize_vol function in toolkit.\n",
    "    \"\"\"\n",
    "    n = explanatory_variables.shape[1]\n",
    "    init_guess = np.repeat(1/n, n)\n",
    "    bounds = ((0.0, 1.0),) * n # an N-tuple of 2-tuples.\n",
    "    # Constraints\n",
    "    weights_sum_to_1 = {\n",
    "                        'type':'eq',\n",
    "                        'fun': lambda weights: np.sum(weights) - 1\n",
    "                        }\n",
    "    solution = minimize(portfolio_tracking_error, \n",
    "                        init_guess, \n",
    "                        args = (dependant_variables, explanatory_variables,),\n",
    "                        method = 'SLSQP',\n",
    "                        options = {'disp':False},\n",
    "                        constraints = (weights_sum_to_1,),\n",
    "                        bounds = bounds\n",
    "                       )\n",
    "    weights = pd.Series(solution.x, index=explanatory_variables.columns)\n",
    "    return weights"
   ]
  },
  {
   "cell_type": "code",
   "execution_count": 3,
   "id": "severe-destiny",
   "metadata": {},
   "outputs": [],
   "source": [
    "# Objective function\n",
    "def portfolio_tracking_error(weights, reference_returns, buildingblock_returns):\n",
    "    \"\"\"\n",
    "    Returns the tracking error between the reference returns \n",
    "    and a portfolio of building block returns held with given weights.\n",
    "    \"\"\"\n",
    "    return tracking_error(reference_returns, (weights*buildingblock_returns).sum(axis=1))"
   ]
  },
  {
   "cell_type": "code",
   "execution_count": 4,
   "id": "academic-vehicle",
   "metadata": {},
   "outputs": [],
   "source": [
    "def tracking_error(r_a, r_b):\n",
    "    \"\"\"\n",
    "    Returns the Tracking Error between the two return series\n",
    "    \"\"\"\n",
    "    return np.sqrt(((r_a - r_b)**2).sum())"
   ]
  },
  {
   "cell_type": "code",
   "execution_count": 5,
   "id": "outside-episode",
   "metadata": {},
   "outputs": [
    {
     "data": {
      "text/html": [
       "<div>\n",
       "<style scoped>\n",
       "    .dataframe tbody tr th:only-of-type {\n",
       "        vertical-align: middle;\n",
       "    }\n",
       "\n",
       "    .dataframe tbody tr th {\n",
       "        vertical-align: top;\n",
       "    }\n",
       "\n",
       "    .dataframe thead th {\n",
       "        text-align: right;\n",
       "    }\n",
       "</style>\n",
       "<table border=\"1\" class=\"dataframe\">\n",
       "  <thead>\n",
       "    <tr style=\"text-align: right;\">\n",
       "      <th></th>\n",
       "      <th>Food</th>\n",
       "      <th>Beer</th>\n",
       "      <th>Smoke</th>\n",
       "      <th>Games</th>\n",
       "      <th>Books</th>\n",
       "      <th>Hshld</th>\n",
       "      <th>Clths</th>\n",
       "      <th>Hlth</th>\n",
       "      <th>Chems</th>\n",
       "      <th>Txtls</th>\n",
       "      <th>...</th>\n",
       "      <th>Telcm</th>\n",
       "      <th>Servs</th>\n",
       "      <th>BusEq</th>\n",
       "      <th>Paper</th>\n",
       "      <th>Trans</th>\n",
       "      <th>Whlsl</th>\n",
       "      <th>Rtail</th>\n",
       "      <th>Meals</th>\n",
       "      <th>Fin</th>\n",
       "      <th>Other</th>\n",
       "    </tr>\n",
       "  </thead>\n",
       "  <tbody>\n",
       "    <tr>\n",
       "      <th>2000-01</th>\n",
       "      <td>-0.0829</td>\n",
       "      <td>-0.0228</td>\n",
       "      <td>-0.0862</td>\n",
       "      <td>0.0229</td>\n",
       "      <td>-0.0092</td>\n",
       "      <td>-0.0651</td>\n",
       "      <td>-0.1138</td>\n",
       "      <td>0.0756</td>\n",
       "      <td>-0.0933</td>\n",
       "      <td>-0.0764</td>\n",
       "      <td>...</td>\n",
       "      <td>-0.0404</td>\n",
       "      <td>-0.0973</td>\n",
       "      <td>-0.0064</td>\n",
       "      <td>-0.0878</td>\n",
       "      <td>-0.0959</td>\n",
       "      <td>0.0899</td>\n",
       "      <td>-0.1453</td>\n",
       "      <td>-0.0739</td>\n",
       "      <td>-0.0442</td>\n",
       "      <td>-0.0412</td>\n",
       "    </tr>\n",
       "    <tr>\n",
       "      <th>2000-02</th>\n",
       "      <td>-0.0689</td>\n",
       "      <td>-0.1164</td>\n",
       "      <td>-0.0401</td>\n",
       "      <td>-0.0177</td>\n",
       "      <td>-0.0071</td>\n",
       "      <td>-0.1157</td>\n",
       "      <td>-0.1278</td>\n",
       "      <td>-0.0288</td>\n",
       "      <td>-0.0729</td>\n",
       "      <td>-0.0584</td>\n",
       "      <td>...</td>\n",
       "      <td>-0.0359</td>\n",
       "      <td>0.0759</td>\n",
       "      <td>0.2509</td>\n",
       "      <td>-0.1142</td>\n",
       "      <td>-0.0535</td>\n",
       "      <td>0.0113</td>\n",
       "      <td>-0.0393</td>\n",
       "      <td>-0.1203</td>\n",
       "      <td>-0.0849</td>\n",
       "      <td>-0.0061</td>\n",
       "    </tr>\n",
       "    <tr>\n",
       "      <th>2000-03</th>\n",
       "      <td>0.0969</td>\n",
       "      <td>0.0013</td>\n",
       "      <td>0.0511</td>\n",
       "      <td>0.1052</td>\n",
       "      <td>0.1293</td>\n",
       "      <td>-0.1426</td>\n",
       "      <td>0.2506</td>\n",
       "      <td>0.0028</td>\n",
       "      <td>0.1217</td>\n",
       "      <td>0.0535</td>\n",
       "      <td>...</td>\n",
       "      <td>0.0757</td>\n",
       "      <td>0.0269</td>\n",
       "      <td>0.0456</td>\n",
       "      <td>0.0836</td>\n",
       "      <td>0.1287</td>\n",
       "      <td>0.0659</td>\n",
       "      <td>0.1436</td>\n",
       "      <td>0.1598</td>\n",
       "      <td>0.1669</td>\n",
       "      <td>-0.0016</td>\n",
       "    </tr>\n",
       "    <tr>\n",
       "      <th>2000-04</th>\n",
       "      <td>-0.0390</td>\n",
       "      <td>0.0368</td>\n",
       "      <td>0.0379</td>\n",
       "      <td>0.0220</td>\n",
       "      <td>-0.0734</td>\n",
       "      <td>0.0429</td>\n",
       "      <td>0.0430</td>\n",
       "      <td>0.0525</td>\n",
       "      <td>-0.0373</td>\n",
       "      <td>0.0648</td>\n",
       "      <td>...</td>\n",
       "      <td>-0.0790</td>\n",
       "      <td>-0.1655</td>\n",
       "      <td>-0.0630</td>\n",
       "      <td>-0.0109</td>\n",
       "      <td>0.0348</td>\n",
       "      <td>-0.0107</td>\n",
       "      <td>-0.0560</td>\n",
       "      <td>0.0382</td>\n",
       "      <td>-0.0425</td>\n",
       "      <td>0.0819</td>\n",
       "    </tr>\n",
       "    <tr>\n",
       "      <th>2000-05</th>\n",
       "      <td>0.1565</td>\n",
       "      <td>0.1187</td>\n",
       "      <td>0.1951</td>\n",
       "      <td>0.0119</td>\n",
       "      <td>-0.0593</td>\n",
       "      <td>0.0279</td>\n",
       "      <td>-0.0504</td>\n",
       "      <td>0.0394</td>\n",
       "      <td>-0.0010</td>\n",
       "      <td>-0.0328</td>\n",
       "      <td>...</td>\n",
       "      <td>-0.1041</td>\n",
       "      <td>-0.0892</td>\n",
       "      <td>-0.1165</td>\n",
       "      <td>-0.0137</td>\n",
       "      <td>-0.0363</td>\n",
       "      <td>0.0193</td>\n",
       "      <td>-0.0304</td>\n",
       "      <td>-0.0421</td>\n",
       "      <td>0.0506</td>\n",
       "      <td>0.0531</td>\n",
       "    </tr>\n",
       "  </tbody>\n",
       "</table>\n",
       "<p>5 rows × 30 columns</p>\n",
       "</div>"
      ],
      "text/plain": [
       "           Food    Beer   Smoke   Games   Books   Hshld   Clths    Hlth  \\\n",
       "2000-01 -0.0829 -0.0228 -0.0862  0.0229 -0.0092 -0.0651 -0.1138  0.0756   \n",
       "2000-02 -0.0689 -0.1164 -0.0401 -0.0177 -0.0071 -0.1157 -0.1278 -0.0288   \n",
       "2000-03  0.0969  0.0013  0.0511  0.1052  0.1293 -0.1426  0.2506  0.0028   \n",
       "2000-04 -0.0390  0.0368  0.0379  0.0220 -0.0734  0.0429  0.0430  0.0525   \n",
       "2000-05  0.1565  0.1187  0.1951  0.0119 -0.0593  0.0279 -0.0504  0.0394   \n",
       "\n",
       "          Chems   Txtls  ...   Telcm   Servs   BusEq   Paper   Trans   Whlsl  \\\n",
       "2000-01 -0.0933 -0.0764  ... -0.0404 -0.0973 -0.0064 -0.0878 -0.0959  0.0899   \n",
       "2000-02 -0.0729 -0.0584  ... -0.0359  0.0759  0.2509 -0.1142 -0.0535  0.0113   \n",
       "2000-03  0.1217  0.0535  ...  0.0757  0.0269  0.0456  0.0836  0.1287  0.0659   \n",
       "2000-04 -0.0373  0.0648  ... -0.0790 -0.1655 -0.0630 -0.0109  0.0348 -0.0107   \n",
       "2000-05 -0.0010 -0.0328  ... -0.1041 -0.0892 -0.1165 -0.0137 -0.0363  0.0193   \n",
       "\n",
       "          Rtail   Meals     Fin   Other  \n",
       "2000-01 -0.1453 -0.0739 -0.0442 -0.0412  \n",
       "2000-02 -0.0393 -0.1203 -0.0849 -0.0061  \n",
       "2000-03  0.1436  0.1598  0.1669 -0.0016  \n",
       "2000-04 -0.0560  0.0382 -0.0425  0.0819  \n",
       "2000-05 -0.0304 -0.0421  0.0506  0.0531  \n",
       "\n",
       "[5 rows x 30 columns]"
      ]
     },
     "execution_count": 5,
     "metadata": {},
     "output_type": "execute_result"
    }
   ],
   "source": [
    "# Load and format the Ken French 30 Industry Portfolios Value Weighted Monthly Returns.\n",
    "ind = kit.get_ind_returns()[\"2000\":]\n",
    "ind.head()"
   ]
  },
  {
   "cell_type": "markdown",
   "id": "enclosed-platform",
   "metadata": {},
   "source": [
    "Construct a manager that invests 30% in Beer, 50% in Tobacco and 20% in other things that have an average return of 0% and an annualized volatility of 15%."
   ]
  },
  {
   "cell_type": "code",
   "execution_count": 6,
   "id": "rising-egypt",
   "metadata": {},
   "outputs": [],
   "source": [
    "mgr_returns = 0.3*ind[\"Beer\"] + 0.5*ind[\"Smoke\"] + 0.2*np.random.normal(scale=0.15/(12**0.5), size=ind.shape[0])"
   ]
  },
  {
   "cell_type": "markdown",
   "id": "conditional-impossible",
   "metadata": {},
   "source": [
    "***Now assume that we knew absolutely nothing about this manager and all we observed was the returns. How could we tell what she was invested in?*** "
   ]
  },
  {
   "cell_type": "code",
   "execution_count": 7,
   "id": "running-newton",
   "metadata": {},
   "outputs": [],
   "source": [
    "weights = style_analysis(mgr_returns, ind)*100"
   ]
  },
  {
   "cell_type": "code",
   "execution_count": 8,
   "id": "numerical-disaster",
   "metadata": {},
   "outputs": [
    {
     "data": {
      "text/plain": [
       "<matplotlib.axes._subplots.AxesSubplot at 0x1b7836e1400>"
      ]
     },
     "execution_count": 8,
     "metadata": {},
     "output_type": "execute_result"
    },
    {
     "data": {
      "image/png": "[encoded data removed]",
      "text/plain": [
       "<Figure size 432x288 with 1 Axes>"
      ]
     },
     "metadata": {
      "needs_background": "light"
     },
     "output_type": "display_data"
    }
   ],
   "source": [
    "weights.sort_values(ascending=False).head(6).plot.bar()"
   ]
  },
  {
   "cell_type": "code",
   "execution_count": 9,
   "id": "magnetic-compression",
   "metadata": {},
   "outputs": [
    {
     "data": {
      "text/plain": [
       "Smoke    47.939854\n",
       "Beer     34.952243\n",
       "Food      4.989320\n",
       "Hlth      4.209746\n",
       "Util      3.725941\n",
       "Rtail     2.285074\n",
       "dtype: float64"
      ]
     },
     "execution_count": 9,
     "metadata": {},
     "output_type": "execute_result"
    }
   ],
   "source": [
    "weights.sort_values(ascending=False).head(6)"
   ]
  },
  {
   "cell_type": "markdown",
   "id": "confidential-estate",
   "metadata": {},
   "source": [
    "We can see here that when we reverse engineer the weights that we get out of the style analysis, we get something that is actually pretty close."
   ]
  },
  {
   "cell_type": "markdown",
   "id": "mighty-farming",
   "metadata": {},
   "source": [
    "Then we get some small investment, 6% in utils, 4% in Household etc, which is wrong because we know that this manager did not invest in those. SO we do get some spurious answers."
   ]
  },
  {
   "cell_type": "markdown",
   "id": "exterior-delay",
   "metadata": {},
   "source": [
    "But we can see that a good use of Sharpe Style Analysis is just to give a very broad picture. "
   ]
  },
  {
   "cell_type": "markdown",
   "id": "random-bhutan",
   "metadata": {},
   "source": [
    "Contrast this to the results of a regression. Because the model is in fact very True (i.e. we really did construct the manager's returns out of the building blocks), the results are remarkably accurate. "
   ]
  },
  {
   "cell_type": "code",
   "execution_count": 10,
   "id": "frozen-topic",
   "metadata": {},
   "outputs": [
    {
     "data": {
      "text/plain": [
       "BusEq   -2.970791\n",
       "Oil     -2.213114\n",
       "Clths   -1.990530\n",
       "Hshld   -1.743915\n",
       "Fin     -1.520440\n",
       "dtype: float64"
      ]
     },
     "execution_count": 10,
     "metadata": {},
     "output_type": "execute_result"
    }
   ],
   "source": [
    "coeffs = kit.regress(mgr_returns, ind).params*100\n",
    "coeffs.sort_values().head()"
   ]
  },
  {
   "cell_type": "markdown",
   "id": "other-shell",
   "metadata": {},
   "source": [
    "The negative coefficients are really hard to interpret and in real-life data, those will be much larger. However, when it works well, such as in this artificial example here, the results can be very accurate."
   ]
  },
  {
   "cell_type": "code",
   "execution_count": 11,
   "id": "subjective-google",
   "metadata": {},
   "outputs": [
    {
     "data": {
      "text/plain": [
       "<matplotlib.axes._subplots.AxesSubplot at 0x1b783814ca0>"
      ]
     },
     "execution_count": 11,
     "metadata": {},
     "output_type": "execute_result"
    },
    {
     "data": {
      "image/png": "[encoded data removed]",
      "text/plain": [
       "<Figure size 432x288 with 1 Axes>"
      ]
     },
     "metadata": {
      "needs_background": "light"
     },
     "output_type": "display_data"
    }
   ],
   "source": [
    "coeffs.sort_values(ascending=False).head(6).plot.bar()"
   ]
  },
  {
   "cell_type": "markdown",
   "id": "canadian-camel",
   "metadata": {},
   "source": [
    "### Warning: Potential misuse of Style Analysis"
   ]
  },
  {
   "cell_type": "markdown",
   "id": "built-notebook",
   "metadata": {},
   "source": [
    "Style Analysis works best when the explanatory indices are in fact a good explanation of what is happening. For instance, it usually gives you very useful and revealing insight if you use a stock market index (such as SPY) and other broad indices, EFTs or mutual funds (such as a Value Fund, a Growth Fund, an international Fund, a Bond Fund etc).\n",
    "\n",
    "Part of the skill in extracting meaningful results is to pick the right set of explanatory variables.\n",
    "\n",
    "However, a part of the challenge with Style Analysis is that it will ***always*** return a portfolio. Although it is possible to develop a figure of merit of fit quality similar to an $R^{2}$, it will still always give you an answer, however unreasonable it might be, and it's not always obvious how much one can rely on the result."
   ]
  },
  {
   "cell_type": "markdown",
   "id": "minor-prairie",
   "metadata": {},
   "source": [
    "For instance, we can try and extract the major industries taht Buffet invested in since 2000 as folows:"
   ]
  },
  {
   "cell_type": "code",
   "execution_count": 12,
   "id": "secure-tiffany",
   "metadata": {},
   "outputs": [],
   "source": [
    "brka_m = pd.read_csv(\"data/brka_m_ret.csv\", index_col=0, parse_dates=True).to_period('M')"
   ]
  },
  {
   "cell_type": "code",
   "execution_count": 13,
   "id": "compressed-species",
   "metadata": {},
   "outputs": [
    {
     "data": {
      "text/plain": [
       "Food     41.35\n",
       "Fin      17.61\n",
       "Meals    12.11\n",
       "Other    11.03\n",
       "Util      7.19\n",
       "Clths     5.99\n",
       "dtype: float64"
      ]
     },
     "execution_count": 13,
     "metadata": {},
     "output_type": "execute_result"
    }
   ],
   "source": [
    "mrg_returns_buffet = brka_m[\"2000\":][\"BRKA\"] \n",
    "weights_buffet = kit.style_analysis(mrg_returns_buffet, ind)\n",
    "weights_buffet.sort_values(ascending=False).head(6).round(4)*100"
   ]
  },
  {
   "cell_type": "markdown",
   "id": "honest-collaboration",
   "metadata": {},
   "source": [
    "If we want to look at the last decade:"
   ]
  },
  {
   "cell_type": "code",
   "execution_count": 14,
   "id": "sporting-seventh",
   "metadata": {},
   "outputs": [
    {
     "data": {
      "text/plain": [
       "Other    43.64\n",
       "Food     28.33\n",
       "Hlth     22.72\n",
       "Rtail     5.25\n",
       "Meals     0.07\n",
       "Books     0.00\n",
       "dtype: float64"
      ]
     },
     "execution_count": 14,
     "metadata": {},
     "output_type": "execute_result"
    }
   ],
   "source": [
    "brk2009 = brka_m[\"2009\":][\"BRKA\"]\n",
    "ind2009 = ind[\"2009\":]\n",
    "kit.style_analysis(brk2009, ind2009).sort_values(ascending=False).head(6).round(4)*100"
   ]
  },
  {
   "cell_type": "markdown",
   "id": "inclusive-locator",
   "metadata": {},
   "source": [
    "Should you believe this analysis? *Probably not*. However, when the specification is in fact accurate (as we saw in the artificially generated series) the results can be very revealing."
   ]
  }
 ],
 "metadata": {
  "kernelspec": {
   "display_name": "Python 3",
   "language": "python",
   "name": "python3"
  },
  "language_info": {
   "codemirror_mode": {
    "name": "ipython",
    "version": 3
   },
   "file_extension": ".py",
   "mimetype": "text/x-python",
   "name": "python",
   "nbconvert_exporter": "python",
   "pygments_lexer": "ipython3",
   "version": "3.8.3"
  }
 },
 "nbformat": 4,
 "nbformat_minor": 5
}
