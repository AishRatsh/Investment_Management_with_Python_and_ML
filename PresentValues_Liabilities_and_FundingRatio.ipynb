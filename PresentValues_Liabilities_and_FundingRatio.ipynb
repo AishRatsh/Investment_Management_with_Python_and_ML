{
 "cells": [
  {
   "cell_type": "markdown",
   "id": "formal-valley",
   "metadata": {},
   "source": [
    "## Present Value of Liabilities and Funding Ratio"
   ]
  },
  {
   "cell_type": "markdown",
   "id": "acquired-fourth",
   "metadata": {},
   "source": [
    "Goal is to answer one of the most important purpose of investing.\n",
    "\n",
    "The goal of investing is not simply to grow your assets to as large as possible. The goal of investing is to make sure that you will have the money that you need to do the things that you want to do in the future.\n",
    "\n",
    "We are going to come up with some basic functionality that allows us to measure two things:\n",
    "\n",
    "    1. What is future liability / future consumption? How to model that?\n",
    "\n",
    "    2. Do I have enough money today to be able to meet that, and how do I measure that? (Funding ratio)\n"
   ]
  },
  {
   "cell_type": "markdown",
   "id": "greenhouse-stockholm",
   "metadata": {},
   "source": [
    "Present value of a set of liabilities L where each liability $L_i$ is due at time $t_i$ is given by:\n",
    "$ PV(L) = \\sum\\limits _{i=1}^{k}B(t_i)L_i $ \n",
    "\n",
    "where $B(t_i)$ is the price of a pure discount bond that pays 1 dollar at time, $t_i$ as you have to discount them somehow for the time value of money. In other words, you discount each liability. So you discount each liability by a factor, what would $1, at time $t_i$ in the future, cost me today to buy? That is the price of a pure discount bond.\n",
    "\n",
    "If we assume the yield curve is lat and the annual rate of interest is $r$ then $B(t)$ is given by \n",
    "\n",
    "$$B(t) = \\frac{1}{(1+r)^t}$$\n",
    "\n",
    "or \n",
    "\n",
    "$$B(t)(1+r)^t = 1$$"
   ]
  },
  {
   "cell_type": "markdown",
   "id": "fatty-johns",
   "metadata": {},
   "source": [
    "B(t) is simply the amount of money such that, when compounded at the current interest rate t times, will give $1."
   ]
  },
  {
   "cell_type": "code",
   "execution_count": 1,
   "id": "opposed-physiology",
   "metadata": {},
   "outputs": [],
   "source": [
    "import pandas as pd\n",
    "import numpy as np\n",
    "import risk_kit as kit\n",
    "%load_ext autoreload\n",
    "%autoreload 2"
   ]
  },
  {
   "cell_type": "code",
   "execution_count": 2,
   "id": "english-formula",
   "metadata": {},
   "outputs": [],
   "source": [
    "def discount(t, r):\n",
    "    \"\"\"\n",
    "    Compute the price of a pure discount bond that pays a dollar at time t, given interest rate r\n",
    "    \"\"\"\n",
    "    return (1+r)**(-t)"
   ]
  },
  {
   "cell_type": "code",
   "execution_count": 4,
   "id": "prostate-congo",
   "metadata": {},
   "outputs": [
    {
     "data": {
      "text/plain": [
       "0.7440939148967249"
      ]
     },
     "execution_count": 4,
     "metadata": {},
     "output_type": "execute_result"
    }
   ],
   "source": [
    "# Assume that the yield curve is flat. That means that the interest rate is the same, regardless of whether it is 1,3 or 5 years.\n",
    "discount(10, .03)"
   ]
  },
  {
   "cell_type": "markdown",
   "id": "textile-smoke",
   "metadata": {},
   "source": [
    "It takes 75cents to get 1$ back at the end of 10 years. We can verify this by compounding."
   ]
  },
  {
   "cell_type": "code",
   "execution_count": 6,
   "id": "direct-cloud",
   "metadata": {},
   "outputs": [
    {
     "data": {
      "text/plain": [
       "1.0"
      ]
     },
     "execution_count": 6,
     "metadata": {},
     "output_type": "execute_result"
    }
   ],
   "source": [
    "0.7440939148967249*(1.03**10)"
   ]
  },
  {
   "cell_type": "markdown",
   "id": "aggregate-header",
   "metadata": {},
   "source": [
    "Now that we know how to discount a liability, we can extend that to computing the present value. The present value is nothing more than the sum of the discounted liabilities."
   ]
  },
  {
   "cell_type": "code",
   "execution_count": 8,
   "id": "prepared-colombia",
   "metadata": {},
   "outputs": [],
   "source": [
    "# Present value of set of liabilities given an interest rate r\n",
    "def pv(l, r):\n",
    "    \"\"\"\n",
    "    Computes the present value of a sequence of liabilities\n",
    "    l is indexed by the time, and the values are the amounts of each liability returns the present value of the sequence.\n",
    "    \"\"\"\n",
    "    \n",
    "    dates = l.index\n",
    "    discounts = discount(dates, r)\n",
    "    return (discounts*l).sum()\n",
    "    "
   ]
  },
  {
   "cell_type": "code",
   "execution_count": 10,
   "id": "entertaining-malpractice",
   "metadata": {},
   "outputs": [
    {
     "data": {
      "text/plain": [
       "3.0    1.0\n",
       "3.5    1.5\n",
       "4.0    2.0\n",
       "4.5    2.5\n",
       "dtype: float64"
      ]
     },
     "execution_count": 10,
     "metadata": {},
     "output_type": "execute_result"
    }
   ],
   "source": [
    "# Assume liabilities 1million, 1.5, 2, 2.5 millions to pay in 3 , 3.5, 4, 4.5 years resp.\n",
    "liabilities = pd.Series(data=[1, 1.5, 2, 2.5], index=[3, 3.5, 4, 4.5] )\n",
    "liabilities"
   ]
  },
  {
   "cell_type": "code",
   "execution_count": 11,
   "id": "radical-henry",
   "metadata": {},
   "outputs": [
    {
     "data": {
      "text/plain": [
       "6.233320315080045"
      ]
     },
     "execution_count": 11,
     "metadata": {},
     "output_type": "execute_result"
    }
   ],
   "source": [
    "# Assume interest flat rate 3%\n",
    "pv(liabilities, 0.03)"
   ]
  },
  {
   "cell_type": "code",
   "execution_count": 12,
   "id": "certified-height",
   "metadata": {},
   "outputs": [
    {
     "data": {
      "text/plain": [
       "7.0"
      ]
     },
     "execution_count": 12,
     "metadata": {},
     "output_type": "execute_result"
    }
   ],
   "source": [
    "liabilities.sum()"
   ]
  },
  {
   "cell_type": "markdown",
   "id": "ordinary-income",
   "metadata": {},
   "source": [
    "What this means is the present value of liabilities because of time value of money is 6.2million $. So, in the future you owe 7million$. If you had 6.2million today and you have this particular sequence of liabilities in the future, you can pay it off.\n",
    "\n",
    "This is defined by Funding ratio"
   ]
  },
  {
   "cell_type": "code",
   "execution_count": 13,
   "id": "demographic-iceland",
   "metadata": {},
   "outputs": [],
   "source": [
    "def funding_ratio(assets, liabilities, r):\n",
    "    \"\"\"\n",
    "    Computes the funding ratio of some assets given liabilities and interest rate\n",
    "    \"\"\"\n",
    "    return assets/pv(liabilities, r)"
   ]
  },
  {
   "cell_type": "code",
   "execution_count": 14,
   "id": "generic-medicine",
   "metadata": {},
   "outputs": [
    {
     "data": {
      "text/plain": [
       "0.8021407126958777"
      ]
     },
     "execution_count": 14,
     "metadata": {},
     "output_type": "execute_result"
    }
   ],
   "source": [
    "# Assume you have 5million $\n",
    "funding_ratio(5, liabilities, 0.03)"
   ]
  },
  {
   "cell_type": "markdown",
   "id": "pharmaceutical-board",
   "metadata": {},
   "source": [
    "This means that you are 80% funded. That means, unless you do something else, you cannot put your 5million dollars in bonds and expect to meet your liabilities."
   ]
  },
  {
   "cell_type": "code",
   "execution_count": 15,
   "id": "selected-confusion",
   "metadata": {},
   "outputs": [
    {
     "data": {
      "text/plain": [
       "0.7720304366941648"
      ]
     },
     "execution_count": 15,
     "metadata": {},
     "output_type": "execute_result"
    }
   ],
   "source": [
    "# Assume that the interest rates go down\n",
    "funding_ratio(5, liabilities, 0.02)"
   ]
  },
  {
   "cell_type": "markdown",
   "id": "handy-shore",
   "metadata": {},
   "source": [
    "The funding ratio is now worse. The reason is that the value of the liabilities have gone up. In other words, the amount by which the assets that you have now will grow more slowly and so you won't be able to meet your liabilities."
   ]
  },
  {
   "cell_type": "code",
   "execution_count": 16,
   "id": "portuguese-bulgarian",
   "metadata": {},
   "outputs": [
    {
     "data": {
      "text/plain": [
       "0.8649082768407927"
      ]
     },
     "execution_count": 16,
     "metadata": {},
     "output_type": "execute_result"
    }
   ],
   "source": [
    "# Assume that the interest rates go up\n",
    "funding_ratio(5, liabilities, 0.05)"
   ]
  },
  {
   "cell_type": "markdown",
   "id": "fleet-senator",
   "metadata": {},
   "source": [
    "Now the funding ratio has gone up"
   ]
  },
  {
   "cell_type": "code",
   "execution_count": 19,
   "id": "cellular-greeting",
   "metadata": {},
   "outputs": [
    {
     "data": {
      "application/vnd.jupyter.widget-view+json": {
       "model_id": "f1dea2eab13d4145b0d137e6c6d5c2eb",
       "version_major": 2,
       "version_minor": 0
      },
      "text/plain": [
       "interactive(children=(IntSlider(value=5, description='assets', max=10, min=1), FloatSlider(value=0.1, descript…"
      ]
     },
     "metadata": {},
     "output_type": "display_data"
    }
   ],
   "source": [
    "import ipywidgets as widgets\n",
    "from IPython.display import display\n",
    "%matplotlib inline\n",
    "\n",
    "def show_funding_ratio(assets, r):\n",
    "    \"\"\"\n",
    "    How does the funding ratio change when either the assets I have increase or the interest charge increase.\n",
    "    \"\"\"\n",
    "    fr = funding_ratio(assets, liabilities, r)\n",
    "    print(f'{fr*100:.2f}')\n",
    "    \n",
    "controls = widgets.interactive(show_funding_ratio,\n",
    "                              assets = widgets.IntSlider(min=1, max=10, step=1, value=5),\n",
    "                               r = (0,.20, .01)\n",
    "                              )\n",
    "display(controls)"
   ]
  },
  {
   "cell_type": "markdown",
   "id": "accepted-naples",
   "metadata": {},
   "source": [
    "When assets increase, funding ratio increases. Around 5 million and 10% interest rate, you have just enough to cover the liabilities. If rate decreases, the funding ratio decreases."
   ]
  }
 ],
 "metadata": {
  "kernelspec": {
   "display_name": "Python 3",
   "language": "python",
   "name": "python3"
  },
  "language_info": {
   "codemirror_mode": {
    "name": "ipython",
    "version": 3
   },
   "file_extension": ".py",
   "mimetype": "text/x-python",
   "name": "python",
   "nbconvert_exporter": "python",
   "pygments_lexer": "ipython3",
   "version": "3.8.3"
  }
 },
 "nbformat": 4,
 "nbformat_minor": 5
}
