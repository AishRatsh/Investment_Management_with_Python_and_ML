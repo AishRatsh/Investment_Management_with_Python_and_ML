{
 "cells": [
  {
   "cell_type": "markdown",
   "id": "identical-vacuum",
   "metadata": {},
   "source": [
    "To solve the risk budgeting problem, we'll start by doing very simple and native risk budgeting strategies. We'll see that it helps, but it is really not solving the fundamental problem of meeting our liabilities. We'll start with something simple by figuring out how to write allocators, how to write strategies, how to backtest strategies that construct portfolios that mix PSP and GHP in some sort of systematic way.  "
   ]
  },
  {
   "cell_type": "code",
   "execution_count": 1,
   "id": "enormous-pencil",
   "metadata": {},
   "outputs": [],
   "source": [
    "import numpy as np\n",
    "import pandas as pd\n",
    "import risk_kit as kit\n",
    "%matplotlib inline\n",
    "%load_ext autoreload\n",
    "%autoreload 2"
   ]
  },
  {
   "cell_type": "code",
   "execution_count": 2,
   "id": "assigned-thong",
   "metadata": {},
   "outputs": [],
   "source": [
    "# Backtester to test different mixes between two different portfolios from returns\n",
    "def backtest_mix(r1, r2, allocator, **kwargs):\n",
    "    \"\"\"\n",
    "    Runs a back test (simulation) of allocating between two sets of returns.\n",
    "    r1 and r2 are T*N DataFrames or returns where T is the time step index and \n",
    "    N is the number of scenarios.\n",
    "    allocator is a function that takes two sets of returns and allocator specific parameters.\n",
    "    and produces an allocation to the first portfolio (the rest of the money is invested \n",
    "    in the GHP) as a T*1 DataFrame.\n",
    "    Returns a T*N DataFrame of the resulting N portfolio scenarios.\n",
    "    \"\"\"\n",
    "    \n",
    "    if not r1.shape == r2.shape:\n",
    "        raise ValueError(\"r1 and r2 need to be the same shape\")\n",
    "        \n",
    "    weights = allocator(r1, r2, **kwargs)\n",
    "    \n",
    "    if not weights.shape == r1.shape:\n",
    "        raise ValueError(\"Allocator returned weights that don't match r1\")\n",
    "        \n",
    "    r_mix = weights*r1 + (1-weights)*r2\n",
    "    return r_mix\n",
    "    \n",
    "    "
   ]
  },
  {
   "cell_type": "code",
   "execution_count": 3,
   "id": "bibliographic-cloud",
   "metadata": {},
   "outputs": [],
   "source": [
    "# Write a simpe allocator\n",
    "def fixed_mix_allocator(r1, r2, w1, **kwargs):\n",
    "    \"\"\"\n",
    "    Produces a time series over T steps of allocations between the PSP and GHP across N scenarios.\n",
    "    PSP and GHP are T*N DataFrames that represent the returns of the PSP and GHP such that:\n",
    "        - each column is a scenario\n",
    "        - each row is the price for a timestep.\n",
    "    Returns an T*N DataFrame of PSP weights.\n",
    "    \"\"\"\n",
    "    # same mix every single time\n",
    "    return pd.DataFrame(data=w1, index= r1.index, columns=r1.columns)"
   ]
  },
  {
   "cell_type": "code",
   "execution_count": 4,
   "id": "alleged-stick",
   "metadata": {},
   "outputs": [
    {
     "data": {
      "text/html": [
       "<div>\n",
       "<style scoped>\n",
       "    .dataframe tbody tr th:only-of-type {\n",
       "        vertical-align: middle;\n",
       "    }\n",
       "\n",
       "    .dataframe tbody tr th {\n",
       "        vertical-align: top;\n",
       "    }\n",
       "\n",
       "    .dataframe thead th {\n",
       "        text-align: right;\n",
       "    }\n",
       "</style>\n",
       "<table border=\"1\" class=\"dataframe\">\n",
       "  <thead>\n",
       "    <tr style=\"text-align: right;\">\n",
       "      <th></th>\n",
       "      <th>Annualied Return</th>\n",
       "      <th>Annualized Vol</th>\n",
       "      <th>Skewness</th>\n",
       "      <th>Kurtosis</th>\n",
       "      <th>Cornish-Fisher VaR (5%)</th>\n",
       "      <th>Historic CVaR (5%)</th>\n",
       "      <th>Sharpe Ratio</th>\n",
       "      <th>Max Drawdown</th>\n",
       "    </tr>\n",
       "  </thead>\n",
       "  <tbody>\n",
       "    <tr>\n",
       "      <th>0</th>\n",
       "      <td>0.035519</td>\n",
       "      <td>0.003534</td>\n",
       "      <td>0.294926</td>\n",
       "      <td>3.625019</td>\n",
       "      <td>-0.001342</td>\n",
       "      <td>-0.000762</td>\n",
       "      <td>1.519785</td>\n",
       "      <td>0.0</td>\n",
       "    </tr>\n",
       "  </tbody>\n",
       "</table>\n",
       "</div>"
      ],
      "text/plain": [
       "   Annualied Return  Annualized Vol  Skewness  Kurtosis  \\\n",
       "0          0.035519        0.003534  0.294926  3.625019   \n",
       "\n",
       "   Cornish-Fisher VaR (5%)  Historic CVaR (5%)  Sharpe Ratio  Max Drawdown  \n",
       "0                -0.001342           -0.000762      1.519785           0.0  "
      ]
     },
     "execution_count": 4,
     "metadata": {},
     "output_type": "execute_result"
    }
   ],
   "source": [
    "# From Monte-Carlo simulation \n",
    "\n",
    "# Get rates and 500 scenarios for zero-coupon prices for a bond with 10 year maturity, 500 scenarios\n",
    "rates, zc_prices = kit.cir(10, 500, b=0.03, r_0=0.03)\n",
    "price_10 = kit.bond_price(10, 100, .05, 12, rates)\n",
    "price_30 = kit.bond_price(30, 100, .05, 12, rates)\n",
    "# Compute Returns\n",
    "returns_30 = kit.bond_total_return(price_30, 100, .05, 12)\n",
    "returns_10 = kit.bond_total_return(price_10, 100, .05, 12)\n",
    "\n",
    "# Call fixed mix allocator, with the two sets of returns. \n",
    "# Backtest the mixer giving it the returns of 10 and 30 year bond returns \n",
    "returns_bonds = backtest_mix(returns_10, returns_30, allocator=fixed_mix_allocator, w1=0.6)\n",
    "# calculate composite of the bonds and compute the stats of the composite.\n",
    "mean_rets_bonds = returns_bonds.mean(axis='columns')\n",
    "kit.summary_stats(pd.DataFrame(mean_rets_bonds))"
   ]
  },
  {
   "cell_type": "code",
   "execution_count": 5,
   "id": "signed-lunch",
   "metadata": {},
   "outputs": [],
   "source": [
    "# Generate some Equity returns\n",
    "price_equity = kit.gbm(n_years=10, n_scenarios=500, mu=0.07, sigma=0.15)\n",
    "returns_equity =  price_equity.pct_change().dropna()\n",
    "\n",
    "# Compute the returns of zero-coupon bond. \n",
    "returns_zerocoupon = zc_prices.pct_change().dropna()"
   ]
  },
  {
   "cell_type": "markdown",
   "id": "fleet-building",
   "metadata": {},
   "source": [
    "It is ok to do this because the price return of a zero-coupon bond is the total return of a zero-coupon bond because it doesn't pay coupons."
   ]
  },
  {
   "cell_type": "code",
   "execution_count": 6,
   "id": "annoying-assault",
   "metadata": {},
   "outputs": [
    {
     "data": {
      "text/html": [
       "<div>\n",
       "<style scoped>\n",
       "    .dataframe tbody tr th:only-of-type {\n",
       "        vertical-align: middle;\n",
       "    }\n",
       "\n",
       "    .dataframe tbody tr th {\n",
       "        vertical-align: top;\n",
       "    }\n",
       "\n",
       "    .dataframe thead th {\n",
       "        text-align: right;\n",
       "    }\n",
       "</style>\n",
       "<table border=\"1\" class=\"dataframe\">\n",
       "  <thead>\n",
       "    <tr style=\"text-align: right;\">\n",
       "      <th></th>\n",
       "      <th>Annualied Return</th>\n",
       "      <th>Annualized Vol</th>\n",
       "      <th>Skewness</th>\n",
       "      <th>Kurtosis</th>\n",
       "      <th>Cornish-Fisher VaR (5%)</th>\n",
       "      <th>Historic CVaR (5%)</th>\n",
       "      <th>Sharpe Ratio</th>\n",
       "      <th>Max Drawdown</th>\n",
       "    </tr>\n",
       "  </thead>\n",
       "  <tbody>\n",
       "    <tr>\n",
       "      <th>0</th>\n",
       "      <td>0.060017</td>\n",
       "      <td>0.005388</td>\n",
       "      <td>-0.083729</td>\n",
       "      <td>2.355636</td>\n",
       "      <td>-0.002266</td>\n",
       "      <td>-0.001784</td>\n",
       "      <td>5.422681</td>\n",
       "      <td>0.0</td>\n",
       "    </tr>\n",
       "  </tbody>\n",
       "</table>\n",
       "</div>"
      ],
      "text/plain": [
       "   Annualied Return  Annualized Vol  Skewness  Kurtosis  \\\n",
       "0          0.060017        0.005388 -0.083729  2.355636   \n",
       "\n",
       "   Cornish-Fisher VaR (5%)  Historic CVaR (5%)  Sharpe Ratio  Max Drawdown  \n",
       "0                -0.002266           -0.001784      5.422681           0.0  "
      ]
     },
     "execution_count": 6,
     "metadata": {},
     "output_type": "execute_result"
    }
   ],
   "source": [
    "# Now I can construct a portfolio which is a composite of 70-30 \n",
    "# 70% in PSP\n",
    "returns_7030bond = backtest_mix(returns_equity, returns_bonds, allocator=fixed_mix_allocator, w1=0.7)\n",
    "returns_7030bond_mean_return = returns_7030bond.mean(axis=1)\n",
    "kit.summary_stats(pd.DataFrame(returns_7030bond_mean_return))"
   ]
  },
  {
   "cell_type": "markdown",
   "id": "endless-motion",
   "metadata": {},
   "source": [
    "This tells us that the annualized return here is higher than the return you would get with just a \n",
    "60-40 bond mix. "
   ]
  },
  {
   "cell_type": "markdown",
   "id": "solid-replacement",
   "metadata": {},
   "source": [
    "If you have the money to buy zero-coupon bonds or do a full duration matched bond portfolio to the duration of your liabilities and you can get the funding ratio of 100%, you are good. You have the money that you need so just move everything to bonds and stop taking any further risk. But if you don't have the money, you are going to have to put some money in the PSP and this thing is showing exactly what would happen. The more money you put into your PSP, the more your annualized return is going to be and so better chance that you hit your liabilities. "
   ]
  },
  {
   "cell_type": "code",
   "execution_count": 7,
   "id": "deluxe-viewer",
   "metadata": {},
   "outputs": [
    {
     "data": {
      "text/html": [
       "<div>\n",
       "<style scoped>\n",
       "    .dataframe tbody tr th:only-of-type {\n",
       "        vertical-align: middle;\n",
       "    }\n",
       "\n",
       "    .dataframe tbody tr th {\n",
       "        vertical-align: top;\n",
       "    }\n",
       "\n",
       "    .dataframe thead th {\n",
       "        text-align: right;\n",
       "    }\n",
       "</style>\n",
       "<table border=\"1\" class=\"dataframe\">\n",
       "  <thead>\n",
       "    <tr style=\"text-align: right;\">\n",
       "      <th></th>\n",
       "      <th>Annualied Return</th>\n",
       "      <th>Annualized Vol</th>\n",
       "      <th>Skewness</th>\n",
       "      <th>Kurtosis</th>\n",
       "      <th>Cornish-Fisher VaR (5%)</th>\n",
       "      <th>Historic CVaR (5%)</th>\n",
       "      <th>Sharpe Ratio</th>\n",
       "      <th>Max Drawdown</th>\n",
       "    </tr>\n",
       "  </thead>\n",
       "  <tbody>\n",
       "    <tr>\n",
       "      <th>0</th>\n",
       "      <td>0.097028</td>\n",
       "      <td>0.104801</td>\n",
       "      <td>-0.059554</td>\n",
       "      <td>2.846941</td>\n",
       "      <td>0.041958</td>\n",
       "      <td>0.054170</td>\n",
       "      <td>0.622387</td>\n",
       "      <td>-0.117293</td>\n",
       "    </tr>\n",
       "    <tr>\n",
       "      <th>1</th>\n",
       "      <td>0.090093</td>\n",
       "      <td>0.114882</td>\n",
       "      <td>0.132335</td>\n",
       "      <td>2.807892</td>\n",
       "      <td>0.045441</td>\n",
       "      <td>0.054528</td>\n",
       "      <td>0.508992</td>\n",
       "      <td>-0.124688</td>\n",
       "    </tr>\n",
       "    <tr>\n",
       "      <th>2</th>\n",
       "      <td>0.048523</td>\n",
       "      <td>0.103696</td>\n",
       "      <td>-0.048370</td>\n",
       "      <td>2.579693</td>\n",
       "      <td>0.045294</td>\n",
       "      <td>0.054032</td>\n",
       "      <td>0.173729</td>\n",
       "      <td>-0.191818</td>\n",
       "    </tr>\n",
       "    <tr>\n",
       "      <th>3</th>\n",
       "      <td>0.026935</td>\n",
       "      <td>0.123805</td>\n",
       "      <td>-0.027570</td>\n",
       "      <td>2.613961</td>\n",
       "      <td>0.056246</td>\n",
       "      <td>0.068448</td>\n",
       "      <td>-0.024249</td>\n",
       "      <td>-0.240313</td>\n",
       "    </tr>\n",
       "    <tr>\n",
       "      <th>4</th>\n",
       "      <td>0.073161</td>\n",
       "      <td>0.114640</td>\n",
       "      <td>-0.097732</td>\n",
       "      <td>2.205520</td>\n",
       "      <td>0.049203</td>\n",
       "      <td>0.053215</td>\n",
       "      <td>0.366299</td>\n",
       "      <td>-0.131993</td>\n",
       "    </tr>\n",
       "  </tbody>\n",
       "</table>\n",
       "</div>"
      ],
      "text/plain": [
       "   Annualied Return  Annualized Vol  Skewness  Kurtosis  \\\n",
       "0          0.097028        0.104801 -0.059554  2.846941   \n",
       "1          0.090093        0.114882  0.132335  2.807892   \n",
       "2          0.048523        0.103696 -0.048370  2.579693   \n",
       "3          0.026935        0.123805 -0.027570  2.613961   \n",
       "4          0.073161        0.114640 -0.097732  2.205520   \n",
       "\n",
       "   Cornish-Fisher VaR (5%)  Historic CVaR (5%)  Sharpe Ratio  Max Drawdown  \n",
       "0                 0.041958            0.054170      0.622387     -0.117293  \n",
       "1                 0.045441            0.054528      0.508992     -0.124688  \n",
       "2                 0.045294            0.054032      0.173729     -0.191818  \n",
       "3                 0.056246            0.068448     -0.024249     -0.240313  \n",
       "4                 0.049203            0.053215      0.366299     -0.131993  "
      ]
     },
     "execution_count": 7,
     "metadata": {},
     "output_type": "execute_result"
    }
   ],
   "source": [
    "# Another - better way of doing the same thing as above\n",
    "summaries = kit.summary_stats(returns_7030bond)\n",
    "summaries.head()"
   ]
  },
  {
   "cell_type": "code",
   "execution_count": 8,
   "id": "ruled-phrase",
   "metadata": {},
   "outputs": [
    {
     "data": {
      "text/plain": [
       "Annualied Return           0.054470\n",
       "Annualized Vol             0.107753\n",
       "Skewness                   0.005894\n",
       "Kurtosis                   2.930638\n",
       "Cornish-Fisher VaR (5%)    0.046044\n",
       "Historic CVaR (5%)         0.057968\n",
       "Sharpe Ratio               0.223900\n",
       "Max Drawdown              -0.209439\n",
       "dtype: float64"
      ]
     },
     "execution_count": 8,
     "metadata": {},
     "output_type": "execute_result"
    }
   ],
   "source": [
    "summaries.mean()"
   ]
  },
  {
   "cell_type": "markdown",
   "id": "middle-exploration",
   "metadata": {},
   "source": [
    "The first method computes one time series which is the average of all the 500 different possible scenarios and then computes the summary stats on that average case.\n",
    "\n",
    "\n",
    "The second method calculates each statistic for every one of those 500 different scenarios and computes the average across those statistics.\n",
    "\n",
    "Both of these are not the proper way to do this, these are shortcuts, but it tells you how the returns work.The annualized returns are going to be higher.\n"
   ]
  },
  {
   "cell_type": "markdown",
   "id": "defensive-facility",
   "metadata": {},
   "source": [
    "The proper way is to look at terminal values. At the end of the period, how much cash do you have?"
   ]
  },
  {
   "cell_type": "code",
   "execution_count": 9,
   "id": "broadband-bailey",
   "metadata": {},
   "outputs": [],
   "source": [
    "def terminal_values(rets):\n",
    "    \"\"\"\n",
    "    Returns the final values (of a dollar) at the end of the return period for each scenario.\n",
    "    \"\"\"\n",
    "    # It is nothing more than the compounded return.\n",
    "    return (rets+1).prod()"
   ]
  },
  {
   "cell_type": "code",
   "execution_count": 10,
   "id": "occupied-holocaust",
   "metadata": {},
   "outputs": [],
   "source": [
    "def terminal_stats(rets, floor=0.8, cap=np.inf, name=\"Stats\"):\n",
    "    \"\"\"\n",
    "    Produce summary statistics on the terminal values per invested dollar across a range of N scenarios.\n",
    "    rets is a T*N DataFrame of return, where T is the time-step (we assume returns are sorted by time).\n",
    "    Returns a 1 column DataFrame of Summary Stats indexed by the stats name.\n",
    "    \"\"\"\n",
    "    terminal_wealth = (rets+1).prod()\n",
    "    breach = terminal_wealth < floor\n",
    "    reach = terminal_wealth >= cap\n",
    "    p_breach = breach.mean() if breach.sum() > 0 else np.nan\n",
    "    p_reach = breach.mean() if reach.sum() > 0 else np.nan\n",
    "    e_short = (floor - terminal_wealth[breach]).mean() if breach.sum() > 0 else np.nan\n",
    "    e_surplus = (cap - terminal_wealth[reach]).mean() if reach.sum() > 0 else np.nan\n",
    "    sum_stats = pd.DataFrame.from_dict({\n",
    "        \"mean\": terminal_wealth.mean(),\n",
    "        \"std\": terminal_wealth.std(),\n",
    "        \"p_breach\": p_breach,\n",
    "        \"e_short\": e_short,\n",
    "        \"p_reach\": p_reach,\n",
    "        \"e_surplus\": e_surplus\n",
    "    }, orient=\"index\", columns=[name])\n",
    "    return sum_stats\n"
   ]
  },
  {
   "cell_type": "code",
   "execution_count": 11,
   "id": "continued-handy",
   "metadata": {},
   "outputs": [
    {
     "data": {
      "text/html": [
       "<div>\n",
       "<style scoped>\n",
       "    .dataframe tbody tr th:only-of-type {\n",
       "        vertical-align: middle;\n",
       "    }\n",
       "\n",
       "    .dataframe tbody tr th {\n",
       "        vertical-align: top;\n",
       "    }\n",
       "\n",
       "    .dataframe thead th {\n",
       "        text-align: right;\n",
       "    }\n",
       "</style>\n",
       "<table border=\"1\" class=\"dataframe\">\n",
       "  <thead>\n",
       "    <tr style=\"text-align: right;\">\n",
       "      <th></th>\n",
       "      <th>FI</th>\n",
       "      <th>Eq</th>\n",
       "      <th>70/30</th>\n",
       "    </tr>\n",
       "  </thead>\n",
       "  <tbody>\n",
       "    <tr>\n",
       "      <th>mean</th>\n",
       "      <td>1.378784</td>\n",
       "      <td>1.965515</td>\n",
       "      <td>1.781038</td>\n",
       "    </tr>\n",
       "    <tr>\n",
       "      <th>std</th>\n",
       "      <td>0.114169</td>\n",
       "      <td>0.964952</td>\n",
       "      <td>0.596266</td>\n",
       "    </tr>\n",
       "    <tr>\n",
       "      <th>p_breach</th>\n",
       "      <td>NaN</td>\n",
       "      <td>0.044000</td>\n",
       "      <td>0.008000</td>\n",
       "    </tr>\n",
       "    <tr>\n",
       "      <th>e_short</th>\n",
       "      <td>NaN</td>\n",
       "      <td>0.108763</td>\n",
       "      <td>0.060852</td>\n",
       "    </tr>\n",
       "    <tr>\n",
       "      <th>p_reach</th>\n",
       "      <td>NaN</td>\n",
       "      <td>NaN</td>\n",
       "      <td>NaN</td>\n",
       "    </tr>\n",
       "    <tr>\n",
       "      <th>e_surplus</th>\n",
       "      <td>NaN</td>\n",
       "      <td>NaN</td>\n",
       "      <td>NaN</td>\n",
       "    </tr>\n",
       "  </tbody>\n",
       "</table>\n",
       "</div>"
      ],
      "text/plain": [
       "                 FI        Eq     70/30\n",
       "mean       1.378784  1.965515  1.781038\n",
       "std        0.114169  0.964952  0.596266\n",
       "p_breach        NaN  0.044000  0.008000\n",
       "e_short         NaN  0.108763  0.060852\n",
       "p_reach         NaN       NaN       NaN\n",
       "e_surplus       NaN       NaN       NaN"
      ]
     },
     "execution_count": 11,
     "metadata": {},
     "output_type": "execute_result"
    }
   ],
   "source": [
    "pd.concat([\n",
    "            terminal_stats(returns_bonds, name=\"FI\"),\n",
    "            terminal_stats(returns_equity, name=\"Eq\"),\n",
    "            terminal_stats(returns_7030bond, name=\"70/30\"),\n",
    "          ], axis=1)"
   ]
  },
  {
   "cell_type": "markdown",
   "id": "surgical-apparel",
   "metadata": {},
   "source": [
    "It says that, across those 500 scenarios that we tested, \n",
    "    - the mean case here is, if you invest in the fixed income strategy, that's 40/60, between the short and long bond (10 and 30 year bond) you'll end up with $1.38.\n",
    "    \n",
    "    - for equities you'll end up with $1.97 and for 70/30 you'll end up with 1.78\n",
    "    \n",
    "I have set my floor at 80%. If you think of .8 as your liability.\n",
    "\n",
    "Floor is the number I do not want to be below. The minimum acceptable liability in the goal based investing paradigm, essentially what they call the minimum essential goal.\n",
    "\n",
    "I started with a dollar. This says that for every dollar, you'll end up with 1.38$ and the probability that you'll end up below 0.8 is zero [p_breach was not a significant number]. That is the beauty of fixed income: the at you tend not to lose that kind of money over a period of 10 years; with the long bond you might end up below."
   ]
  },
  {
   "cell_type": "markdown",
   "id": "active-annotation",
   "metadata": {},
   "source": [
    "*Equities*"
   ]
  },
  {
   "cell_type": "markdown",
   "id": "decent-decrease",
   "metadata": {},
   "source": [
    "If you look at equities, equities gave you much greater shot at your upside. The problem was that you got a 5.8% chance that you will end up below"
   ]
  },
  {
   "cell_type": "markdown",
   "id": "rational-sponsorship",
   "metadata": {},
   "source": [
    "### CHECK THIS"
   ]
  },
  {
   "cell_type": "code",
   "execution_count": null,
   "id": "raised-integer",
   "metadata": {},
   "outputs": [],
   "source": []
  },
  {
   "cell_type": "code",
   "execution_count": 12,
   "id": "interested-sessions",
   "metadata": {},
   "outputs": [
    {
     "data": {
      "text/plain": [
       "<matplotlib.legend.Legend at 0x18e648a6340>"
      ]
     },
     "execution_count": 12,
     "metadata": {},
     "output_type": "execute_result"
    },
    {
     "data": {
      "image/png": "[encoded data removed]",
      "text/plain": [
       "<Figure size 864x432 with 1 Axes>"
      ]
     },
     "metadata": {
      "needs_background": "light"
     },
     "output_type": "display_data"
    }
   ],
   "source": [
    "import warnings\n",
    "warnings.filterwarnings('ignore')\n",
    "import seaborn as sns\n",
    "import matplotlib.pyplot as plt\n",
    "plt.figure(figsize=(12,6))\n",
    "sns.distplot(kit.terminal_values(returns_equity), color=\"red\", label=\"100% Equities\")\n",
    "sns.distplot(kit.terminal_values(returns_bonds), color=\"blue\", label=\"100% Bonds\")\n",
    "sns.distplot(kit.terminal_values(returns_7030bond), color=\"orange\", label=\"70/30 Equities/Bonds\")\n",
    "plt.legend()"
   ]
  },
  {
   "cell_type": "markdown",
   "id": "frank-superintendent",
   "metadata": {},
   "source": [
    "If you look at the point of 0.8, there is still a significant mass above it, meaning with the 100% equities or even with 70/30 version, there is a significant probability of ending up below it. *This is what we want to eliminate.*\n"
   ]
  },
  {
   "cell_type": "markdown",
   "id": "documented-vulnerability",
   "metadata": {},
   "source": [
    "Instead of fixed mix, if you think risk as time, as you get to the end of your time period, you move to bonds. This is the basic idea behind **Target date fund**."
   ]
  },
  {
   "cell_type": "markdown",
   "id": "revised-westminster",
   "metadata": {},
   "source": [
    "### Glide Paths for Allocation"
   ]
  },
  {
   "cell_type": "code",
   "execution_count": 13,
   "id": "round-swing",
   "metadata": {},
   "outputs": [],
   "source": [
    "# Start out with something like 80-90% in stocks \n",
    "# and then glide the way to a glide path over those 10 years\n",
    "# glide from 100% to 0% by default\n",
    "def glidepath_allocator(r1, r2, start_glide=1, end_glide=0):\n",
    "    \"\"\"\n",
    "    Simulates a Target-Date-Fund style gradual move from r1 to r2.\n",
    "    \"\"\"\n",
    "    n_points = r1.shape[0]\n",
    "    n_column = r1.shape[1]\n",
    "    glide_path = pd.Series(data=np.linspace(start_glide, end_glide, num=n_points))\n",
    "    # we need to return as many columns as r1\n",
    "    paths = pd.concat([glide_path]*n_column, axis=1)\n",
    "    paths.index = r1.index\n",
    "    paths.columns = r1.columns\n",
    "    return paths"
   ]
  },
  {
   "cell_type": "code",
   "execution_count": 14,
   "id": "square-medicine",
   "metadata": {},
   "outputs": [
    {
     "data": {
      "text/html": [
       "<div>\n",
       "<style scoped>\n",
       "    .dataframe tbody tr th:only-of-type {\n",
       "        vertical-align: middle;\n",
       "    }\n",
       "\n",
       "    .dataframe tbody tr th {\n",
       "        vertical-align: top;\n",
       "    }\n",
       "\n",
       "    .dataframe thead th {\n",
       "        text-align: right;\n",
       "    }\n",
       "</style>\n",
       "<table border=\"1\" class=\"dataframe\">\n",
       "  <thead>\n",
       "    <tr style=\"text-align: right;\">\n",
       "      <th></th>\n",
       "      <th>FI</th>\n",
       "      <th>Eq</th>\n",
       "      <th>70/30</th>\n",
       "      <th>Glide 80 to 20</th>\n",
       "    </tr>\n",
       "  </thead>\n",
       "  <tbody>\n",
       "    <tr>\n",
       "      <th>mean</th>\n",
       "      <td>1.378784</td>\n",
       "      <td>1.965515</td>\n",
       "      <td>1.781038</td>\n",
       "      <td>1.674026</td>\n",
       "    </tr>\n",
       "    <tr>\n",
       "      <th>std</th>\n",
       "      <td>0.114169</td>\n",
       "      <td>0.964952</td>\n",
       "      <td>0.596266</td>\n",
       "      <td>0.425914</td>\n",
       "    </tr>\n",
       "    <tr>\n",
       "      <th>p_breach</th>\n",
       "      <td>NaN</td>\n",
       "      <td>0.044000</td>\n",
       "      <td>0.008000</td>\n",
       "      <td>0.002000</td>\n",
       "    </tr>\n",
       "    <tr>\n",
       "      <th>e_short</th>\n",
       "      <td>NaN</td>\n",
       "      <td>0.108763</td>\n",
       "      <td>0.060852</td>\n",
       "      <td>0.023034</td>\n",
       "    </tr>\n",
       "    <tr>\n",
       "      <th>p_reach</th>\n",
       "      <td>NaN</td>\n",
       "      <td>NaN</td>\n",
       "      <td>NaN</td>\n",
       "      <td>NaN</td>\n",
       "    </tr>\n",
       "    <tr>\n",
       "      <th>e_surplus</th>\n",
       "      <td>NaN</td>\n",
       "      <td>NaN</td>\n",
       "      <td>NaN</td>\n",
       "      <td>NaN</td>\n",
       "    </tr>\n",
       "  </tbody>\n",
       "</table>\n",
       "</div>"
      ],
      "text/plain": [
       "                 FI        Eq     70/30  Glide 80 to 20\n",
       "mean       1.378784  1.965515  1.781038        1.674026\n",
       "std        0.114169  0.964952  0.596266        0.425914\n",
       "p_breach        NaN  0.044000  0.008000        0.002000\n",
       "e_short         NaN  0.108763  0.060852        0.023034\n",
       "p_reach         NaN       NaN       NaN             NaN\n",
       "e_surplus       NaN       NaN       NaN             NaN"
      ]
     },
     "execution_count": 14,
     "metadata": {},
     "output_type": "execute_result"
    }
   ],
   "source": [
    "returns_glidepath8020 = kit.backtest_mix(returns_equity, returns_bonds,\n",
    "                            allocator=glidepath_allocator, start_glide=.80, end_glide=.20)\n",
    "pd.concat([\n",
    "            terminal_stats(returns_bonds, name=\"FI\"),\n",
    "            terminal_stats(returns_equity, name=\"Eq\"),\n",
    "            terminal_stats(returns_7030bond, name=\"70/30\"),\n",
    "            terminal_stats(returns_glidepath8020, name=\"Glide 80 to 20\")\n",
    "          ], axis=1)"
   ]
  },
  {
   "cell_type": "code",
   "execution_count": 15,
   "id": "enhanced-anime",
   "metadata": {},
   "outputs": [
    {
     "data": {
      "text/plain": [
       "<matplotlib.legend.Legend at 0x18e648efb80>"
      ]
     },
     "execution_count": 15,
     "metadata": {},
     "output_type": "execute_result"
    },
    {
     "data": {
      "image/png": "[encoded data removed]",
      "text/plain": [
       "<Figure size 864x432 with 1 Axes>"
      ]
     },
     "metadata": {
      "needs_background": "light"
     },
     "output_type": "display_data"
    }
   ],
   "source": [
    "plt.figure(figsize=(12,6))\n",
    "sns.distplot(kit.terminal_values(returns_equity), color=\"red\", label=\"100% Equities\")\n",
    "sns.distplot(kit.terminal_values(returns_bonds), color=\"blue\", label=\"100% Bonds\")\n",
    "sns.distplot(kit.terminal_values(returns_7030bond), color=\"orange\", label=\"70/30 Equities/Bonds\")\n",
    "sns.distplot(kit.terminal_values(returns_glidepath8020), color=\"green\", label=\"Glide 80 to 20\")\n",
    "plt.legend()"
   ]
  },
  {
   "cell_type": "markdown",
   "id": "previous-death",
   "metadata": {},
   "source": [
    "We can see that this glide path allocator doesn't really solve the problem. You still get breaches. The glide paths very seldom produce superior results.\n",
    "\n",
    "We could try making a portfolio with equities and zero-coupon bonds, but you'llfind that it really doesn't hep in solving the breaching problem."
   ]
  }
 ],
 "metadata": {
  "kernelspec": {
   "display_name": "Python 3",
   "language": "python",
   "name": "python3"
  },
  "language_info": {
   "codemirror_mode": {
    "name": "ipython",
    "version": 3
   },
   "file_extension": ".py",
   "mimetype": "text/x-python",
   "name": "python",
   "nbconvert_exporter": "python",
   "pygments_lexer": "ipython3",
   "version": "3.8.3"
  }
 },
 "nbformat": 4,
 "nbformat_minor": 5
}
