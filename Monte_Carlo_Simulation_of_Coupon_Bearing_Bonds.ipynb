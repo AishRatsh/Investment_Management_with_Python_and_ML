{
 "cells": [
  {
   "cell_type": "markdown",
   "id": "liberal-designer",
   "metadata": {},
   "source": [
    "The first step in order to simulate thousands of different portfolio construction techniques for how to put together a goal hedging portfolio and a performance seeking portfolio is to stitch the CIR model which generates lots of different scenarios for interest rates, to feed those different interest rate scenarios through to our bond pricing and present value calculations that were done."
   ]
  },
  {
   "cell_type": "code",
   "execution_count": 1,
   "id": "polished-lancaster",
   "metadata": {},
   "outputs": [],
   "source": [
    "import numpy as np\n",
    "import pandas as pd\n",
    "import risk_kit as kit\n",
    "%matplotlib inline\n",
    "%load_ext autoreload\n",
    "%autoreload 2"
   ]
  },
  {
   "cell_type": "code",
   "execution_count": 2,
   "id": "raising-voice",
   "metadata": {},
   "outputs": [],
   "source": [
    "def discount(t, r):\n",
    "    \"\"\"\n",
    "    Compute the price of a pure discount bond that pays a dollar at time period t \n",
    "    and r is the per-period interest rate.\n",
    "    Returns a |t|*|r| Series or DataFrame.\n",
    "    r can be a float, Series or DataFrame.\n",
    "    Returns a DataFrame indexed by t\n",
    "    \"\"\"\n",
    "    discounts = pd.DataFrame([(r+1)**-i for i in t])\n",
    "    discounts.index = t\n",
    "    return discounts"
   ]
  },
  {
   "cell_type": "code",
   "execution_count": 3,
   "id": "moving-morris",
   "metadata": {},
   "outputs": [],
   "source": [
    "def pv(flows, r):\n",
    "    \"\"\"\n",
    "    Compute the present value of a sequence of cash flows given by the time (as an index) \n",
    "    and amounts r can be a scalar, or a Series or DataFrame with the number of rows matching\n",
    "    the number of rows in flows. \n",
    "    \"\"\"\n",
    "    dates = flows.index\n",
    "    discounts = discount(dates, r)\n",
    "    return discounts.multiply(flows, axis='rows').sum()"
   ]
  },
  {
   "cell_type": "code",
   "execution_count": 4,
   "id": "boring-adventure",
   "metadata": {},
   "outputs": [
    {
     "data": {
      "text/plain": [
       "0    109.275393\n",
       "dtype: float64"
      ]
     },
     "execution_count": 4,
     "metadata": {},
     "output_type": "execute_result"
    }
   ],
   "source": [
    "# Construct a 5 year bond with face value of 100, coupon rate of 5%, 12 coupons discount rate of 3%\n",
    "kit.bond_price(5, 100, .05, 12, .03)"
   ]
  },
  {
   "cell_type": "markdown",
   "id": "scenic-thirty",
   "metadata": {},
   "source": [
    "109$ makes sense as the coupon is higher than my discount rate, and so the bond is selling at a premium."
   ]
  },
  {
   "cell_type": "code",
   "execution_count": 5,
   "id": "religious-suite",
   "metadata": {},
   "outputs": [
    {
     "data": {
      "text/plain": [
       "1    109.275393\n",
       "2    109.275393\n",
       "3    109.275393\n",
       "dtype: float64"
      ]
     },
     "execution_count": 5,
     "metadata": {},
     "output_type": "execute_result"
    }
   ],
   "source": [
    "# Get rates and 500 scenarios for zero-coupon prices for a bond with 10 year maturity, 500 scenarios\n",
    "rates, zc_prices = kit.cir(10, 500, b=0.03, r_0=0.03)\n",
    "# Check for time step 0 (iloc[0])\n",
    "kit.bond_price(5, 100, 0.05, 12, rates.iloc[0][[1,2,3]])"
   ]
  },
  {
   "cell_type": "markdown",
   "id": "surrounded-assignment",
   "metadata": {},
   "source": [
    "At time t=0, all the interest rates are the same (r_0=0) and so the bond price is exactly the same."
   ]
  },
  {
   "cell_type": "code",
   "execution_count": 6,
   "id": "environmental-newman",
   "metadata": {},
   "outputs": [
    {
     "data": {
      "text/plain": [
       "1    110.669120\n",
       "2    108.626259\n",
       "3    108.592629\n",
       "dtype: float64"
      ]
     },
     "execution_count": 6,
     "metadata": {},
     "output_type": "execute_result"
    }
   ],
   "source": [
    "kit.bond_price(5, 100, 0.05, 12, rates.iloc[1][[1,2,3]])"
   ]
  },
  {
   "cell_type": "code",
   "execution_count": 8,
   "id": "entertaining-breast",
   "metadata": {},
   "outputs": [
    {
     "data": {
      "text/html": [
       "<div>\n",
       "<style scoped>\n",
       "    .dataframe tbody tr th:only-of-type {\n",
       "        vertical-align: middle;\n",
       "    }\n",
       "\n",
       "    .dataframe tbody tr th {\n",
       "        vertical-align: top;\n",
       "    }\n",
       "\n",
       "    .dataframe thead th {\n",
       "        text-align: right;\n",
       "    }\n",
       "</style>\n",
       "<table border=\"1\" class=\"dataframe\">\n",
       "  <thead>\n",
       "    <tr style=\"text-align: right;\">\n",
       "      <th></th>\n",
       "      <th>1</th>\n",
       "      <th>2</th>\n",
       "      <th>3</th>\n",
       "    </tr>\n",
       "  </thead>\n",
       "  <tbody>\n",
       "    <tr>\n",
       "      <th>0</th>\n",
       "      <td>0.030000</td>\n",
       "      <td>0.030000</td>\n",
       "      <td>0.030000</td>\n",
       "    </tr>\n",
       "    <tr>\n",
       "      <th>1</th>\n",
       "      <td>0.027156</td>\n",
       "      <td>0.031338</td>\n",
       "      <td>0.031408</td>\n",
       "    </tr>\n",
       "    <tr>\n",
       "      <th>2</th>\n",
       "      <td>0.025874</td>\n",
       "      <td>0.029883</td>\n",
       "      <td>0.031004</td>\n",
       "    </tr>\n",
       "    <tr>\n",
       "      <th>3</th>\n",
       "      <td>0.026365</td>\n",
       "      <td>0.027578</td>\n",
       "      <td>0.028562</td>\n",
       "    </tr>\n",
       "    <tr>\n",
       "      <th>4</th>\n",
       "      <td>0.026240</td>\n",
       "      <td>0.028158</td>\n",
       "      <td>0.029446</td>\n",
       "    </tr>\n",
       "  </tbody>\n",
       "</table>\n",
       "</div>"
      ],
      "text/plain": [
       "          1         2         3\n",
       "0  0.030000  0.030000  0.030000\n",
       "1  0.027156  0.031338  0.031408\n",
       "2  0.025874  0.029883  0.031004\n",
       "3  0.026365  0.027578  0.028562\n",
       "4  0.026240  0.028158  0.029446"
      ]
     },
     "execution_count": 8,
     "metadata": {},
     "output_type": "execute_result"
    }
   ],
   "source": [
    "# Why did the bond prices start to diverge at time t=1? Look at the rates used.\n",
    "rates[[1,2,3]].head()"
   ]
  },
  {
   "cell_type": "markdown",
   "id": "close-automation",
   "metadata": {},
   "source": [
    "Because the interest rates moved, the bond prices moved."
   ]
  },
  {
   "cell_type": "code",
   "execution_count": 13,
   "id": "nasty-wallpaper",
   "metadata": {},
   "outputs": [],
   "source": [
    "# Include to process discount rate as a dataframe in the bond price function.\n",
    "def bond_price(maturity, principal=100, coupon_rate=0.03, coupons_per_year=12, discount_rate=0.03):\n",
    "    \"\"\"\n",
    "    Computes the price of a bond that pays regular coupons until maturity at which time \n",
    "    the principal and the final coupon is returned.\n",
    "    This is not designed to be efficient, rather, it is to illustrate the underlying \n",
    "    principle behind bond pricing.\n",
    "    If discount_rate is a DataFrame, then this is assumed to be the rate on each coupon rate and \n",
    "    the bond value is computed over time.\n",
    "    i.e: The index of the discount_rate DataFrame is assumed to be the coupon number.\n",
    "    \"\"\"\n",
    "    if isinstance(discount_rate, pd.DataFrame):\n",
    "        pricing_dates = discount_rate.index\n",
    "        prices = pd.DataFrame(index=pricing_dates, columns=discount_rate.columns)\n",
    "        for t in pricing_dates:\n",
    "            prices.iloc[t] = kit.bond_price(maturity-t/coupons_per_year, principal, coupon_rate, \n",
    "                                        coupons_per_year, discount_rate.loc[t])\n",
    "        return prices\n",
    "    else: # base case ...single time period\n",
    "        if maturity <= 0: return principal+principal*coupon_rate/coupons_per_year\n",
    "        cash_flows = kit.bond_cash_flows(maturity, principal, coupon_rate, coupons_per_year)\n",
    "        return pv(cash_flows, discount_rate/coupons_per_year)"
   ]
  },
  {
   "cell_type": "code",
   "execution_count": 17,
   "id": "honey-magazine",
   "metadata": {},
   "outputs": [],
   "source": [
    "# 10 year bond\n",
    "prices = kit.bond_price(10, 100, 0.05, 12, rates[[1,2,3,4,5]])"
   ]
  },
  {
   "cell_type": "code",
   "execution_count": 18,
   "id": "instant-directory",
   "metadata": {},
   "outputs": [
    {
     "data": {
      "text/plain": [
       "<matplotlib.axes._subplots.AxesSubplot at 0x1cc70b44520>"
      ]
     },
     "execution_count": 18,
     "metadata": {},
     "output_type": "execute_result"
    },
    {
     "data": {
      "image/png": "[encoded data removed]",
      "text/plain": [
       "<Figure size 1080x360 with 1 Axes>"
      ]
     },
     "metadata": {
      "needs_background": "light"
     },
     "output_type": "display_data"
    }
   ],
   "source": [
    "kit.bond_price(10, 100, 0.05, 12, rates[[1,2,3,4,5]]).plot(legend=False, figsize=(15,5))"
   ]
  },
  {
   "cell_type": "markdown",
   "id": "respective-restriction",
   "metadata": {},
   "source": [
    "The possible price of this bond diverges as interest rates change. "
   ]
  },
  {
   "cell_type": "markdown",
   "id": "specific-carbon",
   "metadata": {},
   "source": [
    "*Why are we doing this?*\n",
    "\n",
    "We want to generate random bond prices so that we can generate returns from these random bond prices. Once we get the returns from a bond portfolio, we can then construct the returns of a portfolio that consists of a mix of stocks and bonds.  "
   ]
  },
  {
   "cell_type": "markdown",
   "id": "boolean-massachusetts",
   "metadata": {},
   "source": [
    "What do we do in order to get the returns of a bond? "
   ]
  },
  {
   "cell_type": "code",
   "execution_count": 22,
   "id": "headed-programmer",
   "metadata": {},
   "outputs": [
    {
     "data": {
      "text/plain": [
       "1   -0.015387\n",
       "2   -0.015387\n",
       "3   -0.015387\n",
       "4   -0.015387\n",
       "5   -0.015387\n",
       "dtype: float64"
      ]
     },
     "execution_count": 22,
     "metadata": {},
     "output_type": "execute_result"
    }
   ],
   "source": [
    "# To check if I can use percentage change to calculate returns\n",
    "bond_returns = prices.pct_change().dropna()\n",
    "kit.annualize_rets(bond_returns, 12)"
   ]
  },
  {
   "cell_type": "markdown",
   "id": "retained-dodge",
   "metadata": {},
   "source": [
    "The above results are very strange because the above answer represents the price return. This is just the price of the bond representing the capital gain or loss of the bond. What we are interested is in the **total return** of the bond. The total return of the bond is the value that you get not just from the price appreciation or loss, but also the value of the coupons."
   ]
  },
  {
   "cell_type": "code",
   "execution_count": 25,
   "id": "unsigned-nebraska",
   "metadata": {},
   "outputs": [],
   "source": [
    "# Total return of the bond\n",
    "def bond_total_return(monthly_prices, principal, coupon_rate, coupons_per_year):\n",
    "    \"\"\"\n",
    "    Computes the total return of a bond based on monthly bond prices and coupon payments. \n",
    "    Assumes that dividends (coupons) are paid out at the end of the period (eg: end of \n",
    "    3 months for quarterly div) and that dividends are reinvested in bonds. \n",
    "    \"\"\"\n",
    "    coupons = pd.DataFrame(data=0, index=monthly_prices.index, columns=monthly_prices.columns)\n",
    "    t_max = monthly_prices.index.max()\n",
    "    # Space pay dates over time - monthly \n",
    "    pay_date = np.linspace(12/coupons_per_year, t_max, int(coupons_per_year*t_max/12), dtype=int)\n",
    "    coupons.iloc[pay_date] = principal*coupon_rate/coupons_per_year\n",
    "    total_returns = (monthly_prices + coupons)/monthly_prices.shift()-1\n",
    "    return total_returns.dropna()"
   ]
  },
  {
   "cell_type": "code",
   "execution_count": 26,
   "id": "first-blackberry",
   "metadata": {},
   "outputs": [
    {
     "data": {
      "text/plain": [
       "1    0.029439\n",
       "2     0.03133\n",
       "3    0.032538\n",
       "4    0.030481\n",
       "dtype: object"
      ]
     },
     "execution_count": 26,
     "metadata": {},
     "output_type": "execute_result"
    }
   ],
   "source": [
    "monthly_prices = kit.bond_price(10, 100, .05, 12, rates[[1,2,3,4]])\n",
    "bond_total_return = bond_total_return(monthly_prices, 100, .05, 12)\n",
    "kit.annualize_rets(bond_total_return, 12)"
   ]
  },
  {
   "cell_type": "markdown",
   "id": "horizontal-guard",
   "metadata": {},
   "source": [
    "You can see that the total returns that you get from a non-zero coupon paying bond are affected by interest rates. Because those intermediate coupons get reinvested at the then rate. The 'then rate' is a number that changes over time.I don't even know what the interest rate is going to be 5years from now or even next month. So Bond Prices change over time and are even the total return is affected by interest rates, because of those intermediate payments."
   ]
  },
  {
   "cell_type": "markdown",
   "id": "practical-cabin",
   "metadata": {},
   "source": [
    "Now we can generate prices from which we can generate returns. Now, we can start experimenting across asset classes."
   ]
  },
  {
   "cell_type": "code",
   "execution_count": 29,
   "id": "living-preservation",
   "metadata": {},
   "outputs": [
    {
     "data": {
      "text/html": [
       "<div>\n",
       "<style scoped>\n",
       "    .dataframe tbody tr th:only-of-type {\n",
       "        vertical-align: middle;\n",
       "    }\n",
       "\n",
       "    .dataframe tbody tr th {\n",
       "        vertical-align: top;\n",
       "    }\n",
       "\n",
       "    .dataframe thead th {\n",
       "        text-align: right;\n",
       "    }\n",
       "</style>\n",
       "<table border=\"1\" class=\"dataframe\">\n",
       "  <thead>\n",
       "    <tr style=\"text-align: right;\">\n",
       "      <th></th>\n",
       "      <th>1</th>\n",
       "      <th>2</th>\n",
       "      <th>3</th>\n",
       "    </tr>\n",
       "  </thead>\n",
       "  <tbody>\n",
       "    <tr>\n",
       "      <th>116</th>\n",
       "      <td>101.410585</td>\n",
       "      <td>101.027892</td>\n",
       "      <td>101.074127</td>\n",
       "    </tr>\n",
       "    <tr>\n",
       "      <th>117</th>\n",
       "      <td>100.991038</td>\n",
       "      <td>100.746078</td>\n",
       "      <td>100.715202</td>\n",
       "    </tr>\n",
       "    <tr>\n",
       "      <th>118</th>\n",
       "      <td>100.616594</td>\n",
       "      <td>100.508289</td>\n",
       "      <td>100.490175</td>\n",
       "    </tr>\n",
       "    <tr>\n",
       "      <th>119</th>\n",
       "      <td>100.290203</td>\n",
       "      <td>100.277121</td>\n",
       "      <td>100.225911</td>\n",
       "    </tr>\n",
       "    <tr>\n",
       "      <th>120</th>\n",
       "      <td>100.416667</td>\n",
       "      <td>100.416667</td>\n",
       "      <td>100.416667</td>\n",
       "    </tr>\n",
       "  </tbody>\n",
       "</table>\n",
       "</div>"
      ],
      "text/plain": [
       "              1           2           3\n",
       "116  101.410585  101.027892  101.074127\n",
       "117  100.991038  100.746078  100.715202\n",
       "118  100.616594  100.508289  100.490175\n",
       "119  100.290203  100.277121  100.225911\n",
       "120  100.416667  100.416667  100.416667"
      ]
     },
     "execution_count": 29,
     "metadata": {},
     "output_type": "execute_result"
    }
   ],
   "source": [
    "# Simple asset Class\n",
    "\n",
    "# Assume that I have got 10 year bond\n",
    "price_10 = kit.bond_price(10, 100, .05, 12, rates)\n",
    "price_10[[1,2,3]].tail()"
   ]
  },
  {
   "cell_type": "markdown",
   "id": "absent-mediterranean",
   "metadata": {},
   "source": [
    "At the end of the bond period, the bond price has converged to the final payment."
   ]
  },
  {
   "cell_type": "code",
   "execution_count": 30,
   "id": "innovative-space",
   "metadata": {},
   "outputs": [
    {
     "data": {
      "text/html": [
       "<div>\n",
       "<style scoped>\n",
       "    .dataframe tbody tr th:only-of-type {\n",
       "        vertical-align: middle;\n",
       "    }\n",
       "\n",
       "    .dataframe tbody tr th {\n",
       "        vertical-align: top;\n",
       "    }\n",
       "\n",
       "    .dataframe thead th {\n",
       "        text-align: right;\n",
       "    }\n",
       "</style>\n",
       "<table border=\"1\" class=\"dataframe\">\n",
       "  <thead>\n",
       "    <tr style=\"text-align: right;\">\n",
       "      <th></th>\n",
       "      <th>1</th>\n",
       "      <th>2</th>\n",
       "      <th>3</th>\n",
       "    </tr>\n",
       "  </thead>\n",
       "  <tbody>\n",
       "    <tr>\n",
       "      <th>116</th>\n",
       "      <td>179.817889</td>\n",
       "      <td>152.161946</td>\n",
       "      <td>155.21817</td>\n",
       "    </tr>\n",
       "    <tr>\n",
       "      <th>117</th>\n",
       "      <td>172.558494</td>\n",
       "      <td>149.797916</td>\n",
       "      <td>147.193786</td>\n",
       "    </tr>\n",
       "    <tr>\n",
       "      <th>118</th>\n",
       "      <td>165.739882</td>\n",
       "      <td>150.974929</td>\n",
       "      <td>148.6641</td>\n",
       "    </tr>\n",
       "    <tr>\n",
       "      <th>119</th>\n",
       "      <td>160.354934</td>\n",
       "      <td>156.786363</td>\n",
       "      <td>143.717319</td>\n",
       "    </tr>\n",
       "    <tr>\n",
       "      <th>120</th>\n",
       "      <td>157.43151</td>\n",
       "      <td>161.118008</td>\n",
       "      <td>143.559163</td>\n",
       "    </tr>\n",
       "  </tbody>\n",
       "</table>\n",
       "</div>"
      ],
      "text/plain": [
       "              1           2           3\n",
       "116  179.817889  152.161946   155.21817\n",
       "117  172.558494  149.797916  147.193786\n",
       "118  165.739882  150.974929    148.6641\n",
       "119  160.354934  156.786363  143.717319\n",
       "120   157.43151  161.118008  143.559163"
      ]
     },
     "execution_count": 30,
     "metadata": {},
     "output_type": "execute_result"
    }
   ],
   "source": [
    "# Now construct a 30 year bond\n",
    "price_30 = kit.bond_price(30, 100, .05, 12, rates)\n",
    "price_30[[1,2,3]].tail()"
   ]
  },
  {
   "cell_type": "markdown",
   "id": "organizational-gamma",
   "metadata": {},
   "source": [
    "The interest rates were generated for 10 years (CIR model ran for 10 years). The above prices are of a 30-year bond over 10 years. The prices at the end do not converge because I still have maturity left; still have 20 years to go."
   ]
  },
  {
   "cell_type": "code",
   "execution_count": 31,
   "id": "harmful-issue",
   "metadata": {},
   "outputs": [
    {
     "data": {
      "text/html": [
       "<div>\n",
       "<style scoped>\n",
       "    .dataframe tbody tr th:only-of-type {\n",
       "        vertical-align: middle;\n",
       "    }\n",
       "\n",
       "    .dataframe tbody tr th {\n",
       "        vertical-align: top;\n",
       "    }\n",
       "\n",
       "    .dataframe thead th {\n",
       "        text-align: right;\n",
       "    }\n",
       "</style>\n",
       "<table border=\"1\" class=\"dataframe\">\n",
       "  <thead>\n",
       "    <tr style=\"text-align: right;\">\n",
       "      <th></th>\n",
       "      <th>1</th>\n",
       "      <th>2</th>\n",
       "      <th>3</th>\n",
       "    </tr>\n",
       "  </thead>\n",
       "  <tbody>\n",
       "    <tr>\n",
       "      <th>0</th>\n",
       "      <td>139.531564</td>\n",
       "      <td>139.531564</td>\n",
       "      <td>139.531564</td>\n",
       "    </tr>\n",
       "    <tr>\n",
       "      <th>1</th>\n",
       "      <td>146.754769</td>\n",
       "      <td>136.202284</td>\n",
       "      <td>136.035587</td>\n",
       "    </tr>\n",
       "    <tr>\n",
       "      <th>2</th>\n",
       "      <td>150.118331</td>\n",
       "      <td>139.685079</td>\n",
       "      <td>136.943864</td>\n",
       "    </tr>\n",
       "    <tr>\n",
       "      <th>3</th>\n",
       "      <td>148.69614</td>\n",
       "      <td>145.47701</td>\n",
       "      <td>142.936775</td>\n",
       "    </tr>\n",
       "    <tr>\n",
       "      <th>4</th>\n",
       "      <td>148.941647</td>\n",
       "      <td>143.892999</td>\n",
       "      <td>140.631117</td>\n",
       "    </tr>\n",
       "  </tbody>\n",
       "</table>\n",
       "</div>"
      ],
      "text/plain": [
       "            1           2           3\n",
       "0  139.531564  139.531564  139.531564\n",
       "1  146.754769  136.202284  136.035587\n",
       "2  150.118331  139.685079  136.943864\n",
       "3   148.69614   145.47701  142.936775\n",
       "4  148.941647  143.892999  140.631117"
      ]
     },
     "execution_count": 31,
     "metadata": {},
     "output_type": "execute_result"
    }
   ],
   "source": [
    "# Look at the prices in the beginning\n",
    "price_30[[1,2,3]].head()"
   ]
  },
  {
   "cell_type": "markdown",
   "id": "young-peninsula",
   "metadata": {},
   "source": [
    "They start out at exactly the same place. The bond prices variate in 10 years and this is why you should not use long bond as your hedge, you are not safe. You do not know the value of your portfolio 10 years from now."
   ]
  },
  {
   "cell_type": "code",
   "execution_count": 32,
   "id": "cellular-imperial",
   "metadata": {},
   "outputs": [],
   "source": [
    "# Compute Returns\n",
    "returns_30 = kit.bond_total_return(price_30, 100, .05, 12)\n",
    "returns_10 = kit.bond_total_return(price_10, 100, .05, 12)\n",
    "\n",
    "# Construct a new bond portfolio with a 60-40 mix of the 10year and the 40year bonds. \n",
    "# I am assuming that we are re-balancing bak to 60-40 at the end of every month. \n",
    "# [That is why this works. Otherwise you would have to drift the weights over time. At the end of the first month, \n",
    "# because of the difference in returns, you are not at 60-40 anymore. So you'd have to \n",
    "# figure out what those new weights are and compute them.]\n",
    "\n",
    "returns_bonds = 0.6*returns_10 + 0.04*returns_30 "
   ]
  },
  {
   "cell_type": "markdown",
   "id": "efficient-paradise",
   "metadata": {},
   "source": [
    "Now I am going to generate the price and the returns of a stock portfolio."
   ]
  },
  {
   "cell_type": "code",
   "execution_count": 34,
   "id": "hollywood-tenant",
   "metadata": {},
   "outputs": [
    {
     "data": {
      "text/html": [
       "<div>\n",
       "<style scoped>\n",
       "    .dataframe tbody tr th:only-of-type {\n",
       "        vertical-align: middle;\n",
       "    }\n",
       "\n",
       "    .dataframe tbody tr th {\n",
       "        vertical-align: top;\n",
       "    }\n",
       "\n",
       "    .dataframe thead th {\n",
       "        text-align: right;\n",
       "    }\n",
       "</style>\n",
       "<table border=\"1\" class=\"dataframe\">\n",
       "  <thead>\n",
       "    <tr style=\"text-align: right;\">\n",
       "      <th></th>\n",
       "      <th>Annualied Return</th>\n",
       "      <th>Annualized Vol</th>\n",
       "      <th>Skewness</th>\n",
       "      <th>Kurtosis</th>\n",
       "      <th>Cornish-Fisher VaR (5%)</th>\n",
       "      <th>Historic CVaR (5%)</th>\n",
       "      <th>Sharpe Ratio</th>\n",
       "      <th>Max Drawdown</th>\n",
       "    </tr>\n",
       "  </thead>\n",
       "  <tbody>\n",
       "    <tr>\n",
       "      <th>0</th>\n",
       "      <td>0.020742</td>\n",
       "      <td>0.001545</td>\n",
       "      <td>1.195662</td>\n",
       "      <td>9.35807</td>\n",
       "      <td>-0.001202</td>\n",
       "      <td>-0.000818</td>\n",
       "      <td>-5.832888</td>\n",
       "      <td>0.0</td>\n",
       "    </tr>\n",
       "  </tbody>\n",
       "</table>\n",
       "</div>"
      ],
      "text/plain": [
       "   Annualied Return  Annualized Vol  Skewness  Kurtosis  \\\n",
       "0          0.020742        0.001545  1.195662   9.35807   \n",
       "\n",
       "   Cornish-Fisher VaR (5%)  Historic CVaR (5%)  Sharpe Ratio  Max Drawdown  \n",
       "0                -0.001202           -0.000818     -5.832888           0.0  "
      ]
     },
     "execution_count": 34,
     "metadata": {},
     "output_type": "execute_result"
    }
   ],
   "source": [
    "# This is not a good idea, some people do this - to create a composite \n",
    "# return with the average of all those scenarios.\n",
    "mean_returns_bond = returns_bonds.mean(axis='columns') # Every column is a different scenario\n",
    "kit.summary_stats(pd.DataFrame(mean_returns_bond))"
   ]
  },
  {
   "cell_type": "markdown",
   "id": "center-sigma",
   "metadata": {},
   "source": [
    "This composite seems to have no drawdown. "
   ]
  },
  {
   "cell_type": "markdown",
   "id": "plastic-popularity",
   "metadata": {},
   "source": [
    "Now, look at ***Equities***."
   ]
  },
  {
   "cell_type": "code",
   "execution_count": 42,
   "id": "cultural-whale",
   "metadata": {},
   "outputs": [
    {
     "data": {
      "text/plain": [
       "(121, 500)"
      ]
     },
     "execution_count": 42,
     "metadata": {},
     "output_type": "execute_result"
    }
   ],
   "source": [
    "price_equities = kit.gbm(n_years=10, n_scenarios=500, mu=0.07, sigma=0.15)\n",
    "price_equities.shape"
   ]
  },
  {
   "cell_type": "markdown",
   "id": "significant-exercise",
   "metadata": {},
   "source": [
    "What we got here is the prices. Now we want to calculate the returns. \n"
   ]
  },
  {
   "cell_type": "code",
   "execution_count": 43,
   "id": "interstate-works",
   "metadata": {},
   "outputs": [
    {
     "data": {
      "text/plain": [
       "(120, 500)"
      ]
     },
     "execution_count": 43,
     "metadata": {},
     "output_type": "execute_result"
    }
   ],
   "source": [
    "returns_equities = price_equities.pct_change().dropna()\n",
    "returns_equities.shape"
   ]
  },
  {
   "cell_type": "code",
   "execution_count": 44,
   "id": "miniature-covering",
   "metadata": {},
   "outputs": [
    {
     "data": {
      "text/plain": [
       "(120, 500)"
      ]
     },
     "execution_count": 44,
     "metadata": {},
     "output_type": "execute_result"
    }
   ],
   "source": [
    "returns_bonds.shape"
   ]
  },
  {
   "cell_type": "markdown",
   "id": "regulated-concentrate",
   "metadata": {},
   "source": [
    "Now we can start combining these two. "
   ]
  },
  {
   "cell_type": "code",
   "execution_count": 45,
   "id": "innocent-spanish",
   "metadata": {},
   "outputs": [
    {
     "data": {
      "text/html": [
       "<div>\n",
       "<style scoped>\n",
       "    .dataframe tbody tr th:only-of-type {\n",
       "        vertical-align: middle;\n",
       "    }\n",
       "\n",
       "    .dataframe tbody tr th {\n",
       "        vertical-align: top;\n",
       "    }\n",
       "\n",
       "    .dataframe thead th {\n",
       "        text-align: right;\n",
       "    }\n",
       "</style>\n",
       "<table border=\"1\" class=\"dataframe\">\n",
       "  <thead>\n",
       "    <tr style=\"text-align: right;\">\n",
       "      <th></th>\n",
       "      <th>Annualied Return</th>\n",
       "      <th>Annualized Vol</th>\n",
       "      <th>Skewness</th>\n",
       "      <th>Kurtosis</th>\n",
       "      <th>Cornish-Fisher VaR (5%)</th>\n",
       "      <th>Historic CVaR (5%)</th>\n",
       "      <th>Sharpe Ratio</th>\n",
       "      <th>Max Drawdown</th>\n",
       "    </tr>\n",
       "  </thead>\n",
       "  <tbody>\n",
       "    <tr>\n",
       "      <th>0</th>\n",
       "      <td>0.057902</td>\n",
       "      <td>0.005007</td>\n",
       "      <td>-0.116109</td>\n",
       "      <td>3.236012</td>\n",
       "      <td>-0.002295</td>\n",
       "      <td>-0.001541</td>\n",
       "      <td>5.423493</td>\n",
       "      <td>0.0</td>\n",
       "    </tr>\n",
       "  </tbody>\n",
       "</table>\n",
       "</div>"
      ],
      "text/plain": [
       "   Annualied Return  Annualized Vol  Skewness  Kurtosis  \\\n",
       "0          0.057902        0.005007 -0.116109  3.236012   \n",
       "\n",
       "   Cornish-Fisher VaR (5%)  Historic CVaR (5%)  Sharpe Ratio  Max Drawdown  \n",
       "0                -0.002295           -0.001541      5.423493           0.0  "
      ]
     },
     "execution_count": 45,
     "metadata": {},
     "output_type": "execute_result"
    }
   ],
   "source": [
    "#A stock-bond mix with 70-30 mix.\n",
    "returns_eq = .7*returns_equities + .3*returns_bonds\n",
    "rets_mean = returns_eq.mean(axis='columns')\n",
    "kit.summary_stats(pd.DataFrame(rets_mean))"
   ]
  },
  {
   "cell_type": "markdown",
   "id": "complex-proof",
   "metadata": {},
   "source": [
    "Now I have got a series of returns for a 0-30 mix of stocks and bonds. "
   ]
  },
  {
   "cell_type": "markdown",
   "id": "monetary-escape",
   "metadata": {},
   "source": [
    "We generated random stock prices and random bond prices and we created a ***fixed-mix allocator*** \n",
    "(70-30 mix).\n",
    "\n",
    "**Now we have to find the solution for the allocation poblem, given a certain liability stream.**\n",
    "\n",
    "With assets and liabilities, to decide where to put the money. How much should I put in stocks \n",
    "and how much should I put in bonds?"
   ]
  }
 ],
 "metadata": {
  "kernelspec": {
   "display_name": "Python 3",
   "language": "python",
   "name": "python3"
  },
  "language_info": {
   "codemirror_mode": {
    "name": "ipython",
    "version": 3
   },
   "file_extension": ".py",
   "mimetype": "text/x-python",
   "name": "python",
   "nbconvert_exporter": "python",
   "pygments_lexer": "ipython3",
   "version": "3.8.3"
  }
 },
 "nbformat": 4,
 "nbformat_minor": 5
}
